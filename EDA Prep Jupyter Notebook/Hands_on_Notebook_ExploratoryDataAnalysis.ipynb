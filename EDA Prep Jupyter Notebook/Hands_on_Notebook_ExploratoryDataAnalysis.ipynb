{
  "cells": [
    {
      "attachments": {},
      "cell_type": "markdown",
      "metadata": {
        "id": "JffhyoX0BwrY"
      },
      "source": [
        "# Import Dependencies"
      ]
    },
    {
      "cell_type": "code",
      "execution_count": 1,
      "metadata": {
        "id": "p1SFUqTLxEGM"
      },
      "outputs": [],
      "source": [
        "# Libraries to help with reading and manipulating data\n",
        "import numpy as np\n",
        "import pandas as pd\n",
        "import random\n",
        "\n",
        "# Libraries to help with data visualization\n",
        "import matplotlib.pyplot as plt\n",
        "import seaborn as sns\n",
        "\n",
        "# Plotly\n",
        "import plotly.graph_objects as go\n",
        "from plotly.subplots import make_subplots\n",
        "import plotly.express as px\n",
        "\n",
        "\n",
        "# Libraries to reduce file size\n",
        "import pyarrow as pa\n",
        "import pyarrow.parquet as pq\n",
        "\n",
        "# Library to help with reading in datasets\n",
        "import os\n",
        "\n",
        "# to restrict the float value to 2 decimal places\n",
        "pd.set_option('display.float_format', lambda x: '%.2f' % x)\n",
        "pd.set_option('display.max_rows', 50)\n",
        "\n",
        "# Command to tell Matplotlib/Python to show all graphs\n",
        "%matplotlib inline"
      ]
    },
    {
      "attachments": {},
      "cell_type": "markdown",
      "metadata": {},
      "source": [
        "### MAPBOX"
      ]
    },
    {
      "cell_type": "code",
      "execution_count": 2,
      "metadata": {},
      "outputs": [],
      "source": [
        "# Mapbox\n",
        "# import plotly.io as pio\n",
        "# import plotly.offline as pyo\n",
        "## set notebook mode to work in offline mode\n",
        "# pyo.init_notebook_mode()\n",
        "# api_token = input(\"Enter API Toke for Mapbox\")"
      ]
    },
    {
      "attachments": {},
      "cell_type": "markdown",
      "metadata": {},
      "source": [
        "# INPUT THE NAME OF THE FILE HERE"
      ]
    },
    {
      "cell_type": "code",
      "execution_count": 3,
      "metadata": {},
      "outputs": [],
      "source": [
        "#! Enter the name of csv file but DO NOT include extension (\".csv\")  \n",
        "CSV_file_name = \"Cancellation_Rules\""
      ]
    },
    {
      "attachments": {},
      "cell_type": "markdown",
      "metadata": {},
      "source": [
        "# -------------***************************** ------------------"
      ]
    },
    {
      "cell_type": "code",
      "execution_count": 4,
      "metadata": {},
      "outputs": [],
      "source": [
        "# Directory where the csv file is stored\n",
        "csv_directory = 'C:/Users/BoboDS/Desktop/Great_Learning/Sample_Datasets'\n",
        "\n",
        "# Input and output file paths\n",
        "# input_CSV_path \n",
        "input_file= os.path.join(csv_directory, CSV_file_name + \".csv\")\n",
        "# output_parquet_path \n",
        "output_file = os.path.join(csv_directory, CSV_file_name + \".parquet\")"
      ]
    },
    {
      "attachments": {},
      "cell_type": "markdown",
      "metadata": {
        "id": "L1ASy9VcBwrZ"
      },
      "source": [
        "## **Importing the dataset**"
      ]
    },
    {
      "cell_type": "code",
      "execution_count": 5,
      "metadata": {},
      "outputs": [
        {
          "data": {
            "text/html": [
              "<div>\n",
              "<style scoped>\n",
              "    .dataframe tbody tr th:only-of-type {\n",
              "        vertical-align: middle;\n",
              "    }\n",
              "\n",
              "    .dataframe tbody tr th {\n",
              "        vertical-align: top;\n",
              "    }\n",
              "\n",
              "    .dataframe thead th {\n",
              "        text-align: right;\n",
              "    }\n",
              "</style>\n",
              "<table border=\"1\" class=\"dataframe\">\n",
              "  <thead>\n",
              "    <tr style=\"text-align: right;\">\n",
              "      <th></th>\n",
              "      <th>sg_form3_form</th>\n",
              "      <th>sg_form3_state</th>\n",
              "      <th>sg_form3_plc</th>\n",
              "      <th>sg_form3_lh_id</th>\n",
              "      <th>sg_form3_seq</th>\n",
              "      <th>sg_form3_carrier</th>\n",
              "      <th>sg_form3_nu</th>\n",
              "      <th>sg_form3_type</th>\n",
              "      <th>sg_form3_minterm</th>\n",
              "      <th>sg_form3_maxterm</th>\n",
              "      <th>...</th>\n",
              "      <th>sg_form3_t3cper</th>\n",
              "      <th>sg_form3_t3cfee</th>\n",
              "      <th>sg_form3_t3ccan</th>\n",
              "      <th>sg_form3_t3crtyp</th>\n",
              "      <th>sg_form3_t3cclms</th>\n",
              "      <th>sg_form3_t3cctyp</th>\n",
              "      <th>sg_form3_t3ccper</th>\n",
              "      <th>sg_form3_t3ccfee</th>\n",
              "      <th>sg_form3_scandt</th>\n",
              "      <th>sg_form3_ecandt</th>\n",
              "    </tr>\n",
              "  </thead>\n",
              "  <tbody>\n",
              "    <tr>\n",
              "      <th>585</th>\n",
              "      <td>ECOPTPVSC</td>\n",
              "      <td>MO</td>\n",
              "      <td>OPTR</td>\n",
              "      <td>0</td>\n",
              "      <td>1</td>\n",
              "      <td>NaN</td>\n",
              "      <td>U</td>\n",
              "      <td>NaN</td>\n",
              "      <td>0</td>\n",
              "      <td>0</td>\n",
              "      <td>...</td>\n",
              "      <td>0.00</td>\n",
              "      <td>0.00</td>\n",
              "      <td></td>\n",
              "      <td></td>\n",
              "      <td></td>\n",
              "      <td></td>\n",
              "      <td>0.00</td>\n",
              "      <td>0.00</td>\n",
              "      <td>1799-12-31</td>\n",
              "      <td>1799-12-31</td>\n",
              "    </tr>\n",
              "    <tr>\n",
              "      <th>397</th>\n",
              "      <td>ECOPGPPL</td>\n",
              "      <td>OR</td>\n",
              "      <td>OPPL</td>\n",
              "      <td>0</td>\n",
              "      <td>1</td>\n",
              "      <td>NaN</td>\n",
              "      <td>U</td>\n",
              "      <td>NaN</td>\n",
              "      <td>0</td>\n",
              "      <td>0</td>\n",
              "      <td>...</td>\n",
              "      <td>0.00</td>\n",
              "      <td>0.00</td>\n",
              "      <td></td>\n",
              "      <td></td>\n",
              "      <td></td>\n",
              "      <td></td>\n",
              "      <td>0.00</td>\n",
              "      <td>0.00</td>\n",
              "      <td>1799-12-31</td>\n",
              "      <td>1799-12-31</td>\n",
              "    </tr>\n",
              "    <tr>\n",
              "      <th>613</th>\n",
              "      <td>ECOPTPVSC+</td>\n",
              "      <td>AK</td>\n",
              "      <td>OPTS</td>\n",
              "      <td>0</td>\n",
              "      <td>1</td>\n",
              "      <td>NaN</td>\n",
              "      <td>U</td>\n",
              "      <td>NaN</td>\n",
              "      <td>0</td>\n",
              "      <td>0</td>\n",
              "      <td>...</td>\n",
              "      <td>0.00</td>\n",
              "      <td>0.00</td>\n",
              "      <td></td>\n",
              "      <td></td>\n",
              "      <td></td>\n",
              "      <td></td>\n",
              "      <td>0.00</td>\n",
              "      <td>0.00</td>\n",
              "      <td>1799-12-31</td>\n",
              "      <td>1799-12-31</td>\n",
              "    </tr>\n",
              "  </tbody>\n",
              "</table>\n",
              "<p>3 rows × 71 columns</p>\n",
              "</div>"
            ],
            "text/plain": [
              "       sg_form3_form sg_form3_state sg_form3_plc  sg_form3_lh_id  \\\n",
              "585  ECOPTPVSC                   MO         OPTR               0   \n",
              "397  ECOPGPPL                    OR         OPPL               0   \n",
              "613  ECOPTPVSC+                  AK         OPTS               0   \n",
              "\n",
              "     sg_form3_seq  sg_form3_carrier sg_form3_nu  sg_form3_type  \\\n",
              "585             1               NaN           U            NaN   \n",
              "397             1               NaN           U            NaN   \n",
              "613             1               NaN           U            NaN   \n",
              "\n",
              "     sg_form3_minterm  sg_form3_maxterm  ...  sg_form3_t3cper  \\\n",
              "585                 0                 0  ...             0.00   \n",
              "397                 0                 0  ...             0.00   \n",
              "613                 0                 0  ...             0.00   \n",
              "\n",
              "     sg_form3_t3cfee  sg_form3_t3ccan  sg_form3_t3crtyp  sg_form3_t3cclms  \\\n",
              "585             0.00                                                        \n",
              "397             0.00                                                        \n",
              "613             0.00                                                        \n",
              "\n",
              "    sg_form3_t3cctyp sg_form3_t3ccper sg_form3_t3ccfee sg_form3_scandt  \\\n",
              "585                              0.00             0.00      1799-12-31   \n",
              "397                              0.00             0.00      1799-12-31   \n",
              "613                              0.00             0.00      1799-12-31   \n",
              "\n",
              "     sg_form3_ecandt  \n",
              "585       1799-12-31  \n",
              "397       1799-12-31  \n",
              "613       1799-12-31  \n",
              "\n",
              "[3 rows x 71 columns]"
            ]
          },
          "execution_count": 5,
          "metadata": {},
          "output_type": "execute_result"
        }
      ],
      "source": [
        "def convert_to_parquet(input_file, output_file):\n",
        "    # Read the input file into a Pandas DataFrame\n",
        "    data = pd.read_csv(input_file, chunksize = 100000)\n",
        "    data_combined = pd.concat(data)\n",
        "    \n",
        "    # Convert the DataFrame to an Arrow Table\n",
        "    table = pa.Table.from_pandas(data_combined)\n",
        "\n",
        "    # Write the Arrow Table to a Parquet file\n",
        "    pq.write_table(table, output_file)\n",
        "\n",
        "def read_parquet_to_dataframe(parquet_file):\n",
        "    # Read the Parquet file into an Arrow Table\n",
        "    table = pq.read_table(parquet_file)\n",
        "\n",
        "    # Convert the Arrow Table to a Pandas DataFrame\n",
        "    df = table.to_pandas()\n",
        "\n",
        "    return df\n",
        "\n",
        "# Convert the CSV file to Parquet\n",
        "convert_to_parquet(input_file, output_file)\n",
        "\n",
        "# Read the Parquet file back into a DataFrame\n",
        "df = read_parquet_to_dataframe(output_file)\n",
        "\n",
        "# Perform operations on the DataFrame as needed\n",
        "df.sample(3)"
      ]
    },
    {
      "attachments": {},
      "cell_type": "markdown",
      "metadata": {
        "id": "AOS7YXrM1TrI"
      },
      "source": [
        "**Understand the shape of the dataset**"
      ]
    },
    {
      "cell_type": "code",
      "execution_count": 6,
      "metadata": {
        "colab": {
          "base_uri": "https://localhost:8080/"
        },
        "id": "pBvks_PB0mj8",
        "outputId": "2fe7e17c-6ac3-4cd8-b5c2-1c8d47cb095b"
      },
      "outputs": [
        {
          "name": "stdout",
          "output_type": "stream",
          "text": [
            "There are 864 rows and 71 columns in the Cancellation_Rules file\n"
          ]
        }
      ],
      "source": [
        "# checking shape of the data\n",
        "print(f\"There are\", df.shape[0], 'rows and', df.shape[1], 'columns in the', CSV_file_name, 'file')"
      ]
    },
    {
      "attachments": {},
      "cell_type": "markdown",
      "metadata": {
        "id": "0LLSwZBf1YUM"
      },
      "source": [
        "## **Check the data types of the columns for the dataset**"
      ]
    },
    {
      "cell_type": "code",
      "execution_count": 7,
      "metadata": {
        "colab": {
          "base_uri": "https://localhost:8080/"
        },
        "id": "6TojyJDezOJ-",
        "outputId": "3eebf00d-287d-4d99-c13b-ae8f8c561fc2"
      },
      "outputs": [
        {
          "name": "stdout",
          "output_type": "stream",
          "text": [
            "<class 'pandas.core.frame.DataFrame'>\n",
            "RangeIndex: 864 entries, 0 to 863\n",
            "Data columns (total 71 columns):\n",
            " #   Column            Non-Null Count  Dtype  \n",
            "---  ------            --------------  -----  \n",
            " 0   sg_form3_form     864 non-null    object \n",
            " 1   sg_form3_state    864 non-null    object \n",
            " 2   sg_form3_plc      864 non-null    object \n",
            " 3   sg_form3_lh_id    864 non-null    int64  \n",
            " 4   sg_form3_seq      864 non-null    int64  \n",
            " 5   sg_form3_carrier  0 non-null      float64\n",
            " 6   sg_form3_nu       864 non-null    object \n",
            " 7   sg_form3_type     0 non-null      float64\n",
            " 8   sg_form3_minterm  864 non-null    int64  \n",
            " 9   sg_form3_maxterm  864 non-null    int64  \n",
            " 10  sg_form3_minapr   864 non-null    float64\n",
            " 11  sg_form3_maxapr   864 non-null    float64\n",
            " 12  sg_form3_maxcf    864 non-null    float64\n",
            " 13  sg_form3_numclm   864 non-null    int64  \n",
            " 14  sg_form3_clmamt   864 non-null    int64  \n",
            " 15  sg_form3_sdate    864 non-null    object \n",
            " 16  sg_form3_edate    864 non-null    object \n",
            " 17  sg_form3_crby     864 non-null    object \n",
            " 18  sg_form3_crdt     864 non-null    object \n",
            " 19  sg_form3_mtby     0 non-null      float64\n",
            " 20  sg_form3_mtdt     0 non-null      float64\n",
            " 21  sg_form3_can      864 non-null    object \n",
            " 22  sg_form3_rtyp     864 non-null    object \n",
            " 23  sg_form3_ctyp     864 non-null    object \n",
            " 24  sg_form3_cper     864 non-null    float64\n",
            " 25  sg_form3_cfee     864 non-null    float64\n",
            " 26  sg_form3_ccan     864 non-null    object \n",
            " 27  sg_form3_crtyp    864 non-null    object \n",
            " 28  sg_form3_cclms    864 non-null    object \n",
            " 29  sg_form3_cctyp    864 non-null    object \n",
            " 30  sg_form3_ccper    864 non-null    float64\n",
            " 31  sg_form3_ccfee    864 non-null    float64\n",
            " 32  sg_form3_t1days   864 non-null    int64  \n",
            " 33  sg_form3_t1can    864 non-null    object \n",
            " 34  sg_form3_t1rtyp   864 non-null    object \n",
            " 35  sg_form3_t1ctyp   864 non-null    object \n",
            " 36  sg_form3_t1cper   864 non-null    float64\n",
            " 37  sg_form3_t1cfee   864 non-null    float64\n",
            " 38  sg_form3_t1ccan   864 non-null    object \n",
            " 39  sg_form3_t1crtyp  864 non-null    object \n",
            " 40  sg_form3_t1cclms  864 non-null    object \n",
            " 41  sg_form3_t1cctyp  864 non-null    object \n",
            " 42  sg_form3_t1ccper  864 non-null    float64\n",
            " 43  sg_form3_t1ccfee  864 non-null    float64\n",
            " 44  sg_form3_usemile  864 non-null    object \n",
            " 45  sg_form3_t2days   864 non-null    int64  \n",
            " 46  sg_form3_t2can    864 non-null    object \n",
            " 47  sg_form3_t2rtyp   864 non-null    object \n",
            " 48  sg_form3_t2ctyp   864 non-null    object \n",
            " 49  sg_form3_t2cper   864 non-null    float64\n",
            " 50  sg_form3_t2cfee   864 non-null    float64\n",
            " 51  sg_form3_t2ccan   864 non-null    object \n",
            " 52  sg_form3_t2crtyp  864 non-null    object \n",
            " 53  sg_form3_t2cclms  864 non-null    object \n",
            " 54  sg_form3_t2cctyp  864 non-null    object \n",
            " 55  sg_form3_t2ccper  864 non-null    float64\n",
            " 56  sg_form3_t2ccfee  864 non-null    float64\n",
            " 57  sg_form3_t3days   864 non-null    int64  \n",
            " 58  sg_form3_t3can    864 non-null    object \n",
            " 59  sg_form3_t3rtyp   864 non-null    object \n",
            " 60  sg_form3_t3ctyp   864 non-null    object \n",
            " 61  sg_form3_t3cper   864 non-null    float64\n",
            " 62  sg_form3_t3cfee   864 non-null    float64\n",
            " 63  sg_form3_t3ccan   864 non-null    object \n",
            " 64  sg_form3_t3crtyp  864 non-null    object \n",
            " 65  sg_form3_t3cclms  864 non-null    object \n",
            " 66  sg_form3_t3cctyp  864 non-null    object \n",
            " 67  sg_form3_t3ccper  864 non-null    float64\n",
            " 68  sg_form3_t3ccfee  864 non-null    float64\n",
            " 69  sg_form3_scandt   864 non-null    object \n",
            " 70  sg_form3_ecandt   864 non-null    object \n",
            "dtypes: float64(23), int64(9), object(39)\n",
            "memory usage: 479.4+ KB\n"
          ]
        }
      ],
      "source": [
        "df.info()"
      ]
    },
    {
      "attachments": {},
      "cell_type": "markdown",
      "metadata": {},
      "source": [
        "# Changing Data Types and Downcasting"
      ]
    },
    {
      "attachments": {},
      "cell_type": "markdown",
      "metadata": {},
      "source": [
        "### Downcast floats and integers"
      ]
    },
    {
      "cell_type": "code",
      "execution_count": 8,
      "metadata": {},
      "outputs": [],
      "source": [
        "float_cols = df.select_dtypes('float').columns\n",
        "int_cols = df.select_dtypes('integer').columns\n",
        "\n",
        "df[float_cols] = df[float_cols].apply(pd.to_numeric, downcast='float')\n",
        "df[int_cols] = df[int_cols].apply(pd.to_numeric, downcast='integer')"
      ]
    },
    {
      "attachments": {},
      "cell_type": "markdown",
      "metadata": {},
      "source": [
        "### Convert columns to DateTime"
      ]
    },
    {
      "cell_type": "code",
      "execution_count": 9,
      "metadata": {},
      "outputs": [],
      "source": [
        "# check if columns are in ####-##-## format\n",
        "date_format = r'\\d{4}-\\d{2}-\\d{2}'\n",
        "\n",
        "# Iterate through columns and if matching above Date format... \n",
        "columns = []\n",
        "for column in df.columns:\n",
        "    # Convert to datetime and add to date_columns list\n",
        "    if df[column].astype(str).str.match(date_format).all():\n",
        "        columns.append(column)\n",
        "\n",
        "df[columns] = df[columns].apply(pd.to_datetime)"
      ]
    },
    {
      "attachments": {},
      "cell_type": "markdown",
      "metadata": {},
      "source": [
        "### Convert String Columns to Category"
      ]
    },
    {
      "cell_type": "code",
      "execution_count": 10,
      "metadata": {},
      "outputs": [],
      "source": [
        "columns = []\n",
        "\n",
        "# Iterate over each column and check if it is a string\n",
        "for column in df.columns:\n",
        "    if df[column].dtype == 'object':\n",
        "        # Add the column name to the list\n",
        "        columns.append(column)\n",
        "\n",
        "# Convert the selected columns to category format\n",
        "df[columns] = df[columns].astype('category')"
      ]
    },
    {
      "attachments": {},
      "cell_type": "markdown",
      "metadata": {},
      "source": [
        "# You might need to change the datatypes manually if the dataset did not read in correctly!"
      ]
    },
    {
      "cell_type": "code",
      "execution_count": 11,
      "metadata": {},
      "outputs": [],
      "source": [
        "# Categories\n",
        "# adjust_category_columns     = ['sg_form_3minterm','sg_form3_maxterm'] # ['sg_rsc_agent_1', 'sg_rsc_agent_2', 'sg_rsc_agent_8', 'sg_rsc_agent_9', 'sg_rsc_agent_10', 'sg_rsc_agent_11', 'minterm', 'maxterm']\n",
        "# df[adjust_category_columns]   = df[adjust_category_columns].astype('category')\n",
        "\n",
        "# Floats\n",
        "# adjust_float_columns        = []\n",
        "# df[adjust_float_columns]      = df[adjust_float_columns].astype(float)\n",
        "\n",
        "# Integers\n",
        "# adjust_integer_columns      = []\n",
        "# df[adjust_integer_columns]    = df[adjust_integer_columns].astype(int)\n",
        "\n",
        "# Datetime\n",
        "adjust_datetime_columns     = ['sg_form3_mtdt'] # ['sg_plc_mtdt']\n",
        "df[adjust_datetime_columns]   = df[adjust_datetime_columns].astype('datetime64[ns]')"
      ]
    },
    {
      "attachments": {},
      "cell_type": "markdown",
      "metadata": {},
      "source": [
        "## Visualize Columns by Datatype"
      ]
    },
    {
      "cell_type": "code",
      "execution_count": 12,
      "metadata": {},
      "outputs": [],
      "source": [
        "# Select columns based on data types\n",
        "numeric_cols = df.select_dtypes(include=['int8', 'int16', 'int32', 'int64', 'float16', 'float32', 'float64']).columns.tolist()\n",
        "category_cols = df.select_dtypes(include='category').columns.tolist()\n",
        "date_cols = df.select_dtypes(include='datetime').columns.tolist()\n",
        "\n",
        "# Count the number of columns for each data type\n",
        "data_type_counts = {\n",
        "    'Numerical': len(numeric_cols),\n",
        "    'Categorical': len(category_cols),\n",
        "    'DateTime': len(date_cols)\n",
        "}\n",
        "\n",
        "# Get the maximum count among all data types\n",
        "max_data_type_counts = max(data_type_counts.values())\n",
        "\n",
        "# Extend the lists with empty strings if their length is less than the maximum count\n",
        "category_cols += [''] * (max_data_type_counts - len(category_cols))\n",
        "numeric_cols += [''] * (max_data_type_counts - len(numeric_cols))\n",
        "date_cols += [''] * (max_data_type_counts - len(date_cols))\n",
        "\n",
        "# Create a DataFrame with the columns of different data types\n",
        "df_of_datatypes = pd.DataFrame(\n",
        "    list(zip(category_cols, numeric_cols, date_cols)),\n",
        "    columns=['Discrete', 'Continuous', 'DateTime']\n",
        ")"
      ]
    },
    {
      "attachments": {},
      "cell_type": "markdown",
      "metadata": {},
      "source": [
        "# If Column of incorrect datatype... Manually convert in cell above^^^"
      ]
    },
    {
      "cell_type": "code",
      "execution_count": 13,
      "metadata": {},
      "outputs": [
        {
          "data": {
            "text/html": [
              "<div>\n",
              "<style scoped>\n",
              "    .dataframe tbody tr th:only-of-type {\n",
              "        vertical-align: middle;\n",
              "    }\n",
              "\n",
              "    .dataframe tbody tr th {\n",
              "        vertical-align: top;\n",
              "    }\n",
              "\n",
              "    .dataframe thead th {\n",
              "        text-align: right;\n",
              "    }\n",
              "</style>\n",
              "<table border=\"1\" class=\"dataframe\">\n",
              "  <thead>\n",
              "    <tr style=\"text-align: right;\">\n",
              "      <th></th>\n",
              "      <th>Discrete</th>\n",
              "      <th>Continuous</th>\n",
              "      <th>DateTime</th>\n",
              "    </tr>\n",
              "  </thead>\n",
              "  <tbody>\n",
              "    <tr>\n",
              "      <th>0</th>\n",
              "      <td>sg_form3_form</td>\n",
              "      <td>sg_form3_lh_id</td>\n",
              "      <td>sg_form3_sdate</td>\n",
              "    </tr>\n",
              "    <tr>\n",
              "      <th>1</th>\n",
              "      <td>sg_form3_state</td>\n",
              "      <td>sg_form3_seq</td>\n",
              "      <td>sg_form3_edate</td>\n",
              "    </tr>\n",
              "    <tr>\n",
              "      <th>2</th>\n",
              "      <td>sg_form3_plc</td>\n",
              "      <td>sg_form3_carrier</td>\n",
              "      <td>sg_form3_crdt</td>\n",
              "    </tr>\n",
              "    <tr>\n",
              "      <th>3</th>\n",
              "      <td>sg_form3_nu</td>\n",
              "      <td>sg_form3_type</td>\n",
              "      <td>sg_form3_mtdt</td>\n",
              "    </tr>\n",
              "    <tr>\n",
              "      <th>4</th>\n",
              "      <td>sg_form3_crby</td>\n",
              "      <td>sg_form3_minterm</td>\n",
              "      <td>sg_form3_scandt</td>\n",
              "    </tr>\n",
              "    <tr>\n",
              "      <th>5</th>\n",
              "      <td>sg_form3_can</td>\n",
              "      <td>sg_form3_maxterm</td>\n",
              "      <td>sg_form3_ecandt</td>\n",
              "    </tr>\n",
              "    <tr>\n",
              "      <th>6</th>\n",
              "      <td>sg_form3_rtyp</td>\n",
              "      <td>sg_form3_minapr</td>\n",
              "      <td></td>\n",
              "    </tr>\n",
              "    <tr>\n",
              "      <th>7</th>\n",
              "      <td>sg_form3_ctyp</td>\n",
              "      <td>sg_form3_maxapr</td>\n",
              "      <td></td>\n",
              "    </tr>\n",
              "    <tr>\n",
              "      <th>8</th>\n",
              "      <td>sg_form3_ccan</td>\n",
              "      <td>sg_form3_maxcf</td>\n",
              "      <td></td>\n",
              "    </tr>\n",
              "    <tr>\n",
              "      <th>9</th>\n",
              "      <td>sg_form3_crtyp</td>\n",
              "      <td>sg_form3_numclm</td>\n",
              "      <td></td>\n",
              "    </tr>\n",
              "    <tr>\n",
              "      <th>10</th>\n",
              "      <td>sg_form3_cclms</td>\n",
              "      <td>sg_form3_clmamt</td>\n",
              "      <td></td>\n",
              "    </tr>\n",
              "    <tr>\n",
              "      <th>11</th>\n",
              "      <td>sg_form3_cctyp</td>\n",
              "      <td>sg_form3_mtby</td>\n",
              "      <td></td>\n",
              "    </tr>\n",
              "    <tr>\n",
              "      <th>12</th>\n",
              "      <td>sg_form3_t1can</td>\n",
              "      <td>sg_form3_cper</td>\n",
              "      <td></td>\n",
              "    </tr>\n",
              "    <tr>\n",
              "      <th>13</th>\n",
              "      <td>sg_form3_t1rtyp</td>\n",
              "      <td>sg_form3_cfee</td>\n",
              "      <td></td>\n",
              "    </tr>\n",
              "    <tr>\n",
              "      <th>14</th>\n",
              "      <td>sg_form3_t1ctyp</td>\n",
              "      <td>sg_form3_ccper</td>\n",
              "      <td></td>\n",
              "    </tr>\n",
              "    <tr>\n",
              "      <th>15</th>\n",
              "      <td>sg_form3_t1ccan</td>\n",
              "      <td>sg_form3_ccfee</td>\n",
              "      <td></td>\n",
              "    </tr>\n",
              "    <tr>\n",
              "      <th>16</th>\n",
              "      <td>sg_form3_t1crtyp</td>\n",
              "      <td>sg_form3_t1cper</td>\n",
              "      <td></td>\n",
              "    </tr>\n",
              "    <tr>\n",
              "      <th>17</th>\n",
              "      <td>sg_form3_t1cclms</td>\n",
              "      <td>sg_form3_t1cfee</td>\n",
              "      <td></td>\n",
              "    </tr>\n",
              "    <tr>\n",
              "      <th>18</th>\n",
              "      <td>sg_form3_t1cctyp</td>\n",
              "      <td>sg_form3_t1ccper</td>\n",
              "      <td></td>\n",
              "    </tr>\n",
              "    <tr>\n",
              "      <th>19</th>\n",
              "      <td>sg_form3_usemile</td>\n",
              "      <td>sg_form3_t1ccfee</td>\n",
              "      <td></td>\n",
              "    </tr>\n",
              "    <tr>\n",
              "      <th>20</th>\n",
              "      <td>sg_form3_t2can</td>\n",
              "      <td>sg_form3_t2days</td>\n",
              "      <td></td>\n",
              "    </tr>\n",
              "    <tr>\n",
              "      <th>21</th>\n",
              "      <td>sg_form3_t2rtyp</td>\n",
              "      <td>sg_form3_t2cper</td>\n",
              "      <td></td>\n",
              "    </tr>\n",
              "    <tr>\n",
              "      <th>22</th>\n",
              "      <td>sg_form3_t2ctyp</td>\n",
              "      <td>sg_form3_t2cfee</td>\n",
              "      <td></td>\n",
              "    </tr>\n",
              "    <tr>\n",
              "      <th>23</th>\n",
              "      <td>sg_form3_t2ccan</td>\n",
              "      <td>sg_form3_t2ccper</td>\n",
              "      <td></td>\n",
              "    </tr>\n",
              "    <tr>\n",
              "      <th>24</th>\n",
              "      <td>sg_form3_t2crtyp</td>\n",
              "      <td>sg_form3_t2ccfee</td>\n",
              "      <td></td>\n",
              "    </tr>\n",
              "    <tr>\n",
              "      <th>25</th>\n",
              "      <td>sg_form3_t2cclms</td>\n",
              "      <td>sg_form3_t3days</td>\n",
              "      <td></td>\n",
              "    </tr>\n",
              "    <tr>\n",
              "      <th>26</th>\n",
              "      <td>sg_form3_t2cctyp</td>\n",
              "      <td>sg_form3_t3cper</td>\n",
              "      <td></td>\n",
              "    </tr>\n",
              "    <tr>\n",
              "      <th>27</th>\n",
              "      <td>sg_form3_t3can</td>\n",
              "      <td>sg_form3_t3cfee</td>\n",
              "      <td></td>\n",
              "    </tr>\n",
              "    <tr>\n",
              "      <th>28</th>\n",
              "      <td>sg_form3_t3rtyp</td>\n",
              "      <td>sg_form3_t3ccper</td>\n",
              "      <td></td>\n",
              "    </tr>\n",
              "    <tr>\n",
              "      <th>29</th>\n",
              "      <td>sg_form3_t3ctyp</td>\n",
              "      <td>sg_form3_t3ccfee</td>\n",
              "      <td></td>\n",
              "    </tr>\n",
              "    <tr>\n",
              "      <th>30</th>\n",
              "      <td>sg_form3_t3ccan</td>\n",
              "      <td></td>\n",
              "      <td></td>\n",
              "    </tr>\n",
              "    <tr>\n",
              "      <th>31</th>\n",
              "      <td>sg_form3_t3crtyp</td>\n",
              "      <td></td>\n",
              "      <td></td>\n",
              "    </tr>\n",
              "    <tr>\n",
              "      <th>32</th>\n",
              "      <td>sg_form3_t3cclms</td>\n",
              "      <td></td>\n",
              "      <td></td>\n",
              "    </tr>\n",
              "    <tr>\n",
              "      <th>33</th>\n",
              "      <td>sg_form3_t3cctyp</td>\n",
              "      <td></td>\n",
              "      <td></td>\n",
              "    </tr>\n",
              "  </tbody>\n",
              "</table>\n",
              "</div>"
            ],
            "text/plain": [
              "            Discrete        Continuous         DateTime\n",
              "0      sg_form3_form    sg_form3_lh_id   sg_form3_sdate\n",
              "1     sg_form3_state      sg_form3_seq   sg_form3_edate\n",
              "2       sg_form3_plc  sg_form3_carrier    sg_form3_crdt\n",
              "3        sg_form3_nu     sg_form3_type    sg_form3_mtdt\n",
              "4      sg_form3_crby  sg_form3_minterm  sg_form3_scandt\n",
              "5       sg_form3_can  sg_form3_maxterm  sg_form3_ecandt\n",
              "6      sg_form3_rtyp   sg_form3_minapr                 \n",
              "7      sg_form3_ctyp   sg_form3_maxapr                 \n",
              "8      sg_form3_ccan    sg_form3_maxcf                 \n",
              "9     sg_form3_crtyp   sg_form3_numclm                 \n",
              "10    sg_form3_cclms   sg_form3_clmamt                 \n",
              "11    sg_form3_cctyp     sg_form3_mtby                 \n",
              "12    sg_form3_t1can     sg_form3_cper                 \n",
              "13   sg_form3_t1rtyp     sg_form3_cfee                 \n",
              "14   sg_form3_t1ctyp    sg_form3_ccper                 \n",
              "15   sg_form3_t1ccan    sg_form3_ccfee                 \n",
              "16  sg_form3_t1crtyp   sg_form3_t1cper                 \n",
              "17  sg_form3_t1cclms   sg_form3_t1cfee                 \n",
              "18  sg_form3_t1cctyp  sg_form3_t1ccper                 \n",
              "19  sg_form3_usemile  sg_form3_t1ccfee                 \n",
              "20    sg_form3_t2can   sg_form3_t2days                 \n",
              "21   sg_form3_t2rtyp   sg_form3_t2cper                 \n",
              "22   sg_form3_t2ctyp   sg_form3_t2cfee                 \n",
              "23   sg_form3_t2ccan  sg_form3_t2ccper                 \n",
              "24  sg_form3_t2crtyp  sg_form3_t2ccfee                 \n",
              "25  sg_form3_t2cclms   sg_form3_t3days                 \n",
              "26  sg_form3_t2cctyp   sg_form3_t3cper                 \n",
              "27    sg_form3_t3can   sg_form3_t3cfee                 \n",
              "28   sg_form3_t3rtyp  sg_form3_t3ccper                 \n",
              "29   sg_form3_t3ctyp  sg_form3_t3ccfee                 \n",
              "30   sg_form3_t3ccan                                   \n",
              "31  sg_form3_t3crtyp                                   \n",
              "32  sg_form3_t3cclms                                   \n",
              "33  sg_form3_t3cctyp                                   "
            ]
          },
          "execution_count": 13,
          "metadata": {},
          "output_type": "execute_result"
        }
      ],
      "source": [
        "df_of_datatypes"
      ]
    },
    {
      "cell_type": "code",
      "execution_count": 14,
      "metadata": {},
      "outputs": [
        {
          "name": "stderr",
          "output_type": "stream",
          "text": [
            "C:\\Users\\BoboDS\\AppData\\Local\\Temp\\ipykernel_28872\\1489871684.py:4: SettingWithCopyWarning: \n",
            "A value is trying to be set on a copy of a slice from a DataFrame.\n",
            "Try using .loc[row_indexer,col_indexer] = value instead\n",
            "\n",
            "See the caveats in the documentation: https://pandas.pydata.org/pandas-docs/stable/user_guide/indexing.html#returning-a-view-versus-a-copy\n",
            "  df[col] = df[col].astype(dtype)\n",
            "C:\\Users\\BoboDS\\AppData\\Local\\Temp\\ipykernel_28872\\1489871684.py:8: SettingWithCopyWarning: \n",
            "A value is trying to be set on a copy of a slice from a DataFrame.\n",
            "Try using .loc[row_indexer,col_indexer] = value instead\n",
            "\n",
            "See the caveats in the documentation: https://pandas.pydata.org/pandas-docs/stable/user_guide/indexing.html#returning-a-view-versus-a-copy\n",
            "  df[col] = df[col].apply(lambda x: '{:,}'.format(x))\n",
            "C:\\Users\\BoboDS\\AppData\\Local\\Temp\\ipykernel_28872\\1489871684.py:11: SettingWithCopyWarning: \n",
            "A value is trying to be set on a copy of a slice from a DataFrame.\n",
            "Try using .loc[row_indexer,col_indexer] = value instead\n",
            "\n",
            "See the caveats in the documentation: https://pandas.pydata.org/pandas-docs/stable/user_guide/indexing.html#returning-a-view-versus-a-copy\n",
            "  df[col] = df[col].apply(lambda x: '{:,.2f}'.format(x))\n"
          ]
        },
        {
          "data": {
            "text/html": [
              "<div>\n",
              "<style scoped>\n",
              "    .dataframe tbody tr th:only-of-type {\n",
              "        vertical-align: middle;\n",
              "    }\n",
              "\n",
              "    .dataframe tbody tr th {\n",
              "        vertical-align: top;\n",
              "    }\n",
              "\n",
              "    .dataframe thead th {\n",
              "        text-align: right;\n",
              "    }\n",
              "</style>\n",
              "<table border=\"1\" class=\"dataframe\">\n",
              "  <thead>\n",
              "    <tr style=\"text-align: right;\">\n",
              "      <th></th>\n",
              "      <th>min</th>\n",
              "      <th>mean</th>\n",
              "      <th>max</th>\n",
              "      <th>50%</th>\n",
              "      <th>count</th>\n",
              "    </tr>\n",
              "  </thead>\n",
              "  <tbody>\n",
              "    <tr>\n",
              "      <th>sg_form3_seq</th>\n",
              "      <td>1.00</td>\n",
              "      <td>1.00</td>\n",
              "      <td>1.00</td>\n",
              "      <td>1.00</td>\n",
              "      <td>864</td>\n",
              "    </tr>\n",
              "    <tr>\n",
              "      <th>sg_form3_cper</th>\n",
              "      <td>0.00</td>\n",
              "      <td>1.56</td>\n",
              "      <td>10.00</td>\n",
              "      <td>0.00</td>\n",
              "      <td>864</td>\n",
              "    </tr>\n",
              "    <tr>\n",
              "      <th>sg_form3_cfee</th>\n",
              "      <td>0.00</td>\n",
              "      <td>45.20</td>\n",
              "      <td>50.00</td>\n",
              "      <td>50.00</td>\n",
              "      <td>864</td>\n",
              "    </tr>\n",
              "    <tr>\n",
              "      <th>sg_form3_ccper</th>\n",
              "      <td>0.00</td>\n",
              "      <td>1.56</td>\n",
              "      <td>10.00</td>\n",
              "      <td>0.00</td>\n",
              "      <td>864</td>\n",
              "    </tr>\n",
              "    <tr>\n",
              "      <th>sg_form3_ccfee</th>\n",
              "      <td>0.00</td>\n",
              "      <td>44.73</td>\n",
              "      <td>50.00</td>\n",
              "      <td>50.00</td>\n",
              "      <td>864</td>\n",
              "    </tr>\n",
              "    <tr>\n",
              "      <th>sg_form3_t1days</th>\n",
              "      <td>30.00</td>\n",
              "      <td>17,476,880.67</td>\n",
              "      <td>99,999,999.00</td>\n",
              "      <td>30.00</td>\n",
              "      <td>864</td>\n",
              "    </tr>\n",
              "    <tr>\n",
              "      <th>sg_form3_t1cper</th>\n",
              "      <td>0.00</td>\n",
              "      <td>0.65</td>\n",
              "      <td>10.00</td>\n",
              "      <td>0.00</td>\n",
              "      <td>864</td>\n",
              "    </tr>\n",
              "    <tr>\n",
              "      <th>sg_form3_t1cfee</th>\n",
              "      <td>0.00</td>\n",
              "      <td>5.79</td>\n",
              "      <td>50.00</td>\n",
              "      <td>0.00</td>\n",
              "      <td>864</td>\n",
              "    </tr>\n",
              "    <tr>\n",
              "      <th>sg_form3_t1ccper</th>\n",
              "      <td>0.00</td>\n",
              "      <td>1.56</td>\n",
              "      <td>10.00</td>\n",
              "      <td>0.00</td>\n",
              "      <td>864</td>\n",
              "    </tr>\n",
              "    <tr>\n",
              "      <th>sg_form3_t1ccfee</th>\n",
              "      <td>0.00</td>\n",
              "      <td>17.65</td>\n",
              "      <td>50.00</td>\n",
              "      <td>0.00</td>\n",
              "      <td>864</td>\n",
              "    </tr>\n",
              "  </tbody>\n",
              "</table>\n",
              "</div>"
            ],
            "text/plain": [
              "                    min           mean            max    50% count\n",
              "sg_form3_seq       1.00           1.00           1.00   1.00   864\n",
              "sg_form3_cper      0.00           1.56          10.00   0.00   864\n",
              "sg_form3_cfee      0.00          45.20          50.00  50.00   864\n",
              "sg_form3_ccper     0.00           1.56          10.00   0.00   864\n",
              "sg_form3_ccfee     0.00          44.73          50.00  50.00   864\n",
              "sg_form3_t1days   30.00  17,476,880.67  99,999,999.00  30.00   864\n",
              "sg_form3_t1cper    0.00           0.65          10.00   0.00   864\n",
              "sg_form3_t1cfee    0.00           5.79          50.00   0.00   864\n",
              "sg_form3_t1ccper   0.00           1.56          10.00   0.00   864\n",
              "sg_form3_t1ccfee   0.00          17.65          50.00   0.00   864"
            ]
          },
          "execution_count": 14,
          "metadata": {},
          "output_type": "execute_result"
        }
      ],
      "source": [
        "def format_columns(df, columns, dtype):\n",
        "    for col in columns:\n",
        "        # Convert column to the specified data type\n",
        "        df[col] = df[col].astype(dtype)\n",
        "        \n",
        "        if dtype == int:\n",
        "            # Format column with thousands separator\n",
        "            df[col] = df[col].apply(lambda x: '{:,}'.format(x))\n",
        "        elif dtype == float:\n",
        "            # Format column with thousands separator and 2 decimal places\n",
        "            df[col] = df[col].apply(lambda x: '{:,.2f}'.format(x))\n",
        "    \n",
        "    return df\n",
        "\n",
        "df_stats = df.describe().T\n",
        "df_stats = df_stats.reindex(columns=['min','mean','max','25%','50%','75%','std','count'])\n",
        "\n",
        "# Filter out columns with only 0, NaN, or both\n",
        "filtered_df = pd.DataFrame(df_stats[~((df_stats['count'] == 0) | df_stats['count'].isna())])\n",
        "\n",
        "# Filter out columns with both 'min' and 'max' equal to 0 or NaN\n",
        "filtered_df = df_stats[~((df_stats['min'] == 0) & \n",
        "                         (df_stats['max'] == 0) | (df_stats['min'].isna()) & \n",
        "                         (df_stats['max'].isna()))]\n",
        "\n",
        "filtered_int_columns = ['count']\n",
        "filtered_float_columns = ['mean', 'min', 'max','std','25%','50%','75%']\n",
        "formatted_df = format_columns(filtered_df, filtered_int_columns, int)\n",
        "formatted_df = format_columns(formatted_df, filtered_float_columns, float)\n",
        "\n",
        "# Print the filtered statistics and remove desired columns\n",
        "formatted_df = formatted_df.drop(columns='std')\n",
        "formatted_df = formatted_df.drop(columns='25%')\n",
        "# formatted_df = formatted_df.drop(columns='50%')\n",
        "formatted_df = formatted_df.drop(columns='75%')\n",
        "\n",
        "formatted_df"
      ]
    },
    {
      "cell_type": "code",
      "execution_count": 15,
      "metadata": {},
      "outputs": [],
      "source": [
        "# numerical_data_stats = pd.DataFrame(df_of_datatypes['Continuous'])\n",
        "# numerical_data_stats.dropnull(inplace=True)\n",
        "\n",
        "\n",
        "# numerical_data_stats"
      ]
    },
    {
      "attachments": {},
      "cell_type": "markdown",
      "metadata": {},
      "source": [
        "# Check for missing values"
      ]
    },
    {
      "cell_type": "code",
      "execution_count": 16,
      "metadata": {},
      "outputs": [
        {
          "data": {
            "text/html": [
              "<div>\n",
              "<style scoped>\n",
              "    .dataframe tbody tr th:only-of-type {\n",
              "        vertical-align: middle;\n",
              "    }\n",
              "\n",
              "    .dataframe tbody tr th {\n",
              "        vertical-align: top;\n",
              "    }\n",
              "\n",
              "    .dataframe thead th {\n",
              "        text-align: right;\n",
              "    }\n",
              "</style>\n",
              "<table border=\"1\" class=\"dataframe\">\n",
              "  <thead>\n",
              "    <tr style=\"text-align: right;\">\n",
              "      <th></th>\n",
              "      <th>Count</th>\n",
              "      <th>Percentage</th>\n",
              "    </tr>\n",
              "  </thead>\n",
              "  <tbody>\n",
              "    <tr>\n",
              "      <th>sg_form3_carrier</th>\n",
              "      <td>864</td>\n",
              "      <td>100.00</td>\n",
              "    </tr>\n",
              "    <tr>\n",
              "      <th>sg_form3_type</th>\n",
              "      <td>864</td>\n",
              "      <td>100.00</td>\n",
              "    </tr>\n",
              "    <tr>\n",
              "      <th>sg_form3_mtby</th>\n",
              "      <td>864</td>\n",
              "      <td>100.00</td>\n",
              "    </tr>\n",
              "    <tr>\n",
              "      <th>sg_form3_mtdt</th>\n",
              "      <td>864</td>\n",
              "      <td>100.00</td>\n",
              "    </tr>\n",
              "  </tbody>\n",
              "</table>\n",
              "</div>"
            ],
            "text/plain": [
              "                  Count  Percentage\n",
              "sg_form3_carrier    864      100.00\n",
              "sg_form3_type       864      100.00\n",
              "sg_form3_mtby       864      100.00\n",
              "sg_form3_mtdt       864      100.00"
            ]
          },
          "execution_count": 16,
          "metadata": {},
          "output_type": "execute_result"
        }
      ],
      "source": [
        "missing_values = pd.DataFrame({'Count':df.isnull().sum()[df.isnull().sum()>0]\n",
        "                               ,'Percentage':(df.isnull().sum()[df.isnull().sum()>0]/df.shape[0])*100})\n",
        "missing_values"
      ]
    },
    {
      "cell_type": "code",
      "execution_count": 17,
      "metadata": {},
      "outputs": [
        {
          "data": {
            "text/plain": [
              "sg_form3_mtby       864\n",
              "sg_form3_carrier    864\n",
              "sg_form3_type       864\n",
              "sg_form3_mtdt       864\n",
              "sg_form3_t2ctyp       0\n",
              "                   ... \n",
              "sg_form3_t1days       0\n",
              "sg_form3_t1can        0\n",
              "sg_form3_t1rtyp       0\n",
              "sg_form3_state        0\n",
              "sg_form3_ecandt       0\n",
              "Length: 71, dtype: int64"
            ]
          },
          "execution_count": 17,
          "metadata": {},
          "output_type": "execute_result"
        }
      ],
      "source": [
        "df.isnull().sum().sort_values(ascending=False)"
      ]
    },
    {
      "attachments": {},
      "cell_type": "markdown",
      "metadata": {},
      "source": [
        "## STATES"
      ]
    },
    {
      "cell_type": "code",
      "execution_count": 18,
      "metadata": {},
      "outputs": [],
      "source": [
        "try:   \n",
        "    # Find any column with \"state\" in the name and assign to a variable\n",
        "    column_state = [col for col in df.columns if 'state' in col]\n",
        "\n",
        "    # Create a DataFrame with unique values from state_columns\n",
        "    state_counts = df[column_state].apply(pd.Series.value_counts)\n",
        "\n",
        "    # Rename the columns\n",
        "    state_counts = state_counts.reset_index()\n",
        "    state_counts.columns = ['State', 'Count']\n",
        "\n",
        "    state_counts\n",
        "    \n",
        "except ValueError:\n",
        "    print(\"Length mismatch: Expected axis has 1 elements, new values have 2 elements\")"
      ]
    },
    {
      "cell_type": "code",
      "execution_count": 19,
      "metadata": {},
      "outputs": [],
      "source": [
        "try:\n",
        "    # Find any column with \"state\" in the name and assign to a variable\n",
        "    column_state = [col for col in df.columns if 'state' in col]\n",
        "\n",
        "    # Create a DataFrame with unique values from state_columns\n",
        "    state_counts = df[column_state].apply(pd.Series.value_counts)\n",
        "\n",
        "    # Rename the columns\n",
        "    state_counts = state_counts.reset_index()\n",
        "    state_counts.columns = ['State', 'Count']\n",
        "\n",
        "    # Display the state_counts DataFrame\n",
        "    # state_counts\n",
        "\n",
        "except KeyError:\n",
        "    print(\"One or more columns with 'state' in the name were not found.\")\n",
        "except Exception as e:\n",
        "    print(\"An error occurred:\", e)"
      ]
    },
    {
      "cell_type": "code",
      "execution_count": 20,
      "metadata": {},
      "outputs": [
        {
          "data": {
            "image/png": "[encoded data removed]",
            "text/plain": [
              "<Figure size 2000x600 with 1 Axes>"
            ]
          },
          "metadata": {},
          "output_type": "display_data"
        }
      ],
      "source": [
        "try:\n",
        "    # State Count Plot\n",
        "    sns.set(style='darkgrid')\n",
        "\n",
        "    plt.figure(figsize=(20,6))\n",
        "    sns.countplot(data=df\n",
        "                , x=column_state[0]\n",
        "                , order=state_counts[\"State\"]\n",
        "                , color='b')\n",
        "\n",
        "    plt.xlabel('States/Provinces')\n",
        "    plt.ylabel('Count')\n",
        "    plt.title('Count of States')\n",
        "    plt.show()\n",
        "except IndexError:\n",
        "    print('list index out of range')"
      ]
    },
    {
      "cell_type": "code",
      "execution_count": 21,
      "metadata": {},
      "outputs": [
        {
          "data": {
            "application/vnd.plotly.v1+json": {
              "config": {
                "plotlyServerURL": "https://plot.ly"
              },
              "data": [
                {
                  "coloraxis": "coloraxis",
                  "geo": "geo",
                  "hovertemplate": "State=%{location}<br>Count=%{z}<extra></extra>",
                  "locationmode": "USA-states",
                  "locations": [
                    "AK",
                    "PA",
                    "NC",
                    "ND",
                    "NE",
                    "NH",
                    "NJ",
                    "NM",
                    "NV",
                    "OH",
                    "OK",
                    "OR",
                    "RI",
                    "AL",
                    "SC",
                    "SD",
                    "TN",
                    "TX",
                    "UT",
                    "VA",
                    "VT",
                    "WA",
                    "WI",
                    "WV",
                    "MT",
                    "MS",
                    "MO",
                    "MN",
                    "AR",
                    "AZ",
                    "CT",
                    "DC",
                    "DE",
                    "FL",
                    "GA",
                    "HI",
                    "IA",
                    "ID",
                    "IL",
                    "IN",
                    "KS",
                    "KY",
                    "LA",
                    "MA",
                    "MD",
                    "ME",
                    "MI",
                    "WY",
                    "NY",
                    "CO",
                    "CA"
                  ],
                  "name": "",
                  "type": "choropleth",
                  "z": [
                    17,
                    17,
                    17,
                    17,
                    17,
                    17,
                    17,
                    17,
                    17,
                    17,
                    17,
                    17,
                    17,
                    17,
                    17,
                    17,
                    17,
                    17,
                    17,
                    17,
                    17,
                    17,
                    17,
                    17,
                    17,
                    17,
                    17,
                    17,
                    17,
                    17,
                    17,
                    17,
                    17,
                    17,
                    17,
                    17,
                    17,
                    17,
                    17,
                    17,
                    17,
                    17,
                    17,
                    17,
                    17,
                    17,
                    17,
                    17,
                    16,
                    16,
                    16
                  ]
                }
              ],
              "layout": {
                "coloraxis": {
                  "colorbar": {
                    "title": {
                      "text": "Count"
                    }
                  },
                  "colorscale": [
                    [
                      0,
                      "#000004"
                    ],
                    [
                      0.1111111111111111,
                      "#180f3d"
                    ],
                    [
                      0.2222222222222222,
                      "#440f76"
                    ],
                    [
                      0.3333333333333333,
                      "#721f81"
                    ],
                    [
                      0.4444444444444444,
                      "#9e2f7f"
                    ],
                    [
                      0.5555555555555556,
                      "#cd4071"
                    ],
                    [
                      0.6666666666666666,
                      "#f1605d"
                    ],
                    [
                      0.7777777777777778,
                      "#fd9668"
                    ],
                    [
                      0.8888888888888888,
                      "#feca8d"
                    ],
                    [
                      1,
                      "#fcfdbf"
                    ]
                  ]
                },
                "geo": {
                  "center": {},
                  "domain": {
                    "x": [
                      0,
                      1
                    ],
                    "y": [
                      0,
                      1
                    ]
                  },
                  "scope": "usa"
                },
                "legend": {
                  "tracegroupgap": 0
                },
                "margin": {
                  "t": 60
                },
                "template": {
                  "data": {
                    "bar": [
                      {
                        "error_x": {
                          "color": "#2a3f5f"
                        },
                        "error_y": {
                          "color": "#2a3f5f"
                        },
                        "marker": {
                          "line": {
                            "color": "#E5ECF6",
                            "width": 0.5
                          },
                          "pattern": {
                            "fillmode": "overlay",
                            "size": 10,
                            "solidity": 0.2
                          }
                        },
                        "type": "bar"
                      }
                    ],
                    "barpolar": [
                      {
                        "marker": {
                          "line": {
                            "color": "#E5ECF6",
                            "width": 0.5
                          },
                          "pattern": {
                            "fillmode": "overlay",
                            "size": 10,
                            "solidity": 0.2
                          }
                        },
                        "type": "barpolar"
                      }
                    ],
                    "carpet": [
                      {
                        "aaxis": {
                          "endlinecolor": "#2a3f5f",
                          "gridcolor": "white",
                          "linecolor": "white",
                          "minorgridcolor": "white",
                          "startlinecolor": "#2a3f5f"
                        },
                        "baxis": {
                          "endlinecolor": "#2a3f5f",
                          "gridcolor": "white",
                          "linecolor": "white",
                          "minorgridcolor": "white",
                          "startlinecolor": "#2a3f5f"
                        },
                        "type": "carpet"
                      }
                    ],
                    "choropleth": [
                      {
                        "colorbar": {
                          "outlinewidth": 0,
                          "ticks": ""
                        },
                        "type": "choropleth"
                      }
                    ],
                    "contour": [
                      {
                        "colorbar": {
                          "outlinewidth": 0,
                          "ticks": ""
                        },
                        "colorscale": [
                          [
                            0,
                            "#0d0887"
                          ],
                          [
                            0.1111111111111111,
                            "#46039f"
                          ],
                          [
                            0.2222222222222222,
                            "#7201a8"
                          ],
                          [
                            0.3333333333333333,
                            "#9c179e"
                          ],
                          [
                            0.4444444444444444,
                            "#bd3786"
                          ],
                          [
                            0.5555555555555556,
                            "#d8576b"
                          ],
                          [
                            0.6666666666666666,
                            "#ed7953"
                          ],
                          [
                            0.7777777777777778,
                            "#fb9f3a"
                          ],
                          [
                            0.8888888888888888,
                            "#fdca26"
                          ],
                          [
                            1,
                            "#f0f921"
                          ]
                        ],
                        "type": "contour"
                      }
                    ],
                    "contourcarpet": [
                      {
                        "colorbar": {
                          "outlinewidth": 0,
                          "ticks": ""
                        },
                        "type": "contourcarpet"
                      }
                    ],
                    "heatmap": [
                      {
                        "colorbar": {
                          "outlinewidth": 0,
                          "ticks": ""
                        },
                        "colorscale": [
                          [
                            0,
                            "#0d0887"
                          ],
                          [
                            0.1111111111111111,
                            "#46039f"
                          ],
                          [
                            0.2222222222222222,
                            "#7201a8"
                          ],
                          [
                            0.3333333333333333,
                            "#9c179e"
                          ],
                          [
                            0.4444444444444444,
                            "#bd3786"
                          ],
                          [
                            0.5555555555555556,
                            "#d8576b"
                          ],
                          [
                            0.6666666666666666,
                            "#ed7953"
                          ],
                          [
                            0.7777777777777778,
                            "#fb9f3a"
                          ],
                          [
                            0.8888888888888888,
                            "#fdca26"
                          ],
                          [
                            1,
                            "#f0f921"
                          ]
                        ],
                        "type": "heatmap"
                      }
                    ],
                    "heatmapgl": [
                      {
                        "colorbar": {
                          "outlinewidth": 0,
                          "ticks": ""
                        },
                        "colorscale": [
                          [
                            0,
                            "#0d0887"
                          ],
                          [
                            0.1111111111111111,
                            "#46039f"
                          ],
                          [
                            0.2222222222222222,
                            "#7201a8"
                          ],
                          [
                            0.3333333333333333,
                            "#9c179e"
                          ],
                          [
                            0.4444444444444444,
                            "#bd3786"
                          ],
                          [
                            0.5555555555555556,
                            "#d8576b"
                          ],
                          [
                            0.6666666666666666,
                            "#ed7953"
                          ],
                          [
                            0.7777777777777778,
                            "#fb9f3a"
                          ],
                          [
                            0.8888888888888888,
                            "#fdca26"
                          ],
                          [
                            1,
                            "#f0f921"
                          ]
                        ],
                        "type": "heatmapgl"
                      }
                    ],
                    "histogram": [
                      {
                        "marker": {
                          "pattern": {
                            "fillmode": "overlay",
                            "size": 10,
                            "solidity": 0.2
                          }
                        },
                        "type": "histogram"
                      }
                    ],
                    "histogram2d": [
                      {
                        "colorbar": {
                          "outlinewidth": 0,
                          "ticks": ""
                        },
                        "colorscale": [
                          [
                            0,
                            "#0d0887"
                          ],
                          [
                            0.1111111111111111,
                            "#46039f"
                          ],
                          [
                            0.2222222222222222,
                            "#7201a8"
                          ],
                          [
                            0.3333333333333333,
                            "#9c179e"
                          ],
                          [
                            0.4444444444444444,
                            "#bd3786"
                          ],
                          [
                            0.5555555555555556,
                            "#d8576b"
                          ],
                          [
                            0.6666666666666666,
                            "#ed7953"
                          ],
                          [
                            0.7777777777777778,
                            "#fb9f3a"
                          ],
                          [
                            0.8888888888888888,
                            "#fdca26"
                          ],
                          [
                            1,
                            "#f0f921"
                          ]
                        ],
                        "type": "histogram2d"
                      }
                    ],
                    "histogram2dcontour": [
                      {
                        "colorbar": {
                          "outlinewidth": 0,
                          "ticks": ""
                        },
                        "colorscale": [
                          [
                            0,
                            "#0d0887"
                          ],
                          [
                            0.1111111111111111,
                            "#46039f"
                          ],
                          [
                            0.2222222222222222,
                            "#7201a8"
                          ],
                          [
                            0.3333333333333333,
                            "#9c179e"
                          ],
                          [
                            0.4444444444444444,
                            "#bd3786"
                          ],
                          [
                            0.5555555555555556,
                            "#d8576b"
                          ],
                          [
                            0.6666666666666666,
                            "#ed7953"
                          ],
                          [
                            0.7777777777777778,
                            "#fb9f3a"
                          ],
                          [
                            0.8888888888888888,
                            "#fdca26"
                          ],
                          [
                            1,
                            "#f0f921"
                          ]
                        ],
                        "type": "histogram2dcontour"
                      }
                    ],
                    "mesh3d": [
                      {
                        "colorbar": {
                          "outlinewidth": 0,
                          "ticks": ""
                        },
                        "type": "mesh3d"
                      }
                    ],
                    "parcoords": [
                      {
                        "line": {
                          "colorbar": {
                            "outlinewidth": 0,
                            "ticks": ""
                          }
                        },
                        "type": "parcoords"
                      }
                    ],
                    "pie": [
                      {
                        "automargin": true,
                        "type": "pie"
                      }
                    ],
                    "scatter": [
                      {
                        "fillpattern": {
                          "fillmode": "overlay",
                          "size": 10,
                          "solidity": 0.2
                        },
                        "type": "scatter"
                      }
                    ],
                    "scatter3d": [
                      {
                        "line": {
                          "colorbar": {
                            "outlinewidth": 0,
                            "ticks": ""
                          }
                        },
                        "marker": {
                          "colorbar": {
                            "outlinewidth": 0,
                            "ticks": ""
                          }
                        },
                        "type": "scatter3d"
                      }
                    ],
                    "scattercarpet": [
                      {
                        "marker": {
                          "colorbar": {
                            "outlinewidth": 0,
                            "ticks": ""
                          }
                        },
                        "type": "scattercarpet"
                      }
                    ],
                    "scattergeo": [
                      {
                        "marker": {
                          "colorbar": {
                            "outlinewidth": 0,
                            "ticks": ""
                          }
                        },
                        "type": "scattergeo"
                      }
                    ],
                    "scattergl": [
                      {
                        "marker": {
                          "colorbar": {
                            "outlinewidth": 0,
                            "ticks": ""
                          }
                        },
                        "type": "scattergl"
                      }
                    ],
                    "scattermapbox": [
                      {
                        "marker": {
                          "colorbar": {
                            "outlinewidth": 0,
                            "ticks": ""
                          }
                        },
                        "type": "scattermapbox"
                      }
                    ],
                    "scatterpolar": [
                      {
                        "marker": {
                          "colorbar": {
                            "outlinewidth": 0,
                            "ticks": ""
                          }
                        },
                        "type": "scatterpolar"
                      }
                    ],
                    "scatterpolargl": [
                      {
                        "marker": {
                          "colorbar": {
                            "outlinewidth": 0,
                            "ticks": ""
                          }
                        },
                        "type": "scatterpolargl"
                      }
                    ],
                    "scatterternary": [
                      {
                        "marker": {
                          "colorbar": {
                            "outlinewidth": 0,
                            "ticks": ""
                          }
                        },
                        "type": "scatterternary"
                      }
                    ],
                    "surface": [
                      {
                        "colorbar": {
                          "outlinewidth": 0,
                          "ticks": ""
                        },
                        "colorscale": [
                          [
                            0,
                            "#0d0887"
                          ],
                          [
                            0.1111111111111111,
                            "#46039f"
                          ],
                          [
                            0.2222222222222222,
                            "#7201a8"
                          ],
                          [
                            0.3333333333333333,
                            "#9c179e"
                          ],
                          [
                            0.4444444444444444,
                            "#bd3786"
                          ],
                          [
                            0.5555555555555556,
                            "#d8576b"
                          ],
                          [
                            0.6666666666666666,
                            "#ed7953"
                          ],
                          [
                            0.7777777777777778,
                            "#fb9f3a"
                          ],
                          [
                            0.8888888888888888,
                            "#fdca26"
                          ],
                          [
                            1,
                            "#f0f921"
                          ]
                        ],
                        "type": "surface"
                      }
                    ],
                    "table": [
                      {
                        "cells": {
                          "fill": {
                            "color": "#EBF0F8"
                          },
                          "line": {
                            "color": "white"
                          }
                        },
                        "header": {
                          "fill": {
                            "color": "#C8D4E3"
                          },
                          "line": {
                            "color": "white"
                          }
                        },
                        "type": "table"
                      }
                    ]
                  },
                  "layout": {
                    "annotationdefaults": {
                      "arrowcolor": "#2a3f5f",
                      "arrowhead": 0,
                      "arrowwidth": 1
                    },
                    "autotypenumbers": "strict",
                    "coloraxis": {
                      "colorbar": {
                        "outlinewidth": 0,
                        "ticks": ""
                      }
                    },
                    "colorscale": {
                      "diverging": [
                        [
                          0,
                          "#8e0152"
                        ],
                        [
                          0.1,
                          "#c51b7d"
                        ],
                        [
                          0.2,
                          "#de77ae"
                        ],
                        [
                          0.3,
                          "#f1b6da"
                        ],
                        [
                          0.4,
                          "#fde0ef"
                        ],
                        [
                          0.5,
                          "#f7f7f7"
                        ],
                        [
                          0.6,
                          "#e6f5d0"
                        ],
                        [
                          0.7,
                          "#b8e186"
                        ],
                        [
                          0.8,
                          "#7fbc41"
                        ],
                        [
                          0.9,
                          "#4d9221"
                        ],
                        [
                          1,
                          "#276419"
                        ]
                      ],
                      "sequential": [
                        [
                          0,
                          "#0d0887"
                        ],
                        [
                          0.1111111111111111,
                          "#46039f"
                        ],
                        [
                          0.2222222222222222,
                          "#7201a8"
                        ],
                        [
                          0.3333333333333333,
                          "#9c179e"
                        ],
                        [
                          0.4444444444444444,
                          "#bd3786"
                        ],
                        [
                          0.5555555555555556,
                          "#d8576b"
                        ],
                        [
                          0.6666666666666666,
                          "#ed7953"
                        ],
                        [
                          0.7777777777777778,
                          "#fb9f3a"
                        ],
                        [
                          0.8888888888888888,
                          "#fdca26"
                        ],
                        [
                          1,
                          "#f0f921"
                        ]
                      ],
                      "sequentialminus": [
                        [
                          0,
                          "#0d0887"
                        ],
                        [
                          0.1111111111111111,
                          "#46039f"
                        ],
                        [
                          0.2222222222222222,
                          "#7201a8"
                        ],
                        [
                          0.3333333333333333,
                          "#9c179e"
                        ],
                        [
                          0.4444444444444444,
                          "#bd3786"
                        ],
                        [
                          0.5555555555555556,
                          "#d8576b"
                        ],
                        [
                          0.6666666666666666,
                          "#ed7953"
                        ],
                        [
                          0.7777777777777778,
                          "#fb9f3a"
                        ],
                        [
                          0.8888888888888888,
                          "#fdca26"
                        ],
                        [
                          1,
                          "#f0f921"
                        ]
                      ]
                    },
                    "colorway": [
                      "#636efa",
                      "#EF553B",
                      "#00cc96",
                      "#ab63fa",
                      "#FFA15A",
                      "#19d3f3",
                      "#FF6692",
                      "#B6E880",
                      "#FF97FF",
                      "#FECB52"
                    ],
                    "font": {
                      "color": "#2a3f5f"
                    },
                    "geo": {
                      "bgcolor": "white",
                      "lakecolor": "white",
                      "landcolor": "#E5ECF6",
                      "showlakes": true,
                      "showland": true,
                      "subunitcolor": "white"
                    },
                    "hoverlabel": {
                      "align": "left"
                    },
                    "hovermode": "closest",
                    "mapbox": {
                      "style": "light"
                    },
                    "paper_bgcolor": "white",
                    "plot_bgcolor": "#E5ECF6",
                    "polar": {
                      "angularaxis": {
                        "gridcolor": "white",
                        "linecolor": "white",
                        "ticks": ""
                      },
                      "bgcolor": "#E5ECF6",
                      "radialaxis": {
                        "gridcolor": "white",
                        "linecolor": "white",
                        "ticks": ""
                      }
                    },
                    "scene": {
                      "xaxis": {
                        "backgroundcolor": "#E5ECF6",
                        "gridcolor": "white",
                        "gridwidth": 2,
                        "linecolor": "white",
                        "showbackground": true,
                        "ticks": "",
                        "zerolinecolor": "white"
                      },
                      "yaxis": {
                        "backgroundcolor": "#E5ECF6",
                        "gridcolor": "white",
                        "gridwidth": 2,
                        "linecolor": "white",
                        "showbackground": true,
                        "ticks": "",
                        "zerolinecolor": "white"
                      },
                      "zaxis": {
                        "backgroundcolor": "#E5ECF6",
                        "gridcolor": "white",
                        "gridwidth": 2,
                        "linecolor": "white",
                        "showbackground": true,
                        "ticks": "",
                        "zerolinecolor": "white"
                      }
                    },
                    "shapedefaults": {
                      "line": {
                        "color": "#2a3f5f"
                      }
                    },
                    "ternary": {
                      "aaxis": {
                        "gridcolor": "white",
                        "linecolor": "white",
                        "ticks": ""
                      },
                      "baxis": {
                        "gridcolor": "white",
                        "linecolor": "white",
                        "ticks": ""
                      },
                      "bgcolor": "#E5ECF6",
                      "caxis": {
                        "gridcolor": "white",
                        "linecolor": "white",
                        "ticks": ""
                      }
                    },
                    "title": {
                      "x": 0.05
                    },
                    "xaxis": {
                      "automargin": true,
                      "gridcolor": "white",
                      "linecolor": "white",
                      "ticks": "",
                      "title": {
                        "standoff": 15
                      },
                      "zerolinecolor": "white",
                      "zerolinewidth": 2
                    },
                    "yaxis": {
                      "automargin": true,
                      "gridcolor": "white",
                      "linecolor": "white",
                      "ticks": "",
                      "title": {
                        "standoff": 15
                      },
                      "zerolinecolor": "white",
                      "zerolinewidth": 2
                    }
                  }
                }
              }
            }
          },
          "metadata": {},
          "output_type": "display_data"
        }
      ],
      "source": [
        "try:\n",
        "    fig = px.choropleth(\n",
        "                        state_counts\n",
        "                        ,locations='State'\n",
        "                        ,locationmode=\"USA-states\"\n",
        "                        ,scope=\"usa\", color='Count'\n",
        "                        ,color_continuous_scale=\"Magma\"\n",
        "                        )\n",
        "    fig.show()\n",
        "except ValueError:\n",
        "    print(\"Value of 'locations' is not the name of a column in 'data_frame'. Expected one of ['index'] but received: State\")"
      ]
    },
    {
      "attachments": {},
      "cell_type": "markdown",
      "metadata": {},
      "source": [
        "### Canada does not work with this"
      ]
    },
    {
      "cell_type": "code",
      "execution_count": 22,
      "metadata": {},
      "outputs": [],
      "source": [
        "#! THIS DOES NOT WORK FOR CANADA\n",
        "## Will probably have to look at MapBox for that later\n",
        "# fig = px.choropleth(state_counts,\n",
        "#                       locations='State',\n",
        "#                       locationmode=\"country names\",\n",
        "#                       scope = 'north america',\n",
        "#                       color = 'Count',\n",
        "#                       color_continuous_scale=\"Magma\",\n",
        "#                       )\n",
        "# fig.show()"
      ]
    },
    {
      "attachments": {},
      "cell_type": "markdown",
      "metadata": {},
      "source": [
        "# Unique Values"
      ]
    },
    {
      "cell_type": "code",
      "execution_count": 23,
      "metadata": {},
      "outputs": [
        {
          "data": {
            "text/html": [
              "<div>\n",
              "<style scoped>\n",
              "    .dataframe tbody tr th:only-of-type {\n",
              "        vertical-align: middle;\n",
              "    }\n",
              "\n",
              "    .dataframe tbody tr th {\n",
              "        vertical-align: top;\n",
              "    }\n",
              "\n",
              "    .dataframe thead th {\n",
              "        text-align: right;\n",
              "    }\n",
              "</style>\n",
              "<table border=\"1\" class=\"dataframe\">\n",
              "  <thead>\n",
              "    <tr style=\"text-align: right;\">\n",
              "      <th></th>\n",
              "      <th>Discrete</th>\n",
              "      <th>Continuous</th>\n",
              "      <th>DateTime</th>\n",
              "    </tr>\n",
              "  </thead>\n",
              "  <tbody>\n",
              "    <tr>\n",
              "      <th>0</th>\n",
              "      <td>sg_form3_form</td>\n",
              "      <td>sg_form3_lh_id</td>\n",
              "      <td>sg_form3_sdate</td>\n",
              "    </tr>\n",
              "    <tr>\n",
              "      <th>1</th>\n",
              "      <td>sg_form3_state</td>\n",
              "      <td>sg_form3_seq</td>\n",
              "      <td>sg_form3_edate</td>\n",
              "    </tr>\n",
              "    <tr>\n",
              "      <th>2</th>\n",
              "      <td>sg_form3_plc</td>\n",
              "      <td>sg_form3_carrier</td>\n",
              "      <td>sg_form3_crdt</td>\n",
              "    </tr>\n",
              "    <tr>\n",
              "      <th>3</th>\n",
              "      <td>sg_form3_nu</td>\n",
              "      <td>sg_form3_type</td>\n",
              "      <td>sg_form3_mtdt</td>\n",
              "    </tr>\n",
              "    <tr>\n",
              "      <th>4</th>\n",
              "      <td>sg_form3_crby</td>\n",
              "      <td>sg_form3_minterm</td>\n",
              "      <td>sg_form3_scandt</td>\n",
              "    </tr>\n",
              "    <tr>\n",
              "      <th>5</th>\n",
              "      <td>sg_form3_can</td>\n",
              "      <td>sg_form3_maxterm</td>\n",
              "      <td>sg_form3_ecandt</td>\n",
              "    </tr>\n",
              "    <tr>\n",
              "      <th>6</th>\n",
              "      <td>sg_form3_rtyp</td>\n",
              "      <td>sg_form3_minapr</td>\n",
              "      <td></td>\n",
              "    </tr>\n",
              "    <tr>\n",
              "      <th>7</th>\n",
              "      <td>sg_form3_ctyp</td>\n",
              "      <td>sg_form3_maxapr</td>\n",
              "      <td></td>\n",
              "    </tr>\n",
              "    <tr>\n",
              "      <th>8</th>\n",
              "      <td>sg_form3_ccan</td>\n",
              "      <td>sg_form3_maxcf</td>\n",
              "      <td></td>\n",
              "    </tr>\n",
              "    <tr>\n",
              "      <th>9</th>\n",
              "      <td>sg_form3_crtyp</td>\n",
              "      <td>sg_form3_numclm</td>\n",
              "      <td></td>\n",
              "    </tr>\n",
              "    <tr>\n",
              "      <th>10</th>\n",
              "      <td>sg_form3_cclms</td>\n",
              "      <td>sg_form3_clmamt</td>\n",
              "      <td></td>\n",
              "    </tr>\n",
              "    <tr>\n",
              "      <th>11</th>\n",
              "      <td>sg_form3_cctyp</td>\n",
              "      <td>sg_form3_mtby</td>\n",
              "      <td></td>\n",
              "    </tr>\n",
              "    <tr>\n",
              "      <th>12</th>\n",
              "      <td>sg_form3_t1can</td>\n",
              "      <td>sg_form3_cper</td>\n",
              "      <td></td>\n",
              "    </tr>\n",
              "    <tr>\n",
              "      <th>13</th>\n",
              "      <td>sg_form3_t1rtyp</td>\n",
              "      <td>sg_form3_cfee</td>\n",
              "      <td></td>\n",
              "    </tr>\n",
              "    <tr>\n",
              "      <th>14</th>\n",
              "      <td>sg_form3_t1ctyp</td>\n",
              "      <td>sg_form3_ccper</td>\n",
              "      <td></td>\n",
              "    </tr>\n",
              "    <tr>\n",
              "      <th>15</th>\n",
              "      <td>sg_form3_t1ccan</td>\n",
              "      <td>sg_form3_ccfee</td>\n",
              "      <td></td>\n",
              "    </tr>\n",
              "    <tr>\n",
              "      <th>16</th>\n",
              "      <td>sg_form3_t1crtyp</td>\n",
              "      <td>sg_form3_t1cper</td>\n",
              "      <td></td>\n",
              "    </tr>\n",
              "    <tr>\n",
              "      <th>17</th>\n",
              "      <td>sg_form3_t1cclms</td>\n",
              "      <td>sg_form3_t1cfee</td>\n",
              "      <td></td>\n",
              "    </tr>\n",
              "    <tr>\n",
              "      <th>18</th>\n",
              "      <td>sg_form3_t1cctyp</td>\n",
              "      <td>sg_form3_t1ccper</td>\n",
              "      <td></td>\n",
              "    </tr>\n",
              "    <tr>\n",
              "      <th>19</th>\n",
              "      <td>sg_form3_usemile</td>\n",
              "      <td>sg_form3_t1ccfee</td>\n",
              "      <td></td>\n",
              "    </tr>\n",
              "    <tr>\n",
              "      <th>20</th>\n",
              "      <td>sg_form3_t2can</td>\n",
              "      <td>sg_form3_t2days</td>\n",
              "      <td></td>\n",
              "    </tr>\n",
              "    <tr>\n",
              "      <th>21</th>\n",
              "      <td>sg_form3_t2rtyp</td>\n",
              "      <td>sg_form3_t2cper</td>\n",
              "      <td></td>\n",
              "    </tr>\n",
              "    <tr>\n",
              "      <th>22</th>\n",
              "      <td>sg_form3_t2ctyp</td>\n",
              "      <td>sg_form3_t2cfee</td>\n",
              "      <td></td>\n",
              "    </tr>\n",
              "    <tr>\n",
              "      <th>23</th>\n",
              "      <td>sg_form3_t2ccan</td>\n",
              "      <td>sg_form3_t2ccper</td>\n",
              "      <td></td>\n",
              "    </tr>\n",
              "    <tr>\n",
              "      <th>24</th>\n",
              "      <td>sg_form3_t2crtyp</td>\n",
              "      <td>sg_form3_t2ccfee</td>\n",
              "      <td></td>\n",
              "    </tr>\n",
              "    <tr>\n",
              "      <th>25</th>\n",
              "      <td>sg_form3_t2cclms</td>\n",
              "      <td>sg_form3_t3days</td>\n",
              "      <td></td>\n",
              "    </tr>\n",
              "    <tr>\n",
              "      <th>26</th>\n",
              "      <td>sg_form3_t2cctyp</td>\n",
              "      <td>sg_form3_t3cper</td>\n",
              "      <td></td>\n",
              "    </tr>\n",
              "    <tr>\n",
              "      <th>27</th>\n",
              "      <td>sg_form3_t3can</td>\n",
              "      <td>sg_form3_t3cfee</td>\n",
              "      <td></td>\n",
              "    </tr>\n",
              "    <tr>\n",
              "      <th>28</th>\n",
              "      <td>sg_form3_t3rtyp</td>\n",
              "      <td>sg_form3_t3ccper</td>\n",
              "      <td></td>\n",
              "    </tr>\n",
              "    <tr>\n",
              "      <th>29</th>\n",
              "      <td>sg_form3_t3ctyp</td>\n",
              "      <td>sg_form3_t3ccfee</td>\n",
              "      <td></td>\n",
              "    </tr>\n",
              "    <tr>\n",
              "      <th>30</th>\n",
              "      <td>sg_form3_t3ccan</td>\n",
              "      <td></td>\n",
              "      <td></td>\n",
              "    </tr>\n",
              "    <tr>\n",
              "      <th>31</th>\n",
              "      <td>sg_form3_t3crtyp</td>\n",
              "      <td></td>\n",
              "      <td></td>\n",
              "    </tr>\n",
              "    <tr>\n",
              "      <th>32</th>\n",
              "      <td>sg_form3_t3cclms</td>\n",
              "      <td></td>\n",
              "      <td></td>\n",
              "    </tr>\n",
              "    <tr>\n",
              "      <th>33</th>\n",
              "      <td>sg_form3_t3cctyp</td>\n",
              "      <td></td>\n",
              "      <td></td>\n",
              "    </tr>\n",
              "  </tbody>\n",
              "</table>\n",
              "</div>"
            ],
            "text/plain": [
              "            Discrete        Continuous         DateTime\n",
              "0      sg_form3_form    sg_form3_lh_id   sg_form3_sdate\n",
              "1     sg_form3_state      sg_form3_seq   sg_form3_edate\n",
              "2       sg_form3_plc  sg_form3_carrier    sg_form3_crdt\n",
              "3        sg_form3_nu     sg_form3_type    sg_form3_mtdt\n",
              "4      sg_form3_crby  sg_form3_minterm  sg_form3_scandt\n",
              "5       sg_form3_can  sg_form3_maxterm  sg_form3_ecandt\n",
              "6      sg_form3_rtyp   sg_form3_minapr                 \n",
              "7      sg_form3_ctyp   sg_form3_maxapr                 \n",
              "8      sg_form3_ccan    sg_form3_maxcf                 \n",
              "9     sg_form3_crtyp   sg_form3_numclm                 \n",
              "10    sg_form3_cclms   sg_form3_clmamt                 \n",
              "11    sg_form3_cctyp     sg_form3_mtby                 \n",
              "12    sg_form3_t1can     sg_form3_cper                 \n",
              "13   sg_form3_t1rtyp     sg_form3_cfee                 \n",
              "14   sg_form3_t1ctyp    sg_form3_ccper                 \n",
              "15   sg_form3_t1ccan    sg_form3_ccfee                 \n",
              "16  sg_form3_t1crtyp   sg_form3_t1cper                 \n",
              "17  sg_form3_t1cclms   sg_form3_t1cfee                 \n",
              "18  sg_form3_t1cctyp  sg_form3_t1ccper                 \n",
              "19  sg_form3_usemile  sg_form3_t1ccfee                 \n",
              "20    sg_form3_t2can   sg_form3_t2days                 \n",
              "21   sg_form3_t2rtyp   sg_form3_t2cper                 \n",
              "22   sg_form3_t2ctyp   sg_form3_t2cfee                 \n",
              "23   sg_form3_t2ccan  sg_form3_t2ccper                 \n",
              "24  sg_form3_t2crtyp  sg_form3_t2ccfee                 \n",
              "25  sg_form3_t2cclms   sg_form3_t3days                 \n",
              "26  sg_form3_t2cctyp   sg_form3_t3cper                 \n",
              "27    sg_form3_t3can   sg_form3_t3cfee                 \n",
              "28   sg_form3_t3rtyp  sg_form3_t3ccper                 \n",
              "29   sg_form3_t3ctyp  sg_form3_t3ccfee                 \n",
              "30   sg_form3_t3ccan                                   \n",
              "31  sg_form3_t3crtyp                                   \n",
              "32  sg_form3_t3cclms                                   \n",
              "33  sg_form3_t3cctyp                                   "
            ]
          },
          "execution_count": 23,
          "metadata": {},
          "output_type": "execute_result"
        }
      ],
      "source": [
        "df_of_datatypes"
      ]
    },
    {
      "cell_type": "code",
      "execution_count": 24,
      "metadata": {},
      "outputs": [
        {
          "data": {
            "text/plain": [
              "sg_form3_form       25\n",
              "sg_form3_state      51\n",
              "sg_form3_plc        17\n",
              "sg_form3_lh_id       1\n",
              "sg_form3_seq         1\n",
              "                    ..\n",
              "sg_form3_t3cctyp     1\n",
              "sg_form3_t3ccper     1\n",
              "sg_form3_t3ccfee     1\n",
              "sg_form3_scandt      1\n",
              "sg_form3_ecandt      1\n",
              "Length: 71, dtype: int64"
            ]
          },
          "execution_count": 24,
          "metadata": {},
          "output_type": "execute_result"
        }
      ],
      "source": [
        "df.nunique()"
      ]
    },
    {
      "cell_type": "code",
      "execution_count": 25,
      "metadata": {},
      "outputs": [
        {
          "name": "stdout",
          "output_type": "stream",
          "text": [
            "<class 'pandas.core.frame.DataFrame'>\n",
            "RangeIndex: 864 entries, 0 to 863\n",
            "Data columns (total 71 columns):\n",
            " #   Column            Non-Null Count  Dtype         \n",
            "---  ------            --------------  -----         \n",
            " 0   sg_form3_form     864 non-null    category      \n",
            " 1   sg_form3_state    864 non-null    category      \n",
            " 2   sg_form3_plc      864 non-null    category      \n",
            " 3   sg_form3_lh_id    864 non-null    int8          \n",
            " 4   sg_form3_seq      864 non-null    int8          \n",
            " 5   sg_form3_carrier  0 non-null      float32       \n",
            " 6   sg_form3_nu       864 non-null    category      \n",
            " 7   sg_form3_type     0 non-null      float32       \n",
            " 8   sg_form3_minterm  864 non-null    int8          \n",
            " 9   sg_form3_maxterm  864 non-null    int8          \n",
            " 10  sg_form3_minapr   864 non-null    float32       \n",
            " 11  sg_form3_maxapr   864 non-null    float32       \n",
            " 12  sg_form3_maxcf    864 non-null    float32       \n",
            " 13  sg_form3_numclm   864 non-null    int8          \n",
            " 14  sg_form3_clmamt   864 non-null    int8          \n",
            " 15  sg_form3_sdate    864 non-null    datetime64[ns]\n",
            " 16  sg_form3_edate    864 non-null    datetime64[ns]\n",
            " 17  sg_form3_crby     864 non-null    category      \n",
            " 18  sg_form3_crdt     864 non-null    datetime64[ns]\n",
            " 19  sg_form3_mtby     0 non-null      float32       \n",
            " 20  sg_form3_mtdt     0 non-null      datetime64[ns]\n",
            " 21  sg_form3_can      864 non-null    category      \n",
            " 22  sg_form3_rtyp     864 non-null    category      \n",
            " 23  sg_form3_ctyp     864 non-null    category      \n",
            " 24  sg_form3_cper     864 non-null    float32       \n",
            " 25  sg_form3_cfee     864 non-null    float32       \n",
            " 26  sg_form3_ccan     864 non-null    category      \n",
            " 27  sg_form3_crtyp    864 non-null    category      \n",
            " 28  sg_form3_cclms    864 non-null    category      \n",
            " 29  sg_form3_cctyp    864 non-null    category      \n",
            " 30  sg_form3_ccper    864 non-null    float32       \n",
            " 31  sg_form3_ccfee    864 non-null    float32       \n",
            " 32  sg_form3_t1days   864 non-null    int32         \n",
            " 33  sg_form3_t1can    864 non-null    category      \n",
            " 34  sg_form3_t1rtyp   864 non-null    category      \n",
            " 35  sg_form3_t1ctyp   864 non-null    category      \n",
            " 36  sg_form3_t1cper   864 non-null    float32       \n",
            " 37  sg_form3_t1cfee   864 non-null    float32       \n",
            " 38  sg_form3_t1ccan   864 non-null    category      \n",
            " 39  sg_form3_t1crtyp  864 non-null    category      \n",
            " 40  sg_form3_t1cclms  864 non-null    category      \n",
            " 41  sg_form3_t1cctyp  864 non-null    category      \n",
            " 42  sg_form3_t1ccper  864 non-null    float32       \n",
            " 43  sg_form3_t1ccfee  864 non-null    float32       \n",
            " 44  sg_form3_usemile  864 non-null    category      \n",
            " 45  sg_form3_t2days   864 non-null    int8          \n",
            " 46  sg_form3_t2can    864 non-null    category      \n",
            " 47  sg_form3_t2rtyp   864 non-null    category      \n",
            " 48  sg_form3_t2ctyp   864 non-null    category      \n",
            " 49  sg_form3_t2cper   864 non-null    float32       \n",
            " 50  sg_form3_t2cfee   864 non-null    float32       \n",
            " 51  sg_form3_t2ccan   864 non-null    category      \n",
            " 52  sg_form3_t2crtyp  864 non-null    category      \n",
            " 53  sg_form3_t2cclms  864 non-null    category      \n",
            " 54  sg_form3_t2cctyp  864 non-null    category      \n",
            " 55  sg_form3_t2ccper  864 non-null    float32       \n",
            " 56  sg_form3_t2ccfee  864 non-null    float32       \n",
            " 57  sg_form3_t3days   864 non-null    int8          \n",
            " 58  sg_form3_t3can    864 non-null    category      \n",
            " 59  sg_form3_t3rtyp   864 non-null    category      \n",
            " 60  sg_form3_t3ctyp   864 non-null    category      \n",
            " 61  sg_form3_t3cper   864 non-null    float32       \n",
            " 62  sg_form3_t3cfee   864 non-null    float32       \n",
            " 63  sg_form3_t3ccan   864 non-null    category      \n",
            " 64  sg_form3_t3crtyp  864 non-null    category      \n",
            " 65  sg_form3_t3cclms  864 non-null    category      \n",
            " 66  sg_form3_t3cctyp  864 non-null    category      \n",
            " 67  sg_form3_t3ccper  864 non-null    float32       \n",
            " 68  sg_form3_t3ccfee  864 non-null    float32       \n",
            " 69  sg_form3_scandt   864 non-null    datetime64[ns]\n",
            " 70  sg_form3_ecandt   864 non-null    datetime64[ns]\n",
            "dtypes: category(34), datetime64[ns](6), float32(22), int32(1), int8(8)\n",
            "memory usage: 161.2 KB\n"
          ]
        }
      ],
      "source": [
        "df.info()"
      ]
    },
    {
      "cell_type": "code",
      "execution_count": 26,
      "metadata": {},
      "outputs": [
        {
          "ename": "KeyError",
          "evalue": "0",
          "output_type": "error",
          "traceback": [
            "\u001b[1;31m---------------------------------------------------------------------------\u001b[0m",
            "\u001b[1;31mKeyError\u001b[0m                                  Traceback (most recent call last)",
            "File \u001b[1;32mc:\\Users\\BoboDS\\.conda\\envs\\GreatLearn1\\lib\\site-packages\\pandas\\core\\indexes\\base.py:3802\u001b[0m, in \u001b[0;36mIndex.get_loc\u001b[1;34m(self, key, method, tolerance)\u001b[0m\n\u001b[0;32m   3801\u001b[0m \u001b[39mtry\u001b[39;00m:\n\u001b[1;32m-> 3802\u001b[0m     \u001b[39mreturn\u001b[39;00m \u001b[39mself\u001b[39;49m\u001b[39m.\u001b[39;49m_engine\u001b[39m.\u001b[39;49mget_loc(casted_key)\n\u001b[0;32m   3803\u001b[0m \u001b[39mexcept\u001b[39;00m \u001b[39mKeyError\u001b[39;00m \u001b[39mas\u001b[39;00m err:\n",
            "File \u001b[1;32mc:\\Users\\BoboDS\\.conda\\envs\\GreatLearn1\\lib\\site-packages\\pandas\\_libs\\index.pyx:138\u001b[0m, in \u001b[0;36mpandas._libs.index.IndexEngine.get_loc\u001b[1;34m()\u001b[0m\n",
            "File \u001b[1;32mc:\\Users\\BoboDS\\.conda\\envs\\GreatLearn1\\lib\\site-packages\\pandas\\_libs\\index.pyx:165\u001b[0m, in \u001b[0;36mpandas._libs.index.IndexEngine.get_loc\u001b[1;34m()\u001b[0m\n",
            "File \u001b[1;32mpandas\\_libs\\hashtable_class_helper.pxi:5745\u001b[0m, in \u001b[0;36mpandas._libs.hashtable.PyObjectHashTable.get_item\u001b[1;34m()\u001b[0m\n",
            "File \u001b[1;32mpandas\\_libs\\hashtable_class_helper.pxi:5753\u001b[0m, in \u001b[0;36mpandas._libs.hashtable.PyObjectHashTable.get_item\u001b[1;34m()\u001b[0m\n",
            "\u001b[1;31mKeyError\u001b[0m: 0",
            "\nThe above exception was the direct cause of the following exception:\n",
            "\u001b[1;31mKeyError\u001b[0m                                  Traceback (most recent call last)",
            "Cell \u001b[1;32mIn[26], line 1\u001b[0m\n\u001b[1;32m----> 1\u001b[0m df(df[\u001b[39m0\u001b[39;49m])\u001b[39m.\u001b[39munique()\n",
            "File \u001b[1;32mc:\\Users\\BoboDS\\.conda\\envs\\GreatLearn1\\lib\\site-packages\\pandas\\core\\frame.py:3807\u001b[0m, in \u001b[0;36mDataFrame.__getitem__\u001b[1;34m(self, key)\u001b[0m\n\u001b[0;32m   3805\u001b[0m \u001b[39mif\u001b[39;00m \u001b[39mself\u001b[39m\u001b[39m.\u001b[39mcolumns\u001b[39m.\u001b[39mnlevels \u001b[39m>\u001b[39m \u001b[39m1\u001b[39m:\n\u001b[0;32m   3806\u001b[0m     \u001b[39mreturn\u001b[39;00m \u001b[39mself\u001b[39m\u001b[39m.\u001b[39m_getitem_multilevel(key)\n\u001b[1;32m-> 3807\u001b[0m indexer \u001b[39m=\u001b[39m \u001b[39mself\u001b[39;49m\u001b[39m.\u001b[39;49mcolumns\u001b[39m.\u001b[39;49mget_loc(key)\n\u001b[0;32m   3808\u001b[0m \u001b[39mif\u001b[39;00m is_integer(indexer):\n\u001b[0;32m   3809\u001b[0m     indexer \u001b[39m=\u001b[39m [indexer]\n",
            "File \u001b[1;32mc:\\Users\\BoboDS\\.conda\\envs\\GreatLearn1\\lib\\site-packages\\pandas\\core\\indexes\\base.py:3804\u001b[0m, in \u001b[0;36mIndex.get_loc\u001b[1;34m(self, key, method, tolerance)\u001b[0m\n\u001b[0;32m   3802\u001b[0m     \u001b[39mreturn\u001b[39;00m \u001b[39mself\u001b[39m\u001b[39m.\u001b[39m_engine\u001b[39m.\u001b[39mget_loc(casted_key)\n\u001b[0;32m   3803\u001b[0m \u001b[39mexcept\u001b[39;00m \u001b[39mKeyError\u001b[39;00m \u001b[39mas\u001b[39;00m err:\n\u001b[1;32m-> 3804\u001b[0m     \u001b[39mraise\u001b[39;00m \u001b[39mKeyError\u001b[39;00m(key) \u001b[39mfrom\u001b[39;00m \u001b[39merr\u001b[39;00m\n\u001b[0;32m   3805\u001b[0m \u001b[39mexcept\u001b[39;00m \u001b[39mTypeError\u001b[39;00m:\n\u001b[0;32m   3806\u001b[0m     \u001b[39m# If we have a listlike key, _check_indexing_error will raise\u001b[39;00m\n\u001b[0;32m   3807\u001b[0m     \u001b[39m#  InvalidIndexError. Otherwise we fall through and re-raise\u001b[39;00m\n\u001b[0;32m   3808\u001b[0m     \u001b[39m#  the TypeError.\u001b[39;00m\n\u001b[0;32m   3809\u001b[0m     \u001b[39mself\u001b[39m\u001b[39m.\u001b[39m_check_indexing_error(key)\n",
            "\u001b[1;31mKeyError\u001b[0m: 0"
          ]
        }
      ],
      "source": [
        "df(df[0]).unique()"
      ]
    },
    {
      "cell_type": "code",
      "execution_count": null,
      "metadata": {},
      "outputs": [],
      "source": [
        "# Get column information and count missing values for each column\n",
        "column_info = df.isnull().sum()\n",
        "\n",
        "# Create separate lists for columns with each data type\n",
        "numeric_columns = list(df.select_dtypes(include=['int', 'float']).columns)\n",
        "categorical_columns = list(df.select_dtypes(include=['object']).columns)\n",
        "datetime_columns = list(df.select_dtypes(include=['datetime']).columns)\n",
        "\n",
        "# Define a function to remove the \"sg_\" prefix from column names\n",
        "def remove_prefix(column):\n",
        "    if column.startswith(\"sg_\"):\n",
        "        return column[3:]\n",
        "    return column\n",
        "\n",
        "# Define a function to plot the missing value percentages in descending order and highlight the highest value\n",
        "def plot_missing_values(columns, data_type):\n",
        "    missing_percentages = [(column_info[column] / df.shape[0]) * 100 for column in columns]\n",
        "    sorted_columns = [remove_prefix(column) for _, column in sorted(zip(missing_percentages, columns), reverse=True)]\n",
        "    sorted_percentages = sorted(missing_percentages, reverse=True)\n",
        "\n",
        "    # Create a random color for each bar chart\n",
        "    colors = [f\"rgba({random.randint(0, 255)}, {random.randint(0, 255)}, {random.randint(0, 255)}, 0.6)\"] * len(sorted_columns)\n",
        "\n",
        "    # Create the bar chart trace\n",
        "    trace = go.Bar(x=sorted_columns, y=sorted_percentages, marker=dict(color=colors))\n",
        "\n",
        "    # Create the subplot\n",
        "    fig = make_subplots(rows=1, cols=1)\n",
        "    fig.add_trace(trace)\n",
        "\n",
        "    # Set the layout properties\n",
        "    fig.update_layout(\n",
        "        title=f\"{CSV_file_name} - {data_type}\",\n",
        "        xaxis_title=\"Columns\",\n",
        "        yaxis_title=\"% Missing\",\n",
        "        yaxis=dict(range=[0, max(sorted_percentages) * 1.1]),\n",
        "        showlegend=False\n",
        "    )\n",
        "\n",
        "    # Display the subplot\n",
        "    fig.show()\n",
        "\n",
        "# Generate bar charts for each data type in descending order\n",
        "if numeric_columns:\n",
        "    plot_missing_values(numeric_columns, 'Numeric')\n",
        "if categorical_columns:\n",
        "    plot_missing_values(categorical_columns, 'Categorical')\n",
        "if datetime_columns:\n",
        "    plot_missing_values(datetime_columns, 'Datetime')"
      ]
    },
    {
      "cell_type": "code",
      "execution_count": null,
      "metadata": {},
      "outputs": [],
      "source": [
        "# Get column information and count missing values for each column\n",
        "column_info = df.isnull().sum()\n",
        "\n",
        "# Create separate lists for columns with each data type\n",
        "numeric_columns = list(df.select_dtypes(include=['int', 'float']).columns)\n",
        "categorical_columns = list(df.select_dtypes(include=['object']).columns)\n",
        "datetime_columns = list(df.select_dtypes(include=['datetime']).columns)\n",
        "\n",
        "# Define a function to remove the \"sg_\" prefix from column names\n",
        "def remove_prefix(column):\n",
        "    if column.startswith(\"sg_\"):\n",
        "        return column[3:]\n",
        "    return column\n",
        "\n",
        "# Define a function to plot the missing value percentages in descending order and highlight the highest value\n",
        "def plot_missing_values(columns, data_type):\n",
        "    missing_percentages = [(column_info[column] / df.shape[0]) * 100 for column in columns]\n",
        "    sorted_columns = [remove_prefix(column) for _, column in sorted(zip(missing_percentages, columns), reverse=True)]\n",
        "    sorted_percentages = sorted(missing_percentages, reverse=True)\n",
        "\n",
        "    # Create a random color for each bar chart\n",
        "    colors = [f\"rgba({random.randint(0, 255)}, {random.randint(0, 255)}, {random.randint(0, 255)}, 0.6)\"] * len(sorted_columns)\n",
        "\n",
        "    # Create the bar chart trace\n",
        "    trace = go.Bar(\n",
        "        x=sorted_columns,\n",
        "        y=sorted_percentages,\n",
        "        marker=dict(color=colors),\n",
        "        hovertemplate=\"Column: %{x}<br>Missing Percentage: %{y:.2f}%<extra></extra>\"\n",
        "    )\n",
        "\n",
        "    # Create the subplot\n",
        "    fig = make_subplots(rows=1, cols=1)\n",
        "    fig.add_trace(trace)\n",
        "\n",
        "    # Set the layout properties\n",
        "    fig.update_layout(\n",
        "        title=f\"{CSV_file_name} - {data_type}\",\n",
        "        xaxis_title=\"Columns\",\n",
        "        yaxis_title=\"% Missing\",\n",
        "        yaxis=dict(range=[0, max(sorted_percentages) * 1.1]),\n",
        "        showlegend=False\n",
        "    )\n",
        "\n",
        "    # Display the subplot\n",
        "    fig.show()\n",
        "\n",
        "# Generate bar charts for each data type in descending order\n",
        "if numeric_columns:\n",
        "    plot_missing_values(numeric_columns, 'Numeric')\n",
        "if categorical_columns:\n",
        "    plot_missing_values(categorical_columns, 'Categorical')\n",
        "if datetime_columns:\n",
        "    plot_missing_values(datetime_columns, 'Datetime')"
      ]
    },
    {
      "cell_type": "code",
      "execution_count": null,
      "metadata": {},
      "outputs": [],
      "source": [
        "# Get column information and count missing values for each column\n",
        "column_info = df.isnull().sum()\n",
        "\n",
        "# Create separate lists for columns with each data type\n",
        "numeric_columns = list(df.select_dtypes(include=['int', 'float']).columns)\n",
        "categorical_columns = list(df.select_dtypes(include=['object']).columns)\n",
        "datetime_columns = list(df.select_dtypes(include=['datetime']).columns)\n",
        "\n",
        "# Define a function to remove the \"sg_\" prefix from column names\n",
        "def remove_prefix(column):\n",
        "    if column.startswith(\"sg_\"):\n",
        "        return column[3:]\n",
        "    return column\n",
        "\n",
        "# Define a function to plot the missing value percentages in descending order and highlight the highest value\n",
        "def plot_missing_values(columns, data_type):\n",
        "    for column in columns:\n",
        "        missing_percentage = (column_info[column] / df.shape[0]) * 100\n",
        "\n",
        "        # Get column statistics using df.describe()\n",
        "        column_stats = df_stats[column].describe()\n",
        "\n",
        "        # Create the bar chart trace\n",
        "        trace = go.Bar(\n",
        "            x=[remove_prefix(column)],\n",
        "            y=[missing_percentage],\n",
        "            hovertemplate=(\n",
        "                \"Column: %{x}<br>\"\n",
        "                \"Missing Percentage: %{y:.2f}%<br><br>\"\n",
        "                \"<b>Column Statistics:</b><br>\"\n",
        "                f\"Mean: {column_stats['mean']}<br>\"\n",
        "                f\"Standard Deviation: {column_stats['std']}<br>\"\n",
        "                f\"Minimum: {column_stats['min']}<br>\"\n",
        "                f\"25% Percentile: {column_stats['25%']}<br>\"\n",
        "                f\"50% Percentile: {column_stats['50%']}<br>\"\n",
        "                f\"75% Percentile: {column_stats['75%']}<br>\"\n",
        "                f\"Maximum: {column_stats['max']}<extra></extra>\"\n",
        "            )\n",
        "        )\n",
        "\n",
        "        # Create the subplot\n",
        "        fig = make_subplots(rows=1, cols=1)\n",
        "        fig.add_trace(trace)\n",
        "\n",
        "        # Set the layout properties\n",
        "        fig.update_layout(\n",
        "            title=f\"{file_path} - {data_type}\",\n",
        "            xaxis_title=\"Columns\",\n",
        "            yaxis_title=\"% Missing\",\n",
        "            yaxis=dict(range=[0, missing_percentage * 1.1]),\n",
        "            showlegend=False\n",
        "        )\n",
        "\n",
        "        # Display the subplot\n",
        "        fig.show()\n",
        "\n",
        "# Generate bar charts for each data type in descending order\n",
        "if numeric_columns:\n",
        "    plot_missing_values(numeric_columns, 'Numeric')\n",
        "if categorical_columns:\n",
        "    plot_missing_values(categorical_columns, 'Categorical')\n",
        "if datetime_columns:\n",
        "    plot_missing_values(datetime_columns, 'Datetime')"
      ]
    },
    {
      "cell_type": "code",
      "execution_count": null,
      "metadata": {},
      "outputs": [],
      "source": [
        "# Get column information and count missing values for each column\n",
        "column_info = df.isnull().sum()\n",
        "\n",
        "# Create separate lists for columns with each data type\n",
        "numeric_columns = list(df.select_dtypes(include=['int', 'float']).columns)\n",
        "categorical_columns = list(df.select_dtypes(include=['object']).columns)\n",
        "datetime_columns = list(df.select_dtypes(include=['datetime']).columns)\n",
        "\n",
        "# Define a function to remove the \"sg_\" prefix from column names\n",
        "def remove_prefix(column):\n",
        "    if column.startswith(\"sg_\"):\n",
        "        return column[3:]\n",
        "    return column\n",
        "\n",
        "# Define a function to plot the missing value percentages in descending order and highlight the highest value\n",
        "def plot_missing_values(columns, data_type):\n",
        "    missing_percentages = [(column_info[column] / df.shape[0]) * 100 for column in columns]\n",
        "    sorted_columns = [remove_prefix(column) for _, column in sorted(zip(missing_percentages, columns), reverse=True)]\n",
        "    sorted_percentages = sorted(missing_percentages, reverse=True)\n",
        "\n",
        "    # Create a random color for each bar chart\n",
        "    colors = [f\"rgba({random.randint(0, 255)}, {random.randint(0, 255)}, {random.randint(0, 255)}, 0.6)\"] * len(sorted_columns)\n",
        "\n",
        "    # Create the bar chart trace\n",
        "    traces = []\n",
        "    for column in columns:\n",
        "        if column in numeric_columns:\n",
        "            # Compute statistical information\n",
        "            non_null_count = df_stats[column]['count']\n",
        "            percent_non_null = (non_null_count / df.shape[0]) * 100\n",
        "            unique_values_count = df_stats[column]['unique']\n",
        "            min_value = df_stats[column]['min']\n",
        "            mean_value = df_stats[column]['mean']\n",
        "            median_value = df_stats[column]['50%']\n",
        "            max_value = df_stats[column]['max']\n",
        "\n",
        "            hovertext = f\"Non-Null Count: {non_null_count}<br>\"\n",
        "            hovertext += f\"% Non-Null: {percent_non_null:.2f}%<br>\"\n",
        "            hovertext += f\"Unique Values: {unique_values_count}<br>\"\n",
        "            hovertext += f\"Min: {min_value}<br>\"\n",
        "            hovertext += f\"Mean: {mean_value}<br>\"\n",
        "            hovertext += f\"Median: {median_value}<br>\"\n",
        "            hovertext += f\"Max: {max_value}\"\n",
        "\n",
        "            trace = go.Bar(\n",
        "                x=[remove_prefix(column)],\n",
        "                y=[column_info[column]],\n",
        "                marker=dict(color=colors),\n",
        "                hovertemplate=hovertext + \"<extra></extra>\"\n",
        "            )\n",
        "        else:\n",
        "            trace = go.Bar(\n",
        "                x=[remove_prefix(column)],\n",
        "                y=[column_info[column]],\n",
        "                marker=dict(color=colors),\n",
        "                hovertemplate=\"Column: %{x}<br>Missing Percentage: %{y:.2f}%<extra></extra>\"\n",
        "            )\n",
        "        traces.append(trace)\n",
        "\n",
        "    # Create the subplot\n",
        "    fig = make_subplots(rows=1, cols=1)\n",
        "    for trace in traces:\n",
        "        fig.add_trace(trace)\n",
        "\n",
        "    # Set the layout properties\n",
        "    fig.update_layout(\n",
        "        title=f\"{file_path} - {data_type}\",\n",
        "        xaxis_title=\"Columns\",\n",
        "        yaxis_title=\"% Missing\",\n",
        "        yaxis=dict(range=[0, max(sorted_percentages) * 1.1]),\n",
        "        showlegend=False\n",
        "    )\n",
        "\n",
        "    # Display the subplot\n",
        "    fig.show()\n",
        "\n",
        "# Generate bar charts for each data type in descending order\n",
        "if numeric_columns:\n",
        "    plot_missing_values(numeric_columns, 'Numeric')\n",
        "\n",
        "if categorical_columns:\n",
        "    plot_missing_values(categorical_columns, 'Categorical')\n",
        "\n",
        "if datetime_columns:\n",
        "    plot_missing_values(datetime_columns, 'Datetime')"
      ]
    },
    {
      "cell_type": "code",
      "execution_count": null,
      "metadata": {},
      "outputs": [],
      "source": []
    },
    {
      "cell_type": "code",
      "execution_count": null,
      "metadata": {},
      "outputs": [],
      "source": []
    },
    {
      "attachments": {},
      "cell_type": "markdown",
      "metadata": {},
      "source": [
        "# Check for duplicates and delete"
      ]
    },
    {
      "cell_type": "code",
      "execution_count": null,
      "metadata": {},
      "outputs": [],
      "source": [
        "print(f'There are', df.duplicated().sum(), 'duplicates in the dataset that will be deleted.')\n",
        "\n",
        "# drop duplicate records\n",
        "df.drop_duplicates(inplace=True)\n",
        "\n",
        "# resets the index\n",
        "df.reset_index(drop=True,inplace=True)\n",
        "print('GONE!')"
      ]
    },
    {
      "attachments": {},
      "cell_type": "markdown",
      "metadata": {},
      "source": [
        "# Practice Stuff"
      ]
    },
    {
      "attachments": {},
      "cell_type": "markdown",
      "metadata": {},
      "source": [
        "### Counts the number of unique values in each column"
      ]
    },
    {
      "cell_type": "code",
      "execution_count": null,
      "metadata": {},
      "outputs": [],
      "source": [
        "unique_values = df.nunique().reset_index()\n",
        "unique_df = pd.DataFrame(unique_values)\n",
        "unique_df.columns = ['Column_Name', 'Value_Count']"
      ]
    },
    {
      "cell_type": "code",
      "execution_count": null,
      "metadata": {},
      "outputs": [],
      "source": [
        "sns.set(style='darkgrid')\n",
        "\n",
        "plt.figure(figsize=(20,6))\n",
        "sns.countplot(data=unique_df\n",
        "              , x=unique_df[0]\n",
        "            #   , order=state_counts[\"State\"]\n",
        "              , color='b')\n",
        "\n",
        "plt.xlabel('States/Provinces')\n",
        "plt.ylabel('Count')\n",
        "plt.title('Count of States')\n",
        "plt.show()"
      ]
    },
    {
      "attachments": {},
      "cell_type": "markdown",
      "metadata": {},
      "source": [
        "# Formatting Data Types"
      ]
    },
    {
      "attachments": {},
      "cell_type": "markdown",
      "metadata": {
        "id": "MtKKvX_j1d2N"
      },
      "source": [
        "# Checking for duplicate entries in the data"
      ]
    },
    {
      "cell_type": "code",
      "execution_count": null,
      "metadata": {
        "colab": {
          "base_uri": "https://localhost:8080/"
        },
        "id": "fO9oCJoazRM9",
        "outputId": "1c70f059-4089-452e-db35-36e1b018aaef"
      },
      "outputs": [],
      "source": [
        "data.duplicated().sum()"
      ]
    },
    {
      "attachments": {},
      "cell_type": "markdown",
      "metadata": {
        "id": "pXWitpm97Xn_"
      },
      "source": [
        "* There are 11 duplicate entries in the data. Let's remove them."
      ]
    },
    {
      "cell_type": "code",
      "execution_count": null,
      "metadata": {
        "id": "IRBahRHNJVgl"
      },
      "outputs": [],
      "source": [
        "# dropping duplicate entries from the data\n",
        "data.drop_duplicates(inplace=True)\n",
        "\n",
        "# resetting the index of data frame since some rows will be removed\n",
        "data.reset_index(drop=True,inplace=True)"
      ]
    },
    {
      "attachments": {},
      "cell_type": "markdown",
      "metadata": {
        "id": "KEQH5qqXzWmo"
      },
      "source": [
        "**Let's check the statistical summary of the data.**"
      ]
    },
    {
      "cell_type": "code",
      "execution_count": null,
      "metadata": {
        "colab": {
          "base_uri": "https://localhost:8080/",
          "height": 394
        },
        "id": "cCqbJH8T1tJJ",
        "outputId": "313d079c-e641-420b-8ab7-485dd84569e0"
      },
      "outputs": [],
      "source": [
        "data.describe().T"
      ]
    },
    {
      "attachments": {},
      "cell_type": "markdown",
      "metadata": {
        "id": "jcd5fPhMA-tQ"
      },
      "source": [
        "* `Rooms:` On average there are 3 rooms in a property. 75% of the properties have less than or equal to 4 rooms. There are some properties which have 16 rooms.\n",
        "* `Distance`: On average the properties are located within 11.28 Kms of central business district, while the median is 10.5 Kms. There is a huge difference between the maximum value and the 75% percentile of the data which indicates there might be outliers present in this column.\n",
        "* The distribution of the number of bedrooms, bathrooms, and car parking spaces is fine. The maximum values of these columns might require a quick check.\n",
        "* `Landsize`: The Landsize column has a huge standard deviation with a mean and median land size of 560.53 and 513 metres respectively. Also, there is a huge difference between the maximum value and the 75% percentile of the data which indicates there might be outliers present in this column.\n",
        "* `YearBuilt`: The latest property was built in 2019 while the earliest property was built in 1850.\n",
        "* `Propertycount`: On average a suburb has around 7564 properties. The column has a large standard deviation of 4494.02 units.\n",
        "* `Price`: On average the house prices are AUD 1050664. The median prices are AUD 871000. There is a huge difference between the maximum value and the 75% percentile of the data which indicates there might be outliers present in this column."
      ]
    },
    {
      "cell_type": "code",
      "execution_count": null,
      "metadata": {
        "colab": {
          "base_uri": "https://localhost:8080/"
        },
        "id": "zaEUQ1Ng_9vo",
        "outputId": "1385dc99-e9ec-4c22-d40a-4c0c28d27fc8"
      },
      "outputs": [],
      "source": [
        "# let's check the total number of unique values in the Postcode column\n",
        "data['Postcode'].nunique()"
      ]
    },
    {
      "attachments": {},
      "cell_type": "markdown",
      "metadata": {
        "id": "Ernj0kh0GzBO"
      },
      "source": [
        "* There are a total of 209 different postcodes in the data."
      ]
    },
    {
      "attachments": {},
      "cell_type": "markdown",
      "metadata": {
        "id": "NHBf6nG6GVFN"
      },
      "source": [
        "**Let's check the count and percentage of categorical levels in each column**"
      ]
    },
    {
      "cell_type": "code",
      "execution_count": null,
      "metadata": {
        "colab": {
          "base_uri": "https://localhost:8080/"
        },
        "id": "tuEDP6sd1vEU",
        "outputId": "ceddce35-26fe-404c-f457-dc3938f2a4be"
      },
      "outputs": [],
      "source": [
        "# Making a list of all categorical variables\n",
        "cat_cols =  ['Suburb', 'Type', 'SellerG', 'Regionname']\n",
        "\n",
        "# Printing the count of unique categorical levels in each column\n",
        "for column in cat_cols:\n",
        "    print(data[column].value_counts())\n",
        "    print(\"-\" * 50)"
      ]
    },
    {
      "cell_type": "code",
      "execution_count": null,
      "metadata": {
        "colab": {
          "base_uri": "https://localhost:8080/"
        },
        "id": "DejV6efOBwri",
        "outputId": "b8692e46-06a1-4456-9bc3-d377eb5b2c07"
      },
      "outputs": [],
      "source": [
        "# Printing the percentage of unique categorical levels in each column\n",
        "for column in cat_cols:\n",
        "    print(data[column].value_counts(normalize=True))\n",
        "    print(\"-\" * 50)"
      ]
    },
    {
      "attachments": {},
      "cell_type": "markdown",
      "metadata": {
        "id": "9mqdfr8n16fu"
      },
      "source": [
        "**Observations**\n",
        "* Highest number (724) of the properties are in Reservoir suburb followed by 493 properties in Bentleigh East suburb.\n",
        "* Most of the properties (18394 or 67%) are of type 'h' that is houses/cottages/villas, etc followed by 5882 or 21% properties of type 'u' that is unit/duplex. The least number (2827 or 10%) is of type 't' that is townhouses.\n",
        "* Top 5 sellers of properties are  - Nelson, Jellis, Barry, hockingstuart, and Ray.\n",
        "* 31% of the properties are in Southern Metropolitan followed by 28% in Northern Metropolitan, and 21% in Western Metropolitan. This shows that our analysis will be biased towards Metropolitan regions than Victoria regions as around 98% of the data points are from Metropolitan region."
      ]
    },
    {
      "attachments": {},
      "cell_type": "markdown",
      "metadata": {
        "id": "j6uAieYsNnL4"
      },
      "source": [
        "### 4.2 Univariate Analysis"
      ]
    },
    {
      "attachments": {},
      "cell_type": "markdown",
      "metadata": {
        "id": "jVuRCQCsPdq5"
      },
      "source": [
        "**Let's check the distribution for numerical columns.**"
      ]
    },
    {
      "attachments": {},
      "cell_type": "markdown",
      "metadata": {
        "id": "vz2c8XHoRMh4"
      },
      "source": [
        "**Observations on Distance**"
      ]
    },
    {
      "cell_type": "code",
      "execution_count": null,
      "metadata": {
        "colab": {
          "base_uri": "https://localhost:8080/",
          "height": 541
        },
        "id": "4_Du3cBCNtXj",
        "outputId": "660e4628-9f74-47b4-dd2b-1a31f4ed5c7e"
      },
      "outputs": [],
      "source": [
        "sns.histplot(data=data,x='Distance',stat='density')\n",
        "plt.show()\n",
        "sns.boxplot(data=data,x='Distance')\n",
        "plt.show()"
      ]
    },
    {
      "attachments": {},
      "cell_type": "markdown",
      "metadata": {
        "id": "7aD6DGL1YEHy"
      },
      "source": [
        "* The distribution is skewed towards right.\n",
        "* There are many outliers present in this column. \n",
        "* Values above 25 Kms are being represented as outliers in the boxplot, indicating there there are many properties that are atleast 25 Kms away from CBD."
      ]
    },
    {
      "attachments": {},
      "cell_type": "markdown",
      "metadata": {
        "id": "vWIAkz-ZRQrE"
      },
      "source": [
        "**Observations on Landsize**"
      ]
    },
    {
      "cell_type": "code",
      "execution_count": null,
      "metadata": {
        "colab": {
          "base_uri": "https://localhost:8080/",
          "height": 631
        },
        "id": "6V1m7CPjO690",
        "outputId": "65693cdc-d3a1-44f2-b7ea-41841a15d922"
      },
      "outputs": [],
      "source": [
        "sns.displot(data=data,x='Landsize',kind='kde')\n",
        "plt.show()\n",
        "sns.boxplot(data=data,x='Landsize')\n",
        "plt.show()"
      ]
    },
    {
      "cell_type": "code",
      "execution_count": null,
      "metadata": {
        "colab": {
          "base_uri": "https://localhost:8080/",
          "height": 631
        },
        "id": "9U6-ed0jBwrk",
        "outputId": "0a60536b-ce7f-4d02-eab8-f36cebaea6e6"
      },
      "outputs": [],
      "source": [
        "# converting Landsize to sq. kilometres from sq. metres \n",
        "sns.displot(data=data,x=data['Landsize']/1000000,kind='kde')\n",
        "plt.show()\n",
        "sns.boxplot(data=data,x=data['Landsize']/1000000)\n",
        "plt.show()"
      ]
    },
    {
      "attachments": {},
      "cell_type": "markdown",
      "metadata": {
        "id": "_TkU7Lk7Y910"
      },
      "source": [
        "* The distribution is skewed towards the right, even after conversion to Kilometres.  \n",
        "* There are many outliers present in this column. Some properties have a landsize of more than 60000 sq meters. These value seems to be very high and can possibly be a data entry error. We should check it further."
      ]
    },
    {
      "cell_type": "code",
      "execution_count": null,
      "metadata": {
        "colab": {
          "base_uri": "https://localhost:8080/",
          "height": 211
        },
        "id": "H3jiIhK6Bwrl",
        "outputId": "5e8ebffa-e350-41a9-bb38-b7ab9f9fa643"
      },
      "outputs": [],
      "source": [
        "data.loc[data['Landsize']>60000]"
      ]
    },
    {
      "attachments": {},
      "cell_type": "markdown",
      "metadata": {
        "id": "aOI62hdhBwrl"
      },
      "source": [
        "* Just by looking at these observation it is difficult to say whether these are data entry errors or not. Although the land size does look very high."
      ]
    },
    {
      "attachments": {},
      "cell_type": "markdown",
      "metadata": {
        "id": "RVeizFUbRSm6"
      },
      "source": [
        "**Observations on BuildingArea**"
      ]
    },
    {
      "cell_type": "code",
      "execution_count": null,
      "metadata": {
        "colab": {
          "base_uri": "https://localhost:8080/",
          "height": 631
        },
        "id": "TY76HkfaQYjo",
        "outputId": "d9ed55e1-6f82-4611-cbc7-e9702cc618f0"
      },
      "outputs": [],
      "source": [
        "sns.displot(data=data,x='BuildingArea',kind='kde')\n",
        "plt.show()\n",
        "sns.boxplot(data=data,x='BuildingArea')\n",
        "plt.show()"
      ]
    },
    {
      "cell_type": "code",
      "execution_count": null,
      "metadata": {
        "colab": {
          "base_uri": "https://localhost:8080/",
          "height": 631
        },
        "id": "9Yc9iUFWBwrl",
        "outputId": "3389544c-796a-41ca-8316-7f766edb7ac2"
      },
      "outputs": [],
      "source": [
        "\n",
        "sns.displot(data=data,x=data['BuildingArea'],kind='kde')\n",
        "plt.show()\n",
        "sns.boxplot(data=data,x=data['BuildingArea'])\n",
        "plt.show()"
      ]
    },
    {
      "attachments": {},
      "cell_type": "markdown",
      "metadata": {
        "id": "VHecWkKeavN4"
      },
      "source": [
        "* The distribution of BuildingArea is similar to Landsize that is right skewed.\n",
        "* It has many outliers. There are values above 4000 sq meters which seems high."
      ]
    },
    {
      "attachments": {},
      "cell_type": "markdown",
      "metadata": {
        "id": "VLfP2dYjRUEV"
      },
      "source": [
        "**Observations on Price**"
      ]
    },
    {
      "cell_type": "code",
      "execution_count": null,
      "metadata": {
        "colab": {
          "base_uri": "https://localhost:8080/",
          "height": 541
        },
        "id": "LPBoV_-WQoHw",
        "outputId": "355c9803-d382-43e4-aa85-c04a5a3b30e9"
      },
      "outputs": [],
      "source": [
        "sns.histplot(data=data,x='Price')\n",
        "plt.show()\n",
        "sns.boxplot(data=data,x='Price')\n",
        "plt.show()"
      ]
    },
    {
      "attachments": {},
      "cell_type": "markdown",
      "metadata": {
        "id": "ElTxj8DDQuHK"
      },
      "source": [
        "* The distribution of the Price is skewed towards the right.\n",
        "* There are many outliers in this variable and the values above 2000000 are being represented as outliers by the boxplot. \n",
        "* The values seem fine as the selling price of the properties varies and depends upon various factors. For example, distance, if the properties are closer to CBD they might have a higher selling price."
      ]
    },
    {
      "attachments": {},
      "cell_type": "markdown",
      "metadata": {
        "id": "q09RzXRfdrUk"
      },
      "source": [
        "**Observations on Rooms**\n"
      ]
    },
    {
      "cell_type": "code",
      "execution_count": null,
      "metadata": {
        "colab": {
          "base_uri": "https://localhost:8080/",
          "height": 279
        },
        "id": "K89at1LGdtjT",
        "outputId": "974dd32b-26ad-498c-8f0f-0558fd4991d8"
      },
      "outputs": [],
      "source": [
        "sns.boxplot(data=data,x='Rooms')\n",
        "plt.show()"
      ]
    },
    {
      "attachments": {},
      "cell_type": "markdown",
      "metadata": {
        "id": "GnTqFnz9dzKa"
      },
      "source": [
        "* Properties with more than 7 rooms are being represented as outliers by the boxplot.\n",
        "* Let's find out how many such properties are there which have more than 7 rooms and what are the types of such properties."
      ]
    },
    {
      "cell_type": "code",
      "execution_count": null,
      "metadata": {
        "colab": {
          "base_uri": "https://localhost:8080/"
        },
        "id": "u3VC50JQeBTO",
        "outputId": "13689444-b161-446e-8ef3-3d544a18ee70"
      },
      "outputs": [],
      "source": [
        "data.loc[data['Rooms']>7].shape"
      ]
    },
    {
      "attachments": {},
      "cell_type": "markdown",
      "metadata": {
        "id": "HhACMibUeFMu"
      },
      "source": [
        "* There are only 23 such properties which have more than 7 rooms."
      ]
    },
    {
      "cell_type": "code",
      "execution_count": null,
      "metadata": {
        "colab": {
          "base_uri": "https://localhost:8080/"
        },
        "id": "Gd7VKGxrbokS",
        "outputId": "5c64a570-d04e-4183-e704-affa3b531ebe"
      },
      "outputs": [],
      "source": [
        "# findig the type of such properties\n",
        "data.loc[data['Rooms']>7,'Type'].value_counts()"
      ]
    },
    {
      "attachments": {},
      "cell_type": "markdown",
      "metadata": {
        "id": "PGjmmShTcy5A"
      },
      "source": [
        "* There are no townhouses in these.\n",
        "* Most of these properties are houses/villas,etc\n",
        "* Only 2 of such properties are units/duplexes.\n",
        "* This indicates that 'h' type properties are a more likely choice for customers who are looking for bigger properties."
      ]
    },
    {
      "attachments": {},
      "cell_type": "markdown",
      "metadata": {
        "id": "5XMEy7wmekJY"
      },
      "source": [
        "**Observations on Region Name**"
      ]
    },
    {
      "cell_type": "code",
      "execution_count": null,
      "metadata": {
        "colab": {
          "base_uri": "https://localhost:8080/",
          "height": 406
        },
        "id": "gpN8Ov7MeohE",
        "outputId": "04e2b91f-26cc-4caa-dc69-0f04d1d4789b"
      },
      "outputs": [],
      "source": [
        "sns.countplot(data=data,x='Regionname')\n",
        "plt.xticks(rotation=90)\n",
        "plt.show()"
      ]
    },
    {
      "attachments": {},
      "cell_type": "markdown",
      "metadata": {
        "id": "wzjtzCSje0LV"
      },
      "source": [
        "* Eastern, Northern, and Western Victoria have very less number of properties.\n",
        "* Southern and Northern Metropolitan have the most number of properties."
      ]
    },
    {
      "attachments": {},
      "cell_type": "markdown",
      "metadata": {
        "id": "Ne1w2APnhozJ"
      },
      "source": [
        "### 4.3 Bivariate Analysis"
      ]
    },
    {
      "cell_type": "code",
      "execution_count": null,
      "metadata": {
        "colab": {
          "base_uri": "https://localhost:8080/",
          "height": 384
        },
        "id": "Lkz2y_9zhrOk",
        "outputId": "bcf4f1b4-20fb-4dd3-fa83-412d2fe68654"
      },
      "outputs": [],
      "source": [
        "plt.figure(figsize=(10,5))\n",
        "sns.heatmap(data.corr(),annot=True,cmap='Spectral',vmin=-1,vmax=1)\n",
        "plt.show()"
      ]
    },
    {
      "attachments": {},
      "cell_type": "markdown",
      "metadata": {
        "id": "xtMi3rnBh06a"
      },
      "source": [
        "**Observations**\n",
        "* Price column shows a high correlation with number of rooms, bedrooms, bathrooms and car parking spaces. This indicates that more the number of rooms, bedrooms, etc more will be the selling price of a property. \n",
        "* Price has a negative correlation with Distance column. This indicates as the distance increases the selling price of a property will decrease.\n",
        "* Price has a negative correlation with YearBuilt column. This indicates that vintage properties have higher selling price as compared to properties built recently.\n",
        "* Rooms, Bedrooms, and Bathrooms show a high correlation with each other which is expected.\n",
        "* BuildingArea and Landsize shows a positive correlation which makes sense as if the land size is more the building area will also be more.\n",
        "* We should not consider the correlation value with Postcode because this column is a unique identifier for an area, and an increase or decrease in postcode can not impact any other feature."
      ]
    },
    {
      "attachments": {},
      "cell_type": "markdown",
      "metadata": {
        "id": "UHfmNHyjjxFT"
      },
      "source": [
        "**Properties which have more space for living or more number of rooms, bedrooms and bathrooms generally tend to have higher selling prices. Let's analyze the relationship between the price and total number of rooms in a property**"
      ]
    },
    {
      "cell_type": "code",
      "execution_count": null,
      "metadata": {
        "colab": {
          "base_uri": "https://localhost:8080/",
          "height": 374
        },
        "id": "ttM_i-3Kkcef",
        "outputId": "8cd8a2ed-02bc-44f6-8571-ea55ba3ded95"
      },
      "outputs": [],
      "source": [
        "# let's create a column with a sum of number of rooms, bedrooms, bathrooms, and car parking spaces \n",
        "data['Total Space'] = data['Rooms'] + data['Bedroom'] + data['Bathroom'] + data['Car']\n",
        "data.head()\n"
      ]
    },
    {
      "attachments": {},
      "cell_type": "markdown",
      "metadata": {
        "id": "b_1dHSCtksIb"
      },
      "source": [
        "* The column has been successfully added in the data frame."
      ]
    },
    {
      "cell_type": "code",
      "execution_count": null,
      "metadata": {
        "colab": {
          "base_uri": "https://localhost:8080/",
          "height": 345
        },
        "id": "-GURbUCUk4lX",
        "outputId": "7a9280e2-0a0d-46b6-ceb6-9d19b7e5ca31"
      },
      "outputs": [],
      "source": [
        "plt.figure(figsize=(10,5))\n",
        "sns.scatterplot(data=data,x='Total Space',y='Price')\n",
        "plt.show()"
      ]
    },
    {
      "attachments": {},
      "cell_type": "markdown",
      "metadata": {
        "id": "gg3lKcnpBwrn"
      },
      "source": [
        "* We can see an increasing trend of selling price with total space. Let's visualize the trend using lmplot()."
      ]
    },
    {
      "cell_type": "code",
      "execution_count": null,
      "metadata": {
        "colab": {
          "base_uri": "https://localhost:8080/",
          "height": 369
        },
        "id": "aOHwBExOBwro",
        "outputId": "c465f312-468d-46a7-d323-f79de433b3f0"
      },
      "outputs": [],
      "source": [
        "sns.lmplot(data=data,x='Total Space',y='Price',height=5,aspect=2)\n",
        "plt.xlim(0,55)\n",
        "plt.show()"
      ]
    },
    {
      "attachments": {},
      "cell_type": "markdown",
      "metadata": {
        "id": "eLrZu7iVk-Dk"
      },
      "source": [
        "* A positive correlation or an increasing trend can be clearly observed between the total number of rooms and the selling price of the property, although the line plotted by lmlot() doesn't show a high correlation. Let's check the correlation value further.\n",
        "* The positive correlation indicates that more living space implies a higher selling price."
      ]
    },
    {
      "cell_type": "code",
      "execution_count": null,
      "metadata": {
        "colab": {
          "base_uri": "https://localhost:8080/",
          "height": 112
        },
        "id": "YzLfovNbBwro",
        "outputId": "d90a0623-8362-4c0f-eda4-245017c09092"
      },
      "outputs": [],
      "source": [
        "# lets check the correlation between Total space and Price\n",
        "data[['Total Space','Price']].corr()"
      ]
    },
    {
      "attachments": {},
      "cell_type": "markdown",
      "metadata": {
        "id": "EhnHr0blBwro"
      },
      "source": [
        "* As expected, there is a positive correlation between Total Space and Price but it is not very high."
      ]
    },
    {
      "attachments": {},
      "cell_type": "markdown",
      "metadata": {
        "id": "5dsmoF3qlf8S"
      },
      "source": [
        "**The distance of the property from the key facilities play a cruicial role in deciding the selling price of a property. The properties located closer to key facilities tend to be priced higher and vice versa. Let's find out if the same relationship exists in our data**"
      ]
    },
    {
      "cell_type": "code",
      "execution_count": null,
      "metadata": {
        "colab": {
          "base_uri": "https://localhost:8080/",
          "height": 453
        },
        "id": "9mpaFosXme6m",
        "outputId": "cdf51dff-0479-460b-8569-bd54a22b7d18"
      },
      "outputs": [],
      "source": [
        "plt.figure(figsize=(15,7))\n",
        "sns.scatterplot(data=data, x='Distance', y ='Price')\n",
        "plt.show()"
      ]
    },
    {
      "cell_type": "code",
      "execution_count": null,
      "metadata": {
        "colab": {
          "base_uri": "https://localhost:8080/",
          "height": 453
        },
        "id": "rEYQwTUldmDN",
        "outputId": "5f310788-7bd9-4a48-ed5c-c86fc7f9ead7"
      },
      "outputs": [],
      "source": [
        "plt.figure(figsize=(15,7))\n",
        "sns.lineplot(data=data, x='Distance', y ='Price',ci=None)\n",
        "plt.show()"
      ]
    },
    {
      "attachments": {},
      "cell_type": "markdown",
      "metadata": {
        "id": "36a27fNQmkOF"
      },
      "source": [
        "* We observe that after 20-25 Kms the selling price of the properties starts decreasing which indicates that distance plays a key role in deciding the selling price of a property.\n",
        "* Let's create bins/buckets for the Distance column to get better visualization of the relationship between Price and Distance."
      ]
    },
    {
      "attachments": {},
      "cell_type": "markdown",
      "metadata": {
        "id": "A-hrbCddBwro"
      },
      "source": [
        "**Creating bins for distance column**\n",
        "* 0 - 15  KMs  - The property will be said to be in **`Nearby`** location.\n",
        "* 15 - 30 KMs - The property will be said to be in **`Moderately Close`** location.\n",
        "* 30 - 50 KMs - The property will be said to be in **`Far`** away location.\n",
        "\n",
        "We will use **pd.cut() function** to create the bins in Distance column.\n",
        "\n",
        "    Syntax: pd.cut(x, bins, labels=None, right=False)\n",
        "    \n",
        "    x - column/array to binned\n",
        "    bins - number of bins to create or an input of list for the range of bins\n",
        "    labels - specifies the labels for the bins\n",
        "    right - If set to False, it excludes the rightmost edge of the interval"
      ]
    },
    {
      "cell_type": "code",
      "execution_count": null,
      "metadata": {
        "id": "EnTlfSg-Bwro"
      },
      "outputs": [],
      "source": [
        "# using pd.cut() function to create bins\n",
        "data['Distance_bins'] = pd.cut(data['Distance'],bins=[0,15,30,50],labels=['Nearby','Moderately Close','Far'], right = False)"
      ]
    },
    {
      "cell_type": "code",
      "execution_count": null,
      "metadata": {
        "colab": {
          "base_uri": "https://localhost:8080/",
          "height": 374
        },
        "id": "lUGEHaCrYZoE",
        "outputId": "b2fc8ccb-2742-45df-bb92-187b78645b87"
      },
      "outputs": [],
      "source": [
        "data.head()"
      ]
    },
    {
      "attachments": {},
      "cell_type": "markdown",
      "metadata": {
        "id": "u-KCtqAiBwro"
      },
      "source": [
        "**Let's check the price with the distance bins**"
      ]
    },
    {
      "cell_type": "code",
      "execution_count": null,
      "metadata": {
        "colab": {
          "base_uri": "https://localhost:8080/",
          "height": 291
        },
        "id": "VFyJ1YC8Bwro",
        "outputId": "51008a54-c982-468a-f393-ec35e9633ab7"
      },
      "outputs": [],
      "source": [
        "sns.boxplot(data=data,x='Distance_bins',y='Price')\n",
        "plt.show()"
      ]
    },
    {
      "attachments": {},
      "cell_type": "markdown",
      "metadata": {
        "id": "Uqj7_htCBwrp"
      },
      "source": [
        "* It is a little difficult to make observations from here with so many outliers present in the data. Let's turn off these outliers (not removing from data) and see if we can observe any noticeable difference."
      ]
    },
    {
      "cell_type": "code",
      "execution_count": null,
      "metadata": {
        "colab": {
          "base_uri": "https://localhost:8080/",
          "height": 291
        },
        "id": "p0rN1R-PBwrp",
        "outputId": "111fdfca-8aef-4d73-dd26-6990dace2188"
      },
      "outputs": [],
      "source": [
        "sns.boxplot(data=data,x='Distance_bins',y='Price',showfliers=False) # showfliers parameter controls the representation of outliers in the boxplot\n",
        "plt.show()"
      ]
    },
    {
      "attachments": {},
      "cell_type": "markdown",
      "metadata": {
        "id": "nQ9a9_U8Bwrp"
      },
      "source": [
        "* We can see that as the distance increases the selling price of the property decreases.\n",
        "* The properties closer to CBD have a high variance in the selling price. This variance in price decreases with the increase in distance.\n",
        "* Considering that a customer has planned the budget for buying a property as the 'median' selling price for nearby, moderately close, and far away properties.\n",
        "\n",
        "  This variation in the selling price of a property might impact the planned budget of the customer who is looking to buy a property near CBD (as the variance is high). The customer might be able to get the property within the planned budget for properties that are far from CBD.\n"
      ]
    },
    {
      "attachments": {},
      "cell_type": "markdown",
      "metadata": {
        "id": "NPFk_f7Gnx-2"
      },
      "source": [
        "**As we observed in the correlation plot there is a negative correlation between the selling price of a property and the year it was built. Let's analyze it further**"
      ]
    },
    {
      "cell_type": "code",
      "execution_count": null,
      "metadata": {
        "colab": {
          "base_uri": "https://localhost:8080/"
        },
        "id": "IGmui9zb5cPt",
        "outputId": "4239a6bc-2269-4704-d37a-9b3ca99da70f"
      },
      "outputs": [],
      "source": [
        "# let's first calculate the age of a property from the year it was built in to see how the prices vary with it\n",
        "year_at_sale = data['Date'].dt.year\n",
        "year_at_sale"
      ]
    },
    {
      "cell_type": "code",
      "execution_count": null,
      "metadata": {
        "colab": {
          "base_uri": "https://localhost:8080/"
        },
        "id": "yduUaOkIb52Z",
        "outputId": "cf79422d-6724-4bbf-9366-1bc1cb685425"
      },
      "outputs": [],
      "source": [
        "np.max(year_at_sale)"
      ]
    },
    {
      "cell_type": "code",
      "execution_count": null,
      "metadata": {
        "colab": {
          "base_uri": "https://localhost:8080/",
          "height": 374
        },
        "id": "-9VRTW7Ho8KE",
        "outputId": "a5c2c80f-a1f5-44cc-ec81-1c2f15800975"
      },
      "outputs": [],
      "source": [
        "data['AgeofProp'] = year_at_sale - data['YearBuilt']\n",
        "data.head()"
      ]
    },
    {
      "attachments": {},
      "cell_type": "markdown",
      "metadata": {
        "id": "vSCy0TtDo9WV"
      },
      "source": [
        "* The column was added in the data frame."
      ]
    },
    {
      "cell_type": "code",
      "execution_count": null,
      "metadata": {
        "colab": {
          "base_uri": "https://localhost:8080/",
          "height": 179
        },
        "id": "ca46zfxi67M7",
        "outputId": "9c341415-435b-4b7b-b00d-159e31933c25"
      },
      "outputs": [],
      "source": [
        "data[data['AgeofProp']==-2]"
      ]
    },
    {
      "cell_type": "code",
      "execution_count": null,
      "metadata": {
        "colab": {
          "base_uri": "https://localhost:8080/",
          "height": 345
        },
        "id": "Odl2YnQjpegW",
        "outputId": "e266e5e1-7a6c-4568-c548-c423edcb95c0"
      },
      "outputs": [],
      "source": [
        "plt.figure(figsize=(15,5))\n",
        "sns.lineplot(data=data,x='AgeofProp',y='Price',ci=None)\n",
        "plt.show()"
      ]
    },
    {
      "attachments": {},
      "cell_type": "markdown",
      "metadata": {
        "id": "cwfm2hlspiXC"
      },
      "source": [
        "* We observe an increasing trend indicating the properties which are older (vintage properties) have higher selling prices.\n",
        "* The customers who wish to live in vintage properties might have to spend more money.\n",
        "* Let's see this trend for all the regions"
      ]
    },
    {
      "attachments": {},
      "cell_type": "markdown",
      "metadata": {
        "id": "zWq3n1onBwrp"
      },
      "source": [
        "* sns.relplot() is used to visualize any statistical relationships between quantitative variables.\n",
        "* Why use relplot() instead of scatterplot() ?\n",
        "    * relplot() lets you create multiple plots on a single axis.\n",
        "        - kind - specifies the kind of plot to draw (scatter or line)\n",
        "        - ci - specifies the confidence interval\n",
        "        - col_wrap - specifies the number of columns in the grid"
      ]
    },
    {
      "cell_type": "code",
      "execution_count": null,
      "metadata": {
        "colab": {
          "base_uri": "https://localhost:8080/",
          "height": 593
        },
        "id": "IMw4MEBgBwrq",
        "outputId": "744e947c-633d-48dc-875f-5f32344c64a8"
      },
      "outputs": [],
      "source": [
        "sns.relplot(data=data,x='AgeofProp',y='Price',col='Regionname',kind='line', ci=None, col_wrap=4)\n",
        "plt.show()\n",
        "# double click on the plot to zoom in"
      ]
    },
    {
      "attachments": {},
      "cell_type": "markdown",
      "metadata": {
        "id": "8HYwdrlhBwrq"
      },
      "source": [
        "* The trend of selling price increasing with the increase in age of the property is evident from the plot for Metropolitan regions.\n",
        "* The trend of Victoria regions is slightly unclear, but this was expected as the number of data points for these regions is very low."
      ]
    },
    {
      "attachments": {},
      "cell_type": "markdown",
      "metadata": {
        "id": "bH1Z559QroOZ"
      },
      "source": [
        "**The price of properties vary based on the type of the property. For example, a villa may be priced higher than a duplex because of more amenities. Let's see which type of property is priced higher.**"
      ]
    },
    {
      "cell_type": "code",
      "execution_count": null,
      "metadata": {
        "colab": {
          "base_uri": "https://localhost:8080/",
          "height": 345
        },
        "id": "NAWsl0n2rc74",
        "outputId": "d91bc8f0-9abb-4fc0-80ce-48650df6a893"
      },
      "outputs": [],
      "source": [
        "plt.figure(figsize=(10,5))\n",
        "sns.boxplot(data=data,x='Type',y='Price',showfliers=False) # turning off outliers\n",
        "plt.show()"
      ]
    },
    {
      "attachments": {},
      "cell_type": "markdown",
      "metadata": {
        "id": "t33ijNWCreh0"
      },
      "source": [
        "* The properties like villa, cottage, etc have a higher median price as compared to a townhouse and a duplex.\n",
        "* The townhouses have a higher median price than unit, duplex properties.\n",
        "* Customers planning to buy 'h' type property might have to invest more."
      ]
    },
    {
      "attachments": {},
      "cell_type": "markdown",
      "metadata": {
        "id": "V_wgsd9vsiiS"
      },
      "source": [
        "**Similarly the region of the property will play an integral role in deciding the selling price. Let' do a similar analysis with regions as well**"
      ]
    },
    {
      "cell_type": "code",
      "execution_count": null,
      "metadata": {
        "colab": {
          "base_uri": "https://localhost:8080/",
          "height": 471
        },
        "id": "dmhtEvgvs6VQ",
        "outputId": "493a5ae8-ab9b-42b0-a187-0f0bab215d59"
      },
      "outputs": [],
      "source": [
        "plt.figure(figsize=(10,5))\n",
        "sns.boxplot(data=data,x='Regionname',y='Price',showfliers=False) # turning off outliers\n",
        "plt.xticks(rotation=90)\n",
        "plt.show()"
      ]
    },
    {
      "cell_type": "code",
      "execution_count": null,
      "metadata": {
        "colab": {
          "base_uri": "https://localhost:8080/",
          "height": 593
        },
        "id": "FU_v-EQwBwrq",
        "outputId": "e2bedc00-8f3a-4d37-950a-6e202125c04a"
      },
      "outputs": [],
      "source": [
        "# Dispersion of price in every region\n",
        "sns.catplot(x='Price',\n",
        "            col='Regionname', \n",
        "            data=data,\n",
        "            col_wrap=4,\n",
        "            kind=\"violin\")\n",
        "plt.show()"
      ]
    },
    {
      "attachments": {},
      "cell_type": "markdown",
      "metadata": {
        "id": "OKwDi0-CtAKP"
      },
      "source": [
        "* In Metropolitan, the southern and eastern regions have the costliest properties while the northern and western properties are priced similarly.\n",
        "\n",
        "* In Victoria, there is an increasing trend of prices, western having the lowest priced properties while northern has moderately priced properties, and eastern region having high priced properties."
      ]
    },
    {
      "attachments": {},
      "cell_type": "markdown",
      "metadata": {
        "id": "rHgXtgbEzbHe"
      },
      "source": [
        "### 4.4 Missing value treatment"
      ]
    },
    {
      "attachments": {},
      "cell_type": "markdown",
      "metadata": {
        "id": "UoaEmEheBwrr"
      },
      "source": [
        "* There is no universally accepted method of dealing with missing values. \n",
        "* It is often left to the discretion of the data scientist to take a decision on missing values that is whether to impute them or drop them. \n",
        "* However, it is sometimes a good practice to impute the missing values rather than dropping them, because it can lead to loss of information in other features where values are present."
      ]
    },
    {
      "attachments": {},
      "cell_type": "markdown",
      "metadata": {
        "id": "p73w0vczBwrr"
      },
      "source": [
        "**How to treat missing values?**\n",
        "\n",
        "One of the commonly used method to deal with the missing values is to impute them with the central tendencies - mean, median, and mode of a column.\n",
        "\n",
        "* `Replacing with mean`: In this method the missing values are imputed with the mean of the column. Mean gets impacted by the presence of outliers, and in such cases where the column has outliers using this method may lead to erroneous imputations. \n",
        "\n",
        "* `Replacing with median`: In this method the missing values are imputed with the median of the column. In cases where the column has outliers, median is an appropriate measure of central tendency to deal with the missing values over mean.\n",
        "\n",
        "* `Replacing with mode`: In this method the missing values are imputed with the mode of the column. This method is generally preferred with categorical data.\n",
        "\n",
        "* Other methods include k-NN, MICE, SMOTE, deep learning, ..."
      ]
    },
    {
      "attachments": {},
      "cell_type": "markdown",
      "metadata": {
        "id": "Q4qAvBaiBwrr"
      },
      "source": [
        "**Limitations of imputing missing values with central tendencies**\n",
        "\n",
        "* When we impute the missing values with central tendencies the original distribution of the feature can get distorted. \n",
        "* After imputation with the central value the variance and standard deviation of a feature can get drastically impacted.\n",
        "* The impact of distortion is higher with higher percentage of missing values.\n",
        "\n",
        "So, before directly imputing the missing values with central values of column we should investigate the missing data closely to observe the pattern of missing values, and then take a decision to impute the missing value with appropriate measure."
      ]
    },
    {
      "attachments": {},
      "cell_type": "markdown",
      "metadata": {
        "id": "41gFeMafBwrr"
      },
      "source": [
        "**Lets see the count and the percentage of missing values in each column**"
      ]
    },
    {
      "cell_type": "code",
      "execution_count": null,
      "metadata": {
        "colab": {
          "base_uri": "https://localhost:8080/",
          "height": 394
        },
        "id": "idjRhUThziwX",
        "outputId": "7b262a1d-4ce1-4ebb-c21e-17ae7abf89ab"
      },
      "outputs": [],
      "source": [
        "# data.shape[0] will give us the number of rows in the dataset\n",
        "# selecting the instances where missing value is greater than 0\n",
        "pd.DataFrame({'Count':data.isnull().sum()[data.isnull().sum()>0],'Percentage':(data.isnull().sum()[data.isnull().sum()>0]/data.shape[0])*100})"
      ]
    },
    {
      "attachments": {},
      "cell_type": "markdown",
      "metadata": {
        "id": "RK_EH8zD1Ho4"
      },
      "source": [
        "* BuildingArea and YearBuilt columns have the highest percentage of missing values.\n",
        "* Distance and Postcode have the least number of missing values.\n",
        "* Bedroom, Bathroom, and Car have almost equal percentage of missing values.\n",
        "* AgeofProp and Total Space has equal percentage of missing values as YearBuilt and Bedroom, Bathroom, and Car because the information here were extracted using these columns.\n",
        "* Landsize has around 34% missing values."
      ]
    },
    {
      "attachments": {},
      "cell_type": "markdown",
      "metadata": {
        "id": "XdP8Ae1P7NuP"
      },
      "source": [
        "**Missing value treatment for Distance column**"
      ]
    },
    {
      "cell_type": "code",
      "execution_count": null,
      "metadata": {
        "colab": {
          "base_uri": "https://localhost:8080/",
          "height": 179
        },
        "id": "xTV2VhRh6PyU",
        "outputId": "a8d8fc1d-39fa-4c8e-f3ce-19605687c874"
      },
      "outputs": [],
      "source": [
        "# extracting all the information of other variables where Distance is null\n",
        "data.loc[data['Distance'].isnull()==True]"
      ]
    },
    {
      "attachments": {},
      "cell_type": "markdown",
      "metadata": {
        "id": "HpZlOaRy7bqB"
      },
      "source": [
        "* We observe that the data is missing for other attributes as well. This is a common problem with data collection where sometimes the data is not missing randomly and has a pattern in missingness. \n",
        "* Let's see if we can find more information using the name of the Suburb."
      ]
    },
    {
      "cell_type": "code",
      "execution_count": null,
      "metadata": {
        "colab": {
          "base_uri": "https://localhost:8080/",
          "height": 179
        },
        "id": "aF1Zr5Zz6qQj",
        "outputId": "d56bdd54-e623-47fd-ec27-952175da8ef2"
      },
      "outputs": [],
      "source": [
        "data.loc[data['Suburb']=='Fawkner Lot']"
      ]
    },
    {
      "attachments": {},
      "cell_type": "markdown",
      "metadata": {
        "id": "tVzaT5mJ7qa7"
      },
      "source": [
        "* We see that there is only one data entry for the Fawkner Lot suburb and in this case it is possible that data for this suburb was not collected. This shows that data is not missing randomly rather has pattern in missingness.\n",
        "* Imputing the Distance as well other information will not be a suitable approach as the imputed values will not be reliable. Hence, we will drop this row."
      ]
    },
    {
      "cell_type": "code",
      "execution_count": null,
      "metadata": {
        "id": "B3FS30bE8Qdz"
      },
      "outputs": [],
      "source": [
        "# adding the index value of the row in data.drop() function\n",
        "data = data.drop(9590).reset_index(drop=True)"
      ]
    },
    {
      "cell_type": "code",
      "execution_count": null,
      "metadata": {
        "colab": {
          "base_uri": "https://localhost:8080/",
          "height": 300
        },
        "id": "0I34B2Iv9B6T",
        "outputId": "c2cf52f6-8477-4d1f-8bc7-1e59039116fc"
      },
      "outputs": [],
      "source": [
        "pd.DataFrame({'Count':data.isnull().sum()[data.isnull().sum()>0],'Percentage':(data.isnull().sum()[data.isnull().sum()>0]/data.shape[0])*100})"
      ]
    },
    {
      "cell_type": "code",
      "execution_count": null,
      "metadata": {
        "colab": {
          "base_uri": "https://localhost:8080/",
          "height": 679
        },
        "id": "yRmcOn2CBwrs",
        "outputId": "9738de10-aa91-42ca-dc8b-325df78eba0b"
      },
      "outputs": [],
      "source": [
        "# extracting all the information of other variable where Bedroom is null\n",
        "data.loc[data['Bedroom'].isnull()==True]"
      ]
    },
    {
      "attachments": {},
      "cell_type": "markdown",
      "metadata": {
        "id": "pbswZ3BlBwrs"
      },
      "source": [
        "* It looks like wherever Bedroom is null the data points in other columns are also missing. Let's check this."
      ]
    },
    {
      "cell_type": "code",
      "execution_count": null,
      "metadata": {
        "colab": {
          "base_uri": "https://localhost:8080/"
        },
        "id": "ZyonhP1eBwrs",
        "outputId": "51dfeb96-d250-4d44-9fd7-b1d310c09128",
        "scrolled": true
      },
      "outputs": [],
      "source": [
        "data.loc[data['Bedroom'].isnull()==True,'Bathroom'].value_counts(dropna=False)"
      ]
    },
    {
      "cell_type": "code",
      "execution_count": null,
      "metadata": {
        "colab": {
          "base_uri": "https://localhost:8080/"
        },
        "id": "TuL-_5ypBwrs",
        "outputId": "e6dcef54-637e-4994-e845-11e0123bb773"
      },
      "outputs": [],
      "source": [
        "data.loc[data['Bedroom'].isnull()==True,'Car'].value_counts(dropna=False)"
      ]
    },
    {
      "cell_type": "code",
      "execution_count": null,
      "metadata": {
        "colab": {
          "base_uri": "https://localhost:8080/"
        },
        "id": "YHbt5A8bBwrs",
        "outputId": "e81e925f-422b-44f3-8ed3-f7936651018c"
      },
      "outputs": [],
      "source": [
        "data.loc[data['Bedroom'].isnull()==True,'Landsize'].value_counts(dropna=False)"
      ]
    },
    {
      "cell_type": "code",
      "execution_count": null,
      "metadata": {
        "colab": {
          "base_uri": "https://localhost:8080/"
        },
        "id": "G8ba0xFoBwrt",
        "outputId": "351d30b4-c72c-44a2-be74-29ed4e3ce79d"
      },
      "outputs": [],
      "source": [
        "data.loc[data['Bedroom'].isnull()==True,'BuildingArea'].value_counts(dropna=False)"
      ]
    },
    {
      "cell_type": "code",
      "execution_count": null,
      "metadata": {
        "colab": {
          "base_uri": "https://localhost:8080/"
        },
        "id": "eNpvkb8TBwrt",
        "outputId": "334b6218-9fd8-4582-bf9c-5b849f415f30"
      },
      "outputs": [],
      "source": [
        "data.loc[data['Bedroom'].isnull()==True,'YearBuilt'].value_counts(dropna=False)"
      ]
    },
    {
      "attachments": {},
      "cell_type": "markdown",
      "metadata": {
        "id": "lEapdRPSBwru"
      },
      "source": [
        "* There seems to be a strong pattern in missing values, as wherever the Bedroom column has missing data the other columns like Bathroom, Car, Landsize, BuildingArea, and YearBuilt also have missing values.\n",
        "* Let's see if the missing data has some pattern in suburbs, and regions of properties."
      ]
    },
    {
      "cell_type": "code",
      "execution_count": null,
      "metadata": {
        "colab": {
          "base_uri": "https://localhost:8080/"
        },
        "id": "DEB3bLT0Bwru",
        "outputId": "3f9052ec-5821-41ff-f10b-90ca5cf97543"
      },
      "outputs": [],
      "source": [
        "data.loc[data['Bedroom'].isnull()==True,'Suburb'].value_counts(dropna=False)"
      ]
    },
    {
      "cell_type": "code",
      "execution_count": null,
      "metadata": {
        "colab": {
          "base_uri": "https://localhost:8080/"
        },
        "id": "ABvRH-hVBwru",
        "outputId": "29dbd994-cbda-476d-a3d5-c6813c4e70a5"
      },
      "outputs": [],
      "source": [
        "# to find the total number of unique values in a suburb\n",
        "data['Suburb'].nunique()"
      ]
    },
    {
      "attachments": {},
      "cell_type": "markdown",
      "metadata": {
        "id": "6lYtXtAUBwru"
      },
      "source": [
        "* Across 344 suburbs the missing values are present in 307 suburbs, indicating that the most suburbs have missing values.\n",
        "* There seems to be no pattern of missing values with respect to suburb column."
      ]
    },
    {
      "cell_type": "code",
      "execution_count": null,
      "metadata": {
        "colab": {
          "base_uri": "https://localhost:8080/"
        },
        "id": "ryrYtB5aBwru",
        "outputId": "58435a54-15c7-41bb-9e09-bd36988706a4"
      },
      "outputs": [],
      "source": [
        "data.loc[data['Bedroom'].isnull()==True,'Regionname'].value_counts(dropna=False)"
      ]
    },
    {
      "attachments": {},
      "cell_type": "markdown",
      "metadata": {
        "id": "dX9FthhKBwrv"
      },
      "source": [
        "* Similar to suburbs there seems to be no notable pattern across different regions."
      ]
    },
    {
      "attachments": {},
      "cell_type": "markdown",
      "metadata": {
        "id": "nPfQ8qpE-eHW"
      },
      "source": [
        "**Missing value treatment for Bedroom, Bathroom, and Car columns**"
      ]
    },
    {
      "attachments": {},
      "cell_type": "markdown",
      "metadata": {
        "id": "wjZh2ev5-ojX"
      },
      "source": [
        "* One of the approaches to treat the missing values of these columns would be to group the data on the basis of Region and Type of the property to get a better idea of the average number of bedrooms, bathrooms, and car parking spaces.\n",
        "* It is more likely that a property of certain type in a given region would have similar number of bedrooms, bathrooms, and car parking spaces."
      ]
    },
    {
      "cell_type": "code",
      "execution_count": null,
      "metadata": {
        "colab": {
          "base_uri": "https://localhost:8080/",
          "height": 708
        },
        "id": "8xotQYE_1S_m",
        "outputId": "3aa1c774-90ca-48b9-d8f1-8693ab6e959e"
      },
      "outputs": [],
      "source": [
        "# checking the average number of bedrooms, bathrooms, and car parking spaces in a region\n",
        "data.groupby(['Regionname','Type'])[['Bedroom','Bathroom','Car']].mean()"
      ]
    },
    {
      "attachments": {},
      "cell_type": "markdown",
      "metadata": {
        "id": "Qg5fkq3pBwrv"
      },
      "source": [
        "* We have received the mean number of Bedrooms, Bathrooms, and Car parking spaces for each type of property in a specific region."
      ]
    },
    {
      "attachments": {},
      "cell_type": "markdown",
      "metadata": {
        "id": "39YodvZfBwrv"
      },
      "source": [
        "We will use fillna() function and transform method of pandas to impute the missing values.\n",
        "\n",
        "**fillna() Function -** The fillna() function is used to fill NaN values using the provide input value.\n",
        "\n",
        "       Syntax of fillna():  data['column'].fillna(value = x)\n",
        " \n",
        "-----\n",
        "\n",
        "**transform function -** The transform() function works on each value of  a DataFrame and allows to execute a specified function on each value.\n",
        "\n",
        "    Sytanx of transform function: data.transform(func = function name)\n",
        "\n",
        "    * func - A function to be executed on the values of the DataFrame.\n"
      ]
    },
    {
      "cell_type": "code",
      "execution_count": null,
      "metadata": {
        "id": "FbnmlIf9Bwrv"
      },
      "outputs": [],
      "source": [
        "# imputing missing values in Bedroom column\n",
        "data['Bedroom'] = data['Bedroom'].fillna(value = data.groupby(['Regionname','Type'])['Bedroom'].transform('mean'))"
      ]
    },
    {
      "cell_type": "code",
      "execution_count": null,
      "metadata": {
        "id": "_z5WG2G5Bwrv"
      },
      "outputs": [],
      "source": [
        "# imputing missing values in Bathroom column\n",
        "data['Bathroom'] = data['Bathroom'].fillna(value = data.groupby(['Regionname','Type'])['Bathroom'].transform('mean'))"
      ]
    },
    {
      "cell_type": "code",
      "execution_count": null,
      "metadata": {
        "id": "cvwer1wwBwrv"
      },
      "outputs": [],
      "source": [
        "# imputing missing values in Car column\n",
        "data['Car'] = data['Car'].fillna(value = data.groupby(['Regionname','Type'])['Car'].transform('mean'))"
      ]
    },
    {
      "cell_type": "code",
      "execution_count": null,
      "metadata": {
        "colab": {
          "base_uri": "https://localhost:8080/",
          "height": 206
        },
        "id": "5MBmIBJjAN20",
        "outputId": "c8a86214-f481-4983-930f-0854c6188943"
      },
      "outputs": [],
      "source": [
        "# checking if all the missing values were imputed in Bedroom, Bathroom, and Car columns\n",
        "pd.DataFrame({'Count':data.isnull().sum()[data.isnull().sum()>0],'Percentage':(data.isnull().sum()[data.isnull().sum()>0]/data.shape[0])*100})"
      ]
    },
    {
      "attachments": {},
      "cell_type": "markdown",
      "metadata": {
        "id": "bMi5QV6xBwrw"
      },
      "source": [
        "* We see that the missing values have been imputed.\n",
        "* Let's convert all the values of Bedroom, Bathroom, and Car to integer type as these columns have discrete values."
      ]
    },
    {
      "cell_type": "code",
      "execution_count": null,
      "metadata": {
        "id": "efxuOMysRbwV"
      },
      "outputs": [],
      "source": [
        "data['Bedroom'] = data['Bedroom'].astype(int)\n",
        "data['Bathroom'] = data['Bathroom'].astype(int)\n",
        "data['Car'] = data['Car'].astype(int)"
      ]
    },
    {
      "attachments": {},
      "cell_type": "markdown",
      "metadata": {
        "id": "TXuDuhKwHi69"
      },
      "source": [
        "**Missing values of Total Space column**\n",
        "\n",
        "We can create this feature again from the combination of Rooms, Bedroom, Bathroom, and Car as the missing values have now been imputed."
      ]
    },
    {
      "cell_type": "code",
      "execution_count": null,
      "metadata": {
        "id": "6ZYu-m0rHyxJ"
      },
      "outputs": [],
      "source": [
        "# removing Total Space column\n",
        "data.drop('Total Space',axis=1,inplace=True)\n",
        "\n",
        "# creating new Total Space column\n",
        "data['Total_Space_New'] = data['Rooms'] + data['Bedroom'] + data['Bathroom'] + data['Car']\n",
        "data['Total_Space_New'] = data['Total_Space_New'].astype(int)"
      ]
    },
    {
      "attachments": {},
      "cell_type": "markdown",
      "metadata": {
        "id": "MBQ0nT5bII8D"
      },
      "source": [
        "**Note:**\n",
        "\n",
        "It is a good idea to check the distributions of the column again after missing value imputation"
      ]
    },
    {
      "attachments": {},
      "cell_type": "markdown",
      "metadata": {
        "id": "QwLyui3aJUeH"
      },
      "source": [
        "**Let's check the relationship of Total Space column with Price once again**"
      ]
    },
    {
      "cell_type": "code",
      "execution_count": null,
      "metadata": {
        "colab": {
          "base_uri": "https://localhost:8080/",
          "height": 291
        },
        "id": "J1Jjc94dIbcr",
        "outputId": "3effc88b-ecc1-4969-fb25-77ae92cae646"
      },
      "outputs": [],
      "source": [
        "sns.scatterplot(data=data,x='Total_Space_New',y='Price')\n",
        "plt.show()"
      ]
    },
    {
      "attachments": {},
      "cell_type": "markdown",
      "metadata": {
        "id": "7J6SHamcIirI"
      },
      "source": [
        "* We observe that the relationship between Total Space and Price has not changed and the positive relation between these variables is still maintained, which is a good thing."
      ]
    },
    {
      "attachments": {},
      "cell_type": "markdown",
      "metadata": {
        "id": "UqN3s1coDbl9"
      },
      "source": [
        "**Missing value Treatment for Landsize**"
      ]
    },
    {
      "attachments": {},
      "cell_type": "markdown",
      "metadata": {
        "id": "5iMDHeHzEo4y"
      },
      "source": [
        "* We will use similar approach we took for imputing missing values in Bedroom, Bathroom, and Car columns. Using region and type of property will be a good way to find the size of land.\n",
        "* Let's plot the distribution of Landsize."
      ]
    },
    {
      "cell_type": "code",
      "execution_count": null,
      "metadata": {
        "colab": {
          "base_uri": "https://localhost:8080/",
          "height": 369
        },
        "id": "5sEYJdCpBwrx",
        "outputId": "67eee073-ca48-43fc-8b68-2b64fd88c1a6"
      },
      "outputs": [],
      "source": [
        "sns.displot(data=data,x='Landsize',kind='kde')\n",
        "plt.show()"
      ]
    },
    {
      "attachments": {},
      "cell_type": "markdown",
      "metadata": {
        "id": "vyR5G20dBwrx"
      },
      "source": [
        "* As Landsize column is skewed, using average value for imputation might not be the correct method as mean gets impacted by outliers. So we will use median value to impute the missing values of this column as median is not affected by the outliers."
      ]
    },
    {
      "cell_type": "code",
      "execution_count": null,
      "metadata": {
        "colab": {
          "base_uri": "https://localhost:8080/",
          "height": 708
        },
        "id": "7XtAYLABGAu5",
        "outputId": "90ac9a1f-e483-40db-e02f-6996cf9a91bd"
      },
      "outputs": [],
      "source": [
        "data.groupby(['Regionname','Type'])[['Landsize']].median()"
      ]
    },
    {
      "attachments": {},
      "cell_type": "markdown",
      "metadata": {
        "id": "n2OQgkZXGKzp"
      },
      "source": [
        "* We have received the median value of Landsize for each type of property in a specific region."
      ]
    },
    {
      "cell_type": "code",
      "execution_count": null,
      "metadata": {
        "id": "Jx_4fIgSFYna"
      },
      "outputs": [],
      "source": [
        "# grouping data on region and type of property\n",
        "# finding the median of landsize for each group and imputing the missing data with it\n",
        "data['Landsize'] = data['Landsize'].fillna(value = data.groupby(['Regionname','Type'])['Landsize'].transform('median'))"
      ]
    },
    {
      "cell_type": "code",
      "execution_count": null,
      "metadata": {
        "colab": {
          "base_uri": "https://localhost:8080/",
          "height": 143
        },
        "id": "YOVY5E1AFtae",
        "outputId": "56268b50-6198-4705-b39a-c4225a398ebc"
      },
      "outputs": [],
      "source": [
        "# checking if all the missing values were imputed in Landsize column\n",
        "pd.DataFrame({'Count':data.isnull().sum()[data.isnull().sum()>0],'Percentage':(data.isnull().sum()[data.isnull().sum()>0]/data.shape[0])*100})"
      ]
    },
    {
      "attachments": {},
      "cell_type": "markdown",
      "metadata": {
        "id": "o7GDDc-hBwrx"
      },
      "source": [
        "**Missing value treatment for BuildingArea, YearBuilt, and AgeofProp**"
      ]
    },
    {
      "attachments": {},
      "cell_type": "markdown",
      "metadata": {
        "id": "A5TbK4MFGx4p"
      },
      "source": [
        "* We will not do any imputation for Building Area and Year Built as these columns have more than 50% of missing data. As AgeofProp was extracted from YearBuilt column we can not do imputations in it as well.\n",
        "* Any imputation in these columns will result in creation of new data points which will not be reliable to extract insights from.\n",
        "* We have two options here - \n",
        "    * Option 1 - We can use the data which is not null to proceed with the analysis which will allow us to preserve the data which is not missing\n",
        "    * Option 2- We can drop these columns from the data but it will lead to loss of data points from the data frame.\n",
        "    "
      ]
    },
    {
      "cell_type": "code",
      "execution_count": null,
      "metadata": {
        "colab": {
          "base_uri": "https://localhost:8080/",
          "height": 357
        },
        "id": "naN_cvUfBwry",
        "outputId": "c38a6eed-1f7f-4a12-89e2-eef92c8b4df5"
      },
      "outputs": [],
      "source": [
        "# Taking option 1 to remove the 61% null values from the building area column  \n",
        "new_data = data[data['BuildingArea'].notnull()]\n",
        "new_data.head()"
      ]
    },
    {
      "attachments": {},
      "cell_type": "markdown",
      "metadata": {
        "id": "kT6D1LS7Bwry"
      },
      "source": [
        "* We observe that the index of data frame has changed and the rows which had missing values in BuildingArea column have been removed.\n",
        "* Similarly the above steps can be repeated for YearBuilt and AgeofProp column."
      ]
    },
    {
      "cell_type": "code",
      "execution_count": null,
      "metadata": {
        "id": "XEF9gbMTHUs2"
      },
      "outputs": [],
      "source": [
        "# Option 2 -  dropping columns BuildingArea, YearBuilt, and AgeofProp from the data frame\n",
        "data = data.drop(['BuildingArea','YearBuilt','AgeofProp'],axis=1)"
      ]
    },
    {
      "cell_type": "code",
      "execution_count": null,
      "metadata": {
        "id": "4HhmDonjN_VX"
      },
      "outputs": [],
      "source": [
        "# saving the dataset with all the missing values treated\n",
        "data.to_csv('/content/drive/MyDrive/Python Course/Melbourne_Housing_NoMissing.csv',index=False)"
      ]
    },
    {
      "attachments": {},
      "cell_type": "markdown",
      "metadata": {
        "id": "-LJmcUgkIxXd"
      },
      "source": [
        "### 4.5 Outlier Detection and Treatment"
      ]
    },
    {
      "cell_type": "code",
      "execution_count": null,
      "metadata": {
        "colab": {
          "base_uri": "https://localhost:8080/",
          "height": 443
        },
        "id": "2ZOIRsE_Bwry",
        "outputId": "c08dc109-8b4e-42d8-9f3e-5c0b494f34da"
      },
      "outputs": [],
      "source": [
        "from IPython.display import Image\n",
        "Image(\"/content/drive/MyDrive/Python Course/boxplot.png\")"
      ]
    },
    {
      "attachments": {},
      "cell_type": "markdown",
      "metadata": {
        "id": "h7qsikUBBwry"
      },
      "source": [
        "* An outlier is a data point that are abnormally/unrealistically distant from other points in the data. \n",
        "\n",
        "* The challenge with outlier detection is determining if a point is truly a problem or simply a large value. If a point is genuine then it is very important to keep it in the data as otherwise we're removing the most interesting data points. \n",
        "\n",
        "* It is left to the best judgement of the investigator to decide whether treating outliers is necessary and how to go about it. Domain Knowledge and impact of the business problem tend to drive this decision."
      ]
    },
    {
      "attachments": {},
      "cell_type": "markdown",
      "metadata": {
        "id": "TRw_FYSqBwry"
      },
      "source": [
        "**Handling outliers**\n",
        "\n",
        "Some of the commonly methods to deal with the data points that we actually flag as outliers are:\n",
        "\n",
        "* Replacement with null values - We can consider these data points as missing data and replace the abnormal values with NaNs.\n",
        "* IQR method - Replace the data points with the lower whisker (Q1 - 1.5 * IQR) or upper whisker (Q3 + 1.5 * IQR) value.\n",
        "* We can also drop these observations, but we might end up with losing other relevant observations as well.\n",
        "\n",
        "So, it is often a good idea to examine the results by  running an analysis with and without outliers."
      ]
    },
    {
      "cell_type": "code",
      "execution_count": null,
      "metadata": {
        "colab": {
          "base_uri": "https://localhost:8080/",
          "height": 357
        },
        "id": "kXc5d3m0P_-8",
        "outputId": "6da74d21-b155-44c0-e053-c382d0eed822"
      },
      "outputs": [],
      "source": [
        "# reading the dataset \n",
        "data = pd.read_csv('Melbourne_Housing_NoMissing.csv')\n",
        "data.head()"
      ]
    },
    {
      "attachments": {},
      "cell_type": "markdown",
      "metadata": {
        "id": "RRJfDtTkKpUL"
      },
      "source": [
        "**Let's visualize all the outliers present in data together**"
      ]
    },
    {
      "cell_type": "code",
      "execution_count": null,
      "metadata": {
        "colab": {
          "base_uri": "https://localhost:8080/",
          "height": 673
        },
        "id": "W88hFlzFJ0Qo",
        "outputId": "baab581c-be10-4d11-feb5-d0595eef77e8"
      },
      "outputs": [],
      "source": [
        "# outlier detection using boxplot\n",
        "# selecting the numerical columns of data and adding their names in a list \n",
        "numeric_columns = ['Rooms', 'Distance', 'Postcode', 'Bedroom', 'Bathroom', 'Car','Landsize',\n",
        "                   'Propertycount', 'Price']\n",
        "plt.figure(figsize=(15, 12))\n",
        "\n",
        "for i, variable in enumerate(numeric_columns):\n",
        "    plt.subplot(4, 4, i + 1)\n",
        "    plt.boxplot(data[variable], whis=1.5)\n",
        "    plt.tight_layout()\n",
        "    plt.title(variable)\n",
        "\n",
        "plt.show()"
      ]
    },
    {
      "attachments": {},
      "cell_type": "markdown",
      "metadata": {
        "id": "Hf7XwqkXMDOv"
      },
      "source": [
        "We can see that all the numerical features in the data set have outliers present in them.\n",
        "\n",
        "\n",
        "**Let's analyze each column to see if the values in them can be considered as outliers or not.**\n",
        "  \n",
        "  \n",
        " * Rooms, Bedroom, Bathroom, Car - The values which are being represented as outliers in the above boxplot may not seem realistic in some cases. For example- It is not common to have more than 15 rooms, 15 bedrooms, and more than 10 car parking spaces in a general scenario. \n",
        "\n",
        "Although these values can not be considered to be unrealistic but we will rarely see such high number of rooms, bedrooms, bathrooms and car parking in a property. So, we will treat the outliers in this column.\n",
        "  \n",
        "  \n",
        " * Distance - The outliers in this column can be considered as genuine values because a property can be at varying distances from the C.B.D. In the context of this problem we will not consider these values as outliers.\n",
        " \n",
        " \n",
        " * Postcode - Postcodes are a combination of several numerical values based on region, sub-region, etc and these cannot be considered as outliers. \n",
        " \n",
        " \n",
        " \n",
        " * Landsize - The values in this column seem unrealistic as some of the properties have a Land size greater than 0.1 Sq Kms. So, we will treat the outliers in this column.\n",
        " \n",
        " \n",
        " \n",
        " * Propertycount- Each suburb can have varying number of properties depending upon the region and the area of a suburb. Hence, the count of properties in a suburb can be considered as genuine values and not outliers.\n",
        " \n",
        " \n",
        " \n",
        " * Price - The selling price of properties depends upon various factors (for example location of a property) and the prices can change from time to time. Hence, the selling price of properties can be considered as genuine values and not outliers."
      ]
    },
    {
      "attachments": {},
      "cell_type": "markdown",
      "metadata": {
        "id": "9eEwAfXVKBpQ"
      },
      "source": [
        "**Let's find the percentage of outliers, in each column of the data, using IQR.**"
      ]
    },
    {
      "cell_type": "code",
      "execution_count": null,
      "metadata": {
        "id": "oGVSduRmnIgg"
      },
      "outputs": [],
      "source": [
        "# to find the 25th percentile and 75th percentile for the numerical columns.\n",
        "Q1 = data[numeric_columns].quantile(0.25)\n",
        "Q3 = data[numeric_columns].quantile(0.75)\n",
        "\n",
        "IQR = Q3 - Q1                   #Inter Quantile Range (75th percentile - 25th percentile)\n",
        "\n",
        "lower_whisker = Q1 - 1.5*IQR    #Finding lower and upper bounds for all values. All values outside these bounds are outliers\n",
        "upper_whisker = Q3 + 1.5*IQR"
      ]
    },
    {
      "cell_type": "code",
      "execution_count": null,
      "metadata": {
        "colab": {
          "base_uri": "https://localhost:8080/"
        },
        "id": "DnlOSPRIL37P",
        "outputId": "3c2cf052-da6f-4572-8a77-c223cb6064c3"
      },
      "outputs": [],
      "source": [
        "# Percentage of outliers in each column\n",
        "((data[numeric_columns] < lower_whisker) | (data[numeric_columns] > upper_whisker)).sum()/data.shape[0]*100"
      ]
    },
    {
      "attachments": {},
      "cell_type": "markdown",
      "metadata": {
        "id": "4YwDh9wQBwrz"
      },
      "source": [
        "**Treating outliers**\n",
        "\n",
        "We will cap/clip the minimum and maximum value of these columns to the lower and upper whisker value of the boxplot found using  **Q1 - 1.5*IQR** and **Q3 + 1.5*IQR**, respectively.\n",
        "\n",
        "**Note**: Generally, a value of 1.5 * IQR is taken to cap the values of outliers to upper and lower whiskers but any number (example 0.5, 2, 3, etc) other than 1.5 can be chosen. The value depends upon the business problem statement."
      ]
    },
    {
      "attachments": {},
      "cell_type": "markdown",
      "metadata": {
        "id": "i9xyIcIJVJTL"
      },
      "source": [
        "**Creating a function to floor and cap/clip outliers in a column**"
      ]
    },
    {
      "cell_type": "code",
      "execution_count": null,
      "metadata": {
        "id": "z6EV9RLefUob"
      },
      "outputs": [],
      "source": [
        "def treat_outliers(df, col):\n",
        "    \"\"\"\n",
        "    treats outliers in a variable\n",
        "    col: str, name of the numerical variable\n",
        "    df: dataframe\n",
        "    col: name of the column\n",
        "    \"\"\"\n",
        "    Q1 = df[col].quantile(0.25)  # 25th quantile\n",
        "    Q3 = df[col].quantile(0.75)  # 75th quantile\n",
        "    IQR = Q3 - Q1                # Inter Quantile Range (75th perentile - 25th percentile)\n",
        "    lower_whisker = Q1 - 1.5 * IQR\n",
        "    upper_whisker = Q3 + 1.5 * IQR\n",
        "\n",
        "    # all the values smaller than lower_whisker will be assigned the value of lower_whisker\n",
        "    # all the values greater than upper_whisker will be assigned the value of upper_whisker\n",
        "    # the assignment will be done by using the clip function of NumPy\n",
        "    df[col] = np.clip(df[col], lower_whisker, upper_whisker)\n",
        "\n",
        "    return df"
      ]
    },
    {
      "attachments": {},
      "cell_type": "markdown",
      "metadata": {
        "id": "bjGsTBjkVj4R"
      },
      "source": [
        "**Treating outliers in Rooms column**"
      ]
    },
    {
      "cell_type": "code",
      "execution_count": null,
      "metadata": {
        "colab": {
          "base_uri": "https://localhost:8080/",
          "height": 279
        },
        "id": "JNMfF7jyiSK3",
        "outputId": "4ca25521-2df2-42d4-84cc-3c7a511be6b9"
      },
      "outputs": [],
      "source": [
        "data = treat_outliers(data,'Rooms')\n",
        "\n",
        "# visualizing the column after outlier treatment\n",
        "sns.boxplot(data=data,x='Rooms')\n",
        "plt.show()"
      ]
    },
    {
      "attachments": {},
      "cell_type": "markdown",
      "metadata": {
        "id": "0vbp-pFaVtaF"
      },
      "source": [
        "* The maximum number of rooms in a property have been capped to 7. All the values greater than 7 (whisker value) have been treated."
      ]
    },
    {
      "attachments": {},
      "cell_type": "markdown",
      "metadata": {
        "id": "Cig_wpR2Bwr0"
      },
      "source": [
        "**Similarly we will treat the outliers in other columns using the same approach**"
      ]
    },
    {
      "cell_type": "code",
      "execution_count": null,
      "metadata": {
        "id": "otsh8UaHiwmu"
      },
      "outputs": [],
      "source": [
        "# treating outliers of Bedroom column\n",
        "data = treat_outliers(data,'Bedroom')\n",
        "\n",
        "# treating outliers of Car column\n",
        "data = treat_outliers(data,'Car')\n",
        "\n",
        "# treating outliers of Bathroom column\n",
        "data = treat_outliers(data,'Bathroom')\n",
        "\n",
        "# treating outliers of Landsize column\n",
        "data = treat_outliers(data,'Landsize')"
      ]
    },
    {
      "attachments": {},
      "cell_type": "markdown",
      "metadata": {
        "id": "3VgXiAO3Bwr0"
      },
      "source": [
        "**Let's visualize numerical columns where outliers were treated**"
      ]
    },
    {
      "cell_type": "code",
      "execution_count": null,
      "metadata": {
        "colab": {
          "base_uri": "https://localhost:8080/",
          "height": 463
        },
        "id": "_q-mbT3eBwr0",
        "outputId": "51a4b0fc-3d51-4424-daf8-a64d12d6fcce"
      },
      "outputs": [],
      "source": [
        "# outlier detection using boxplot\n",
        "# selecting the numerical columns where outliers were treated \n",
        "numeric_columns = ['Rooms', 'Bedroom', 'Bathroom', 'Car','Landsize']\n",
        "plt.figure(figsize=(15, 12))\n",
        "\n",
        "for i, variable in enumerate(numeric_columns):\n",
        "    plt.subplot(4, 4, i + 1)\n",
        "    plt.boxplot(data[variable], whis=1.5)\n",
        "    plt.tight_layout()\n",
        "    plt.title(variable)\n",
        "\n",
        "plt.show()"
      ]
    },
    {
      "attachments": {},
      "cell_type": "markdown",
      "metadata": {
        "id": "wnA-7GnSf_gp"
      },
      "source": [
        "* All the outliers have been treated.\n",
        "* We observe that the data type of Bedroom, Bathroom, and Car has changed to float which we should change to the integer type.\n",
        "* We can also see that the distribution of Landsize column doesn't look heavily right-skewed now."
      ]
    },
    {
      "attachments": {},
      "cell_type": "markdown",
      "metadata": {
        "id": "Wsow2sRqBwr0"
      },
      "source": [
        "**Setting the data type to integer for Bedroom, Bathroom, and Car columns**"
      ]
    },
    {
      "cell_type": "code",
      "execution_count": null,
      "metadata": {
        "id": "zKcslNMkBwr0"
      },
      "outputs": [],
      "source": [
        "data['Bedroom'] = data['Bedroom'].astype(int)\n",
        "data['Bathroom'] = data['Bathroom'].astype(int)\n",
        "data['Car'] = data['Car'].astype(int)"
      ]
    },
    {
      "cell_type": "code",
      "execution_count": null,
      "metadata": {
        "id": "T6a1ic9RBwr0"
      },
      "outputs": [],
      "source": [
        "# saving the dataset with all the outlier values treated\n",
        "output_path = '/content/drive/MyDrive/Python Course/Melbourne_Housing_NoOutliers.csv'\n",
        "data.to_csv(output_path, index=False)\n",
        "# data.to_parquet(output_path, index=False)"
      ]
    }
  ],
  "metadata": {
    "colab": {
      "collapsed_sections": [
        "JffhyoX0BwrY",
        "j6uAieYsNnL4",
        "Ne1w2APnhozJ",
        "rHgXtgbEzbHe",
        "-LJmcUgkIxXd"
      ],
      "name": "Hands-on Notebook - ExploratoryDataAnalysis.ipynb",
      "provenance": []
    },
    "kernelspec": {
      "display_name": "Python 3 (ipykernel)",
      "language": "python",
      "name": "python3"
    },
    "language_info": {
      "codemirror_mode": {
        "name": "ipython",
        "version": 3
      },
      "file_extension": ".py",
      "mimetype": "text/x-python",
      "name": "python",
      "nbconvert_exporter": "python",
      "pygments_lexer": "ipython3",
      "version": "3.9.13"
    }
  },
  "nbformat": 4,
  "nbformat_minor": 0
}
