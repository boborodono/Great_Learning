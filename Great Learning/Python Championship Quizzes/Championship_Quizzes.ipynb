{
 "cells": [
  {
   "cell_type": "code",
   "execution_count": 3,
   "metadata": {},
   "outputs": [],
   "source": [
    "import pandas as pd\n",
    "import numpy as np"
   ]
  },
  {
   "cell_type": "code",
   "execution_count": 8,
   "metadata": {},
   "outputs": [],
   "source": [
    "df = pd.read_csv('C:/Users/BoboDS/Desktop/Great_Learning/Great Learning/Python Championship Quizzes/Dateset_ODI.csv')"
   ]
  },
  {
   "cell_type": "code",
   "execution_count": 9,
   "metadata": {},
   "outputs": [
    {
     "data": {
      "text/plain": [
       "(3932, 7)"
      ]
     },
     "execution_count": 9,
     "metadata": {},
     "output_type": "execute_result"
    }
   ],
   "source": [
    "df.shape"
   ]
  },
  {
   "cell_type": "code",
   "execution_count": 13,
   "metadata": {},
   "outputs": [
    {
     "name": "stdout",
     "output_type": "stream",
     "text": [
      "<class 'pandas.core.frame.DataFrame'>\n",
      "RangeIndex: 3932 entries, 0 to 3931\n",
      "Data columns (total 7 columns):\n",
      " #   Column      Non-Null Count  Dtype \n",
      "---  ------      --------------  ----- \n",
      " 0   Scorecard   3932 non-null   object\n",
      " 1   Team 1      3932 non-null   object\n",
      " 2   Team 2      3932 non-null   object\n",
      " 3   Winner      3932 non-null   object\n",
      " 4   Margin      3753 non-null   object\n",
      " 5   Ground      3932 non-null   object\n",
      " 6   Match Date  3932 non-null   object\n",
      "dtypes: object(7)\n",
      "memory usage: 215.2+ KB\n"
     ]
    }
   ],
   "source": [
    "df.info()"
   ]
  },
  {
   "cell_type": "code",
   "execution_count": 12,
   "metadata": {},
   "outputs": [
    {
     "data": {
      "text/html": [
       "<div>\n",
       "<style scoped>\n",
       "    .dataframe tbody tr th:only-of-type {\n",
       "        vertical-align: middle;\n",
       "    }\n",
       "\n",
       "    .dataframe tbody tr th {\n",
       "        vertical-align: top;\n",
       "    }\n",
       "\n",
       "    .dataframe thead th {\n",
       "        text-align: right;\n",
       "    }\n",
       "</style>\n",
       "<table border=\"1\" class=\"dataframe\">\n",
       "  <thead>\n",
       "    <tr style=\"text-align: right;\">\n",
       "      <th></th>\n",
       "      <th>Scorecard</th>\n",
       "      <th>Team 1</th>\n",
       "      <th>Team 2</th>\n",
       "      <th>Winner</th>\n",
       "      <th>Margin</th>\n",
       "      <th>Ground</th>\n",
       "      <th>Match Date</th>\n",
       "    </tr>\n",
       "  </thead>\n",
       "  <tbody>\n",
       "    <tr>\n",
       "      <th>count</th>\n",
       "      <td>3932</td>\n",
       "      <td>3932</td>\n",
       "      <td>3932</td>\n",
       "      <td>3932</td>\n",
       "      <td>3753</td>\n",
       "      <td>3932</td>\n",
       "      <td>3932</td>\n",
       "    </tr>\n",
       "    <tr>\n",
       "      <th>unique</th>\n",
       "      <td>3932</td>\n",
       "      <td>24</td>\n",
       "      <td>25</td>\n",
       "      <td>25</td>\n",
       "      <td>227</td>\n",
       "      <td>173</td>\n",
       "      <td>3386</td>\n",
       "    </tr>\n",
       "    <tr>\n",
       "      <th>top</th>\n",
       "      <td>ODI # 1</td>\n",
       "      <td>Australia</td>\n",
       "      <td>Sri Lanka</td>\n",
       "      <td>Australia</td>\n",
       "      <td>6 wickets</td>\n",
       "      <td>Sharjah</td>\n",
       "      <td>Feb 4, 2007</td>\n",
       "    </tr>\n",
       "    <tr>\n",
       "      <th>freq</th>\n",
       "      <td>1</td>\n",
       "      <td>583</td>\n",
       "      <td>508</td>\n",
       "      <td>555</td>\n",
       "      <td>347</td>\n",
       "      <td>228</td>\n",
       "      <td>6</td>\n",
       "    </tr>\n",
       "  </tbody>\n",
       "</table>\n",
       "</div>"
      ],
      "text/plain": [
       "       Scorecard     Team 1     Team 2     Winner     Margin   Ground  \\\n",
       "count       3932       3932       3932       3932       3753     3932   \n",
       "unique      3932         24         25         25        227      173   \n",
       "top      ODI # 1  Australia  Sri Lanka  Australia  6 wickets  Sharjah   \n",
       "freq           1        583        508        555        347      228   \n",
       "\n",
       "         Match Date  \n",
       "count          3932  \n",
       "unique         3386  \n",
       "top     Feb 4, 2007  \n",
       "freq              6  "
      ]
     },
     "execution_count": 12,
     "metadata": {},
     "output_type": "execute_result"
    }
   ],
   "source": [
    "df.describe()"
   ]
  },
  {
   "cell_type": "code",
   "execution_count": 14,
   "metadata": {},
   "outputs": [
    {
     "data": {
      "text/html": [
       "<div>\n",
       "<style scoped>\n",
       "    .dataframe tbody tr th:only-of-type {\n",
       "        vertical-align: middle;\n",
       "    }\n",
       "\n",
       "    .dataframe tbody tr th {\n",
       "        vertical-align: top;\n",
       "    }\n",
       "\n",
       "    .dataframe thead th {\n",
       "        text-align: right;\n",
       "    }\n",
       "</style>\n",
       "<table border=\"1\" class=\"dataframe\">\n",
       "  <thead>\n",
       "    <tr style=\"text-align: right;\">\n",
       "      <th></th>\n",
       "      <th>Scorecard</th>\n",
       "      <th>Team 1</th>\n",
       "      <th>Team 2</th>\n",
       "      <th>Winner</th>\n",
       "      <th>Margin</th>\n",
       "      <th>Ground</th>\n",
       "      <th>Match Date</th>\n",
       "    </tr>\n",
       "  </thead>\n",
       "  <tbody>\n",
       "    <tr>\n",
       "      <th>0</th>\n",
       "      <td>ODI # 1</td>\n",
       "      <td>Australia</td>\n",
       "      <td>England</td>\n",
       "      <td>Australia</td>\n",
       "      <td>5 wickets</td>\n",
       "      <td>Melbourne</td>\n",
       "      <td>Jan 5, 1971</td>\n",
       "    </tr>\n",
       "    <tr>\n",
       "      <th>1</th>\n",
       "      <td>ODI # 2</td>\n",
       "      <td>England</td>\n",
       "      <td>Australia</td>\n",
       "      <td>England</td>\n",
       "      <td>6 wickets</td>\n",
       "      <td>Manchester</td>\n",
       "      <td>Aug 24, 1972</td>\n",
       "    </tr>\n",
       "    <tr>\n",
       "      <th>2</th>\n",
       "      <td>ODI # 3</td>\n",
       "      <td>England</td>\n",
       "      <td>Australia</td>\n",
       "      <td>Australia</td>\n",
       "      <td>5 wickets</td>\n",
       "      <td>Lord's</td>\n",
       "      <td>Aug 26, 1972</td>\n",
       "    </tr>\n",
       "    <tr>\n",
       "      <th>3</th>\n",
       "      <td>ODI # 4</td>\n",
       "      <td>England</td>\n",
       "      <td>Australia</td>\n",
       "      <td>England</td>\n",
       "      <td>2 wickets</td>\n",
       "      <td>Birmingham</td>\n",
       "      <td>Aug 28, 1972</td>\n",
       "    </tr>\n",
       "    <tr>\n",
       "      <th>4</th>\n",
       "      <td>ODI # 5</td>\n",
       "      <td>New Zealand</td>\n",
       "      <td>Pakistan</td>\n",
       "      <td>New Zealand</td>\n",
       "      <td>22 runs</td>\n",
       "      <td>Christchurch</td>\n",
       "      <td>Feb 11, 1973</td>\n",
       "    </tr>\n",
       "  </tbody>\n",
       "</table>\n",
       "</div>"
      ],
      "text/plain": [
       "  Scorecard       Team 1     Team 2       Winner     Margin        Ground  \\\n",
       "0   ODI # 1    Australia    England    Australia  5 wickets     Melbourne   \n",
       "1   ODI # 2      England  Australia      England  6 wickets    Manchester   \n",
       "2   ODI # 3      England  Australia    Australia  5 wickets        Lord's   \n",
       "3   ODI # 4      England  Australia      England  2 wickets    Birmingham   \n",
       "4   ODI # 5  New Zealand   Pakistan  New Zealand    22 runs  Christchurch   \n",
       "\n",
       "     Match Date  \n",
       "0   Jan 5, 1971  \n",
       "1  Aug 24, 1972  \n",
       "2  Aug 26, 1972  \n",
       "3  Aug 28, 1972  \n",
       "4  Feb 11, 1973  "
      ]
     },
     "execution_count": 14,
     "metadata": {},
     "output_type": "execute_result"
    }
   ],
   "source": [
    "df.head()"
   ]
  },
  {
   "cell_type": "code",
   "execution_count": 15,
   "metadata": {},
   "outputs": [
    {
     "ename": "AttributeError",
     "evalue": "module 'numpy' has no attribute 'arr'",
     "output_type": "error",
     "traceback": [
      "\u001b[1;31m---------------------------------------------------------------------------\u001b[0m",
      "\u001b[1;31mAttributeError\u001b[0m                            Traceback (most recent call last)",
      "Cell \u001b[1;32mIn[15], line 1\u001b[0m\n\u001b[1;32m----> 1\u001b[0m arr \u001b[39m=\u001b[39m np\u001b[39m.\u001b[39;49marr([[\u001b[39m1\u001b[39m],[\u001b[39m3\u001b[39m],[\u001b[39m5\u001b[39m]])\n",
      "File \u001b[1;32mc:\\Users\\BoboDS\\.conda\\envs\\GreatLearn1\\lib\\site-packages\\numpy\\__init__.py:311\u001b[0m, in \u001b[0;36m__getattr__\u001b[1;34m(attr)\u001b[0m\n\u001b[0;32m    308\u001b[0m     \u001b[39mfrom\u001b[39;00m \u001b[39m.\u001b[39;00m\u001b[39mtesting\u001b[39;00m \u001b[39mimport\u001b[39;00m Tester\n\u001b[0;32m    309\u001b[0m     \u001b[39mreturn\u001b[39;00m Tester\n\u001b[1;32m--> 311\u001b[0m \u001b[39mraise\u001b[39;00m \u001b[39mAttributeError\u001b[39;00m(\u001b[39m\"\u001b[39m\u001b[39mmodule \u001b[39m\u001b[39m{!r}\u001b[39;00m\u001b[39m has no attribute \u001b[39m\u001b[39m\"\u001b[39m\n\u001b[0;32m    312\u001b[0m                      \u001b[39m\"\u001b[39m\u001b[39m{!r}\u001b[39;00m\u001b[39m\"\u001b[39m\u001b[39m.\u001b[39mformat(\u001b[39m__name__\u001b[39m, attr))\n",
      "\u001b[1;31mAttributeError\u001b[0m: module 'numpy' has no attribute 'arr'"
     ]
    }
   ],
   "source": [
    "arr = np.arr([[1],[3],[5]])"
   ]
  },
  {
   "cell_type": "code",
   "execution_count": 16,
   "metadata": {},
   "outputs": [],
   "source": [
    "dictionary = {\"MARKS\": 75, \"RANK\": 7}"
   ]
  },
  {
   "cell_type": "code",
   "execution_count": 17,
   "metadata": {},
   "outputs": [
    {
     "data": {
      "text/plain": [
       "{'MARKS': 75, 'RANK': 7}"
      ]
     },
     "execution_count": 17,
     "metadata": {},
     "output_type": "execute_result"
    }
   ],
   "source": [
    "dictionary"
   ]
  },
  {
   "cell_type": "code",
   "execution_count": 18,
   "metadata": {},
   "outputs": [
    {
     "data": {
      "text/plain": [
       "dict"
      ]
     },
     "execution_count": 18,
     "metadata": {},
     "output_type": "execute_result"
    }
   ],
   "source": [
    "type(dictionary)"
   ]
  },
  {
   "cell_type": "code",
   "execution_count": 19,
   "metadata": {},
   "outputs": [
    {
     "ename": "SyntaxError",
     "evalue": "invalid non-printable character U+200B (1865816379.py, line 1)",
     "output_type": "error",
     "traceback": [
      "\u001b[1;36m  Cell \u001b[1;32mIn[19], line 1\u001b[1;36m\u001b[0m\n\u001b[1;33m    matrix = np.array([[​1​,​2],[3,4],[5,6​]])\u001b[0m\n\u001b[1;37m                        ^\u001b[0m\n\u001b[1;31mSyntaxError\u001b[0m\u001b[1;31m:\u001b[0m invalid non-printable character U+200B\n"
     ]
    }
   ],
   "source": [
    "matrix = np.array([[​1​,​2]\n",
    "                  ,[3,4]\n",
    "                  ,[5,6​]])"
   ]
  },
  {
   "cell_type": "code",
   "execution_count": 20,
   "metadata": {},
   "outputs": [],
   "source": [
    "a = ['x','y','z']\n",
    "b = ['w']\n",
    "a.append(b)"
   ]
  },
  {
   "cell_type": "code",
   "execution_count": 21,
   "metadata": {},
   "outputs": [
    {
     "data": {
      "text/plain": [
       "['x', 'y', 'z', ['w']]"
      ]
     },
     "execution_count": 21,
     "metadata": {},
     "output_type": "execute_result"
    }
   ],
   "source": [
    "a"
   ]
  },
  {
   "cell_type": "code",
   "execution_count": 22,
   "metadata": {},
   "outputs": [
    {
     "ename": "TypeError",
     "evalue": "'tuple' object does not support item assignment",
     "output_type": "error",
     "traceback": [
      "\u001b[1;31m---------------------------------------------------------------------------\u001b[0m",
      "\u001b[1;31mTypeError\u001b[0m                                 Traceback (most recent call last)",
      "Cell \u001b[1;32mIn[22], line 2\u001b[0m\n\u001b[0;32m      1\u001b[0m a\u001b[39m=\u001b[39m(\u001b[39m'\u001b[39m\u001b[39mx\u001b[39m\u001b[39m'\u001b[39m, \u001b[39m'\u001b[39m\u001b[39my\u001b[39m\u001b[39m'\u001b[39m, \u001b[39m'\u001b[39m\u001b[39mz\u001b[39m\u001b[39m'\u001b[39m)\n\u001b[1;32m----> 2\u001b[0m a[\u001b[39m0\u001b[39m] \u001b[39m=\u001b[39m \u001b[39m'\u001b[39m\u001b[39mt\u001b[39m\u001b[39m'\u001b[39m\n\u001b[0;32m      3\u001b[0m a\n",
      "\u001b[1;31mTypeError\u001b[0m: 'tuple' object does not support item assignment"
     ]
    }
   ],
   "source": [
    "a=('x', 'y', 'z')\n",
    "a[0] = 't'\n",
    "a\n"
   ]
  },
  {
   "cell_type": "code",
   "execution_count": 27,
   "metadata": {},
   "outputs": [
    {
     "data": {
      "text/plain": [
       "Sharjah       228\n",
       "Dhaka         156\n",
       "Sydney        154\n",
       "Melbourne     147\n",
       "Harare        136\n",
       "             ... \n",
       "Hove            1\n",
       "Nairobi         1\n",
       "Vijayawada      1\n",
       "Kwekwe          1\n",
       "Lucknow         1\n",
       "Name: Ground, Length: 173, dtype: int64"
      ]
     },
     "execution_count": 27,
     "metadata": {},
     "output_type": "execute_result"
    }
   ],
   "source": [
    "df['Ground'].value_counts()"
   ]
  },
  {
   "cell_type": "code",
   "execution_count": 29,
   "metadata": {},
   "outputs": [
    {
     "data": {
      "text/plain": [
       "Ground\n",
       "Aberdeen            Scotland\n",
       "Abu Dhabi             U.A.E.\n",
       "Adelaide                tied\n",
       "Ahmedabad        West Indies\n",
       "Albion           West Indies\n",
       "                    ...     \n",
       "Vijayawada       West Indies\n",
       "Visakhapatnam    West Indies\n",
       "Wellington         no result\n",
       "Whangarei        New Zealand\n",
       "Worcester        West Indies\n",
       "Name: Winner, Length: 173, dtype: object"
      ]
     },
     "execution_count": 29,
     "metadata": {},
     "output_type": "execute_result"
    }
   ],
   "source": [
    "df.groupby(['Ground'])['Winner'].max()"
   ]
  },
  {
   "cell_type": "code",
   "execution_count": 35,
   "metadata": {},
   "outputs": [
    {
     "data": {
      "text/plain": [
       "'Pakistan'"
      ]
     },
     "execution_count": 35,
     "metadata": {},
     "output_type": "execute_result"
    }
   ],
   "source": [
    "def max_wins(df, ground):\n",
    "    matches_at_ground = df[df['Ground'] == ground]\n",
    "    team_wins = matches_at_ground['Winner'].value_counts()\n",
    "    max_wins_team = team_wins.idxmax()\n",
    "    return max_wins_team\n",
    "\n",
    "max_wins_team = max_wins(df, 'Sharjah')\n",
    "max_wins_team"
   ]
  },
  {
   "cell_type": "code",
   "execution_count": 36,
   "metadata": {},
   "outputs": [
    {
     "data": {
      "text/plain": [
       "Feb 4, 2007     6\n",
       "Jun 7, 1975     4\n",
       "Jul 10, 2010    4\n",
       "Jun 14, 1975    4\n",
       "Jun 11, 1975    4\n",
       "               ..\n",
       "Sep 26, 1998    1\n",
       "Sep 27, 1998    1\n",
       "Sep 30, 1998    1\n",
       "Oct 24, 1998    1\n",
       "Oct 29, 2017    1\n",
       "Name: Match Date, Length: 3386, dtype: int64"
      ]
     },
     "execution_count": 36,
     "metadata": {},
     "output_type": "execute_result"
    }
   ],
   "source": [
    "df['Match Date'].value_counts()"
   ]
  },
  {
   "cell_type": "code",
   "execution_count": 43,
   "metadata": {},
   "outputs": [
    {
     "data": {
      "text/plain": [
       "0        True\n",
       "1       False\n",
       "2        True\n",
       "3       False\n",
       "4       False\n",
       "        ...  \n",
       "3927    False\n",
       "3928    False\n",
       "3929    False\n",
       "3930    False\n",
       "3931    False\n",
       "Name: Winner, Length: 3932, dtype: bool"
      ]
     },
     "execution_count": 43,
     "metadata": {},
     "output_type": "execute_result"
    }
   ],
   "source": [
    "Aussie_df = df['Winner'] == 'Australia'\n",
    "Aussie_df"
   ]
  },
  {
   "cell_type": "code",
   "execution_count": 50,
   "metadata": {},
   "outputs": [
    {
     "ename": "TypeError",
     "evalue": "'Series' object is not callable",
     "output_type": "error",
     "traceback": [
      "\u001b[1;31m---------------------------------------------------------------------------\u001b[0m",
      "\u001b[1;31mTypeError\u001b[0m                                 Traceback (most recent call last)",
      "Cell \u001b[1;32mIn[50], line 3\u001b[0m\n\u001b[0;32m      1\u001b[0m \u001b[39m# Aussie_df['Ground'].value_counts()\u001b[39;00m\n\u001b[0;32m      2\u001b[0m Aussie_df \u001b[39m=\u001b[39m df\u001b[39m.\u001b[39mgroupby([\u001b[39m'\u001b[39m\u001b[39mWinner\u001b[39m\u001b[39m'\u001b[39m])[\u001b[39m'\u001b[39m\u001b[39mGround\u001b[39m\u001b[39m'\u001b[39m]\u001b[39m.\u001b[39mvalue_counts()\n\u001b[1;32m----> 3\u001b[0m Aussie_df_1 \u001b[39m=\u001b[39m Aussie_df([\u001b[39m'\u001b[39;49m\u001b[39mWinner\u001b[39;49m\u001b[39m'\u001b[39;49m] \u001b[39m==\u001b[39;49m \u001b[39m'\u001b[39;49m\u001b[39mAustralia\u001b[39;49m\u001b[39m'\u001b[39;49m)\n",
      "\u001b[1;31mTypeError\u001b[0m: 'Series' object is not callable"
     ]
    }
   ],
   "source": [
    "# Aussie_df['Ground'].value_counts()\n",
    "Aussie_df = df.groupby(['Winner'])['Ground'].value_counts()\n",
    "Aussie_df_1 = Aussie_df(['Winner'] == 'Australia')"
   ]
  },
  {
   "cell_type": "code",
   "execution_count": 62,
   "metadata": {},
   "outputs": [
    {
     "data": {
      "text/plain": [
       "'Pakistan'"
      ]
     },
     "execution_count": 62,
     "metadata": {},
     "output_type": "execute_result"
    }
   ],
   "source": [
    "def max_wins(df, ground):\n",
    "    matches_at_ground = df[df['Ground'] == ground]\n",
    "    team_wins = matches_at_ground['Winner'].value_counts()\n",
    "    max_wins_team = team_wins.idxmax()\n",
    "    return max_wins_team\n",
    "\n",
    "max_wins_team = max_wins(df, 'Sharjah')\n",
    "max_wins_team"
   ]
  },
  {
   "cell_type": "code",
   "execution_count": 54,
   "metadata": {},
   "outputs": [
    {
     "name": "stdout",
     "output_type": "stream",
     "text": [
      "Sydney\n"
     ]
    }
   ],
   "source": [
    "def aussie_wins_on_ground(df, team):\n",
    "    team_wins = df[df['Winner'] == team]['Ground'].value_counts()\n",
    "    ground_with_most_wins = team_wins.idxmax()\n",
    "    return ground_with_most_wins\n",
    "\n",
    "ground_with_most_wins = aussie_wins_on_ground(df, 'Australia')\n",
    "print(ground_with_most_wins)"
   ]
  },
  {
   "cell_type": "code",
   "execution_count": 57,
   "metadata": {},
   "outputs": [
    {
     "data": {
      "text/plain": [
       "Sydney        85\n",
       "Melbourne     74\n",
       "Adelaide      34\n",
       "Perth         29\n",
       "Brisbane      23\n",
       "              ..\n",
       "Cardiff        1\n",
       "Bristol        1\n",
       "Faridabad      1\n",
       "Amstelveen     1\n",
       "Benoni         1\n",
       "Name: Ground, Length: 97, dtype: int64"
      ]
     },
     "execution_count": 57,
     "metadata": {},
     "output_type": "execute_result"
    }
   ],
   "source": [
    "team_wins = df[df['Winner'] == 'Australia']['Ground'].value_counts()\n",
    "team_wins"
   ]
  },
  {
   "cell_type": "code",
   "execution_count": 67,
   "metadata": {},
   "outputs": [
    {
     "data": {
      "text/plain": [
       "0"
      ]
     },
     "execution_count": 67,
     "metadata": {},
     "output_type": "execute_result"
    }
   ],
   "source": [
    "ground_wins = df[df['Ground'] == \"Lords's Ground\"]['Winner'].count()\n",
    "ground_wins"
   ]
  },
  {
   "cell_type": "code",
   "execution_count": 61,
   "metadata": {},
   "outputs": [
    {
     "data": {
      "text/plain": [
       "Scorecard     1637\n",
       "Team 1        1637\n",
       "Team 2        1637\n",
       "Winner        1637\n",
       "Margin        1635\n",
       "Ground        1637\n",
       "Match Date    1637\n",
       "dtype: int64"
      ]
     },
     "execution_count": 61,
     "metadata": {},
     "output_type": "execute_result"
    }
   ],
   "source": [
    "team2_wins = df[df['Team 2'] == df['Winner']].count()\n",
    "team2_wins"
   ]
  },
  {
   "cell_type": "code",
   "execution_count": 83,
   "metadata": {},
   "outputs": [
    {
     "data": {
      "text/plain": [
       "Ground      Winner     \n",
       "Aberdeen    Scotland       6\n",
       "            New Zealand    2\n",
       "            Canada         1\n",
       "            England        1\n",
       "            Ireland        1\n",
       "                          ..\n",
       "Wellington  England        1\n",
       "Whangarei   New Zealand    1\n",
       "Worcester   Australia      1\n",
       "            Sri Lanka      1\n",
       "            West Indies    1\n",
       "Name: Winner, Length: 999, dtype: int64"
      ]
     },
     "execution_count": 83,
     "metadata": {},
     "output_type": "execute_result"
    }
   ],
   "source": [
    "lords_ground_wins = df.groupby(['Ground'])['Winner'].value_counts()\n",
    "lords_ground_wins"
   ]
  },
  {
   "cell_type": "code",
   "execution_count": null,
   "metadata": {},
   "outputs": [],
   "source": [
    "lords_ground_wins[lords_ground_wins['Ground'] == \"Lord's Ground\"]"
   ]
  },
  {
   "cell_type": "code",
   "execution_count": 84,
   "metadata": {},
   "outputs": [
    {
     "ename": "KeyError",
     "evalue": "'Column not found: Winner'",
     "output_type": "error",
     "traceback": [
      "\u001b[1;31m---------------------------------------------------------------------------\u001b[0m",
      "\u001b[1;31mKeyError\u001b[0m                                  Traceback (most recent call last)",
      "Cell \u001b[1;32mIn[84], line 1\u001b[0m\n\u001b[1;32m----> 1\u001b[0m lords_ground_wins\u001b[39m.\u001b[39;49mgroupby([\u001b[39m'\u001b[39;49m\u001b[39mGround\u001b[39;49m\u001b[39m'\u001b[39;49m])[\u001b[39m'\u001b[39;49m\u001b[39mWinner\u001b[39;49m\u001b[39m'\u001b[39;49m]\u001b[39m.\u001b[39mmax()\n",
      "File \u001b[1;32mc:\\Users\\BoboDS\\.conda\\envs\\GreatLearn1\\lib\\site-packages\\pandas\\core\\base.py:248\u001b[0m, in \u001b[0;36mSelectionMixin.__getitem__\u001b[1;34m(self, key)\u001b[0m\n\u001b[0;32m    246\u001b[0m \u001b[39melse\u001b[39;00m:\n\u001b[0;32m    247\u001b[0m     \u001b[39mif\u001b[39;00m key \u001b[39mnot\u001b[39;00m \u001b[39min\u001b[39;00m \u001b[39mself\u001b[39m\u001b[39m.\u001b[39mobj:\n\u001b[1;32m--> 248\u001b[0m         \u001b[39mraise\u001b[39;00m \u001b[39mKeyError\u001b[39;00m(\u001b[39mf\u001b[39m\u001b[39m\"\u001b[39m\u001b[39mColumn not found: \u001b[39m\u001b[39m{\u001b[39;00mkey\u001b[39m}\u001b[39;00m\u001b[39m\"\u001b[39m)\n\u001b[0;32m    249\u001b[0m     subset \u001b[39m=\u001b[39m \u001b[39mself\u001b[39m\u001b[39m.\u001b[39mobj[key]\n\u001b[0;32m    250\u001b[0m     ndim \u001b[39m=\u001b[39m subset\u001b[39m.\u001b[39mndim\n",
      "\u001b[1;31mKeyError\u001b[0m: 'Column not found: Winner'"
     ]
    }
   ],
   "source": [
    "lords_ground_wins.groupby(['Ground'])['Winner'].max()"
   ]
  },
  {
   "cell_type": "code",
   "execution_count": 86,
   "metadata": {},
   "outputs": [
    {
     "ename": "ValueError",
     "evalue": "attempt to get argmax of an empty sequence",
     "output_type": "error",
     "traceback": [
      "\u001b[1;31m---------------------------------------------------------------------------\u001b[0m",
      "\u001b[1;31mValueError\u001b[0m                                Traceback (most recent call last)",
      "Cell \u001b[1;32mIn[86], line 6\u001b[0m\n\u001b[0;32m      3\u001b[0m     team_with_most_wins \u001b[39m=\u001b[39m ground_wins\u001b[39m.\u001b[39midxmax()\n\u001b[0;32m      4\u001b[0m     \u001b[39mreturn\u001b[39;00m team_with_most_wins\n\u001b[1;32m----> 6\u001b[0m team_with_most_wins \u001b[39m=\u001b[39m find_team_with_most_wins(df, \u001b[39m'\u001b[39;49m\u001b[39mLord’s\u001b[39;49m\u001b[39m'\u001b[39;49m)\n",
      "Cell \u001b[1;32mIn[86], line 3\u001b[0m, in \u001b[0;36mfind_team_with_most_wins\u001b[1;34m(df, ground)\u001b[0m\n\u001b[0;32m      1\u001b[0m \u001b[39mdef\u001b[39;00m \u001b[39mfind_team_with_most_wins\u001b[39m(df, ground):\n\u001b[0;32m      2\u001b[0m     ground_wins \u001b[39m=\u001b[39m df[df[\u001b[39m'\u001b[39m\u001b[39mGround\u001b[39m\u001b[39m'\u001b[39m] \u001b[39m==\u001b[39m ground][\u001b[39m'\u001b[39m\u001b[39mWinner\u001b[39m\u001b[39m'\u001b[39m]\u001b[39m.\u001b[39mvalue_counts()\n\u001b[1;32m----> 3\u001b[0m     team_with_most_wins \u001b[39m=\u001b[39m ground_wins\u001b[39m.\u001b[39;49midxmax()\n\u001b[0;32m      4\u001b[0m     \u001b[39mreturn\u001b[39;00m team_with_most_wins\n",
      "File \u001b[1;32mc:\\Users\\BoboDS\\.conda\\envs\\GreatLearn1\\lib\\site-packages\\pandas\\core\\series.py:2564\u001b[0m, in \u001b[0;36mSeries.idxmax\u001b[1;34m(self, axis, skipna, *args, **kwargs)\u001b[0m\n\u001b[0;32m   2500\u001b[0m \u001b[39mdef\u001b[39;00m \u001b[39midxmax\u001b[39m(\u001b[39mself\u001b[39m, axis: Axis \u001b[39m=\u001b[39m \u001b[39m0\u001b[39m, skipna: \u001b[39mbool\u001b[39m \u001b[39m=\u001b[39m \u001b[39mTrue\u001b[39;00m, \u001b[39m*\u001b[39margs, \u001b[39m*\u001b[39m\u001b[39m*\u001b[39mkwargs) \u001b[39m-\u001b[39m\u001b[39m>\u001b[39m Hashable:\n\u001b[0;32m   2501\u001b[0m     \u001b[39m\"\"\"\u001b[39;00m\n\u001b[0;32m   2502\u001b[0m \u001b[39m    Return the row label of the maximum value.\u001b[39;00m\n\u001b[0;32m   2503\u001b[0m \n\u001b[1;32m   (...)\u001b[0m\n\u001b[0;32m   2562\u001b[0m \u001b[39m    nan\u001b[39;00m\n\u001b[0;32m   2563\u001b[0m \u001b[39m    \"\"\"\u001b[39;00m\n\u001b[1;32m-> 2564\u001b[0m     i \u001b[39m=\u001b[39m \u001b[39mself\u001b[39m\u001b[39m.\u001b[39margmax(axis, skipna, \u001b[39m*\u001b[39margs, \u001b[39m*\u001b[39m\u001b[39m*\u001b[39mkwargs)\n\u001b[0;32m   2565\u001b[0m     \u001b[39mif\u001b[39;00m i \u001b[39m==\u001b[39m \u001b[39m-\u001b[39m\u001b[39m1\u001b[39m:\n\u001b[0;32m   2566\u001b[0m         \u001b[39mreturn\u001b[39;00m np\u001b[39m.\u001b[39mnan\n",
      "File \u001b[1;32mc:\\Users\\BoboDS\\.conda\\envs\\GreatLearn1\\lib\\site-packages\\pandas\\core\\base.py:655\u001b[0m, in \u001b[0;36mIndexOpsMixin.argmax\u001b[1;34m(self, axis, skipna, *args, **kwargs)\u001b[0m\n\u001b[0;32m    651\u001b[0m         \u001b[39mreturn\u001b[39;00m delegate\u001b[39m.\u001b[39margmax()\n\u001b[0;32m    652\u001b[0m \u001b[39melse\u001b[39;00m:\n\u001b[0;32m    653\u001b[0m     \u001b[39m# error: Incompatible return value type (got \"Union[int, ndarray]\", expected\u001b[39;00m\n\u001b[0;32m    654\u001b[0m     \u001b[39m# \"int\")\u001b[39;00m\n\u001b[1;32m--> 655\u001b[0m     \u001b[39mreturn\u001b[39;00m nanops\u001b[39m.\u001b[39;49mnanargmax(  \u001b[39m# type: ignore[return-value]\u001b[39;49;00m\n\u001b[0;32m    656\u001b[0m         delegate, skipna\u001b[39m=\u001b[39;49mskipna\n\u001b[0;32m    657\u001b[0m     )\n",
      "File \u001b[1;32mc:\\Users\\BoboDS\\.conda\\envs\\GreatLearn1\\lib\\site-packages\\pandas\\core\\nanops.py:93\u001b[0m, in \u001b[0;36mdisallow.__call__.<locals>._f\u001b[1;34m(*args, **kwargs)\u001b[0m\n\u001b[0;32m     91\u001b[0m \u001b[39mtry\u001b[39;00m:\n\u001b[0;32m     92\u001b[0m     \u001b[39mwith\u001b[39;00m np\u001b[39m.\u001b[39merrstate(invalid\u001b[39m=\u001b[39m\u001b[39m\"\u001b[39m\u001b[39mignore\u001b[39m\u001b[39m\"\u001b[39m):\n\u001b[1;32m---> 93\u001b[0m         \u001b[39mreturn\u001b[39;00m f(\u001b[39m*\u001b[39margs, \u001b[39m*\u001b[39m\u001b[39m*\u001b[39mkwargs)\n\u001b[0;32m     94\u001b[0m \u001b[39mexcept\u001b[39;00m \u001b[39mValueError\u001b[39;00m \u001b[39mas\u001b[39;00m e:\n\u001b[0;32m     95\u001b[0m     \u001b[39m# we want to transform an object array\u001b[39;00m\n\u001b[0;32m     96\u001b[0m     \u001b[39m# ValueError message to the more typical TypeError\u001b[39;00m\n\u001b[0;32m     97\u001b[0m     \u001b[39m# e.g. this is normally a disallowed function on\u001b[39;00m\n\u001b[0;32m     98\u001b[0m     \u001b[39m# object arrays that contain strings\u001b[39;00m\n\u001b[0;32m     99\u001b[0m     \u001b[39mif\u001b[39;00m is_object_dtype(args[\u001b[39m0\u001b[39m]):\n",
      "File \u001b[1;32mc:\\Users\\BoboDS\\.conda\\envs\\GreatLearn1\\lib\\site-packages\\pandas\\core\\nanops.py:1104\u001b[0m, in \u001b[0;36mnanargmax\u001b[1;34m(values, axis, skipna, mask)\u001b[0m\n\u001b[0;32m   1102\u001b[0m values, mask, _, _, _ \u001b[39m=\u001b[39m _get_values(values, \u001b[39mTrue\u001b[39;00m, fill_value_typ\u001b[39m=\u001b[39m\u001b[39m\"\u001b[39m\u001b[39m-inf\u001b[39m\u001b[39m\"\u001b[39m, mask\u001b[39m=\u001b[39mmask)\n\u001b[0;32m   1103\u001b[0m \u001b[39m# error: Need type annotation for 'result'\u001b[39;00m\n\u001b[1;32m-> 1104\u001b[0m result \u001b[39m=\u001b[39m values\u001b[39m.\u001b[39;49margmax(axis)  \u001b[39m# type: ignore[var-annotated]\u001b[39;00m\n\u001b[0;32m   1105\u001b[0m result \u001b[39m=\u001b[39m _maybe_arg_null_out(result, axis, mask, skipna)\n\u001b[0;32m   1106\u001b[0m \u001b[39mreturn\u001b[39;00m result\n",
      "\u001b[1;31mValueError\u001b[0m: attempt to get argmax of an empty sequence"
     ]
    }
   ],
   "source": [
    "def find_team_with_most_wins(df, ground):\n",
    "    ground_wins = df[df['Ground'] == ground]['Winner'].value_counts()\n",
    "    team_with_most_wins = ground_wins.idxmax()\n",
    "    return team_with_most_wins\n",
    "\n",
    "team_with_most_wins = find_team_with_most_wins(df, 'Lord’s')"
   ]
  },
  {
   "cell_type": "code",
   "execution_count": 87,
   "metadata": {},
   "outputs": [
    {
     "name": "stdout",
     "output_type": "stream",
     "text": [
      "1\n",
      "3\n",
      "5\n",
      "7\n",
      "9\n"
     ]
    }
   ],
   "source": [
    "x = 1\n",
    "for i in range(1,10,2):\n",
    "   print(x*i)"
   ]
  },
  {
   "cell_type": "code",
   "execution_count": 88,
   "metadata": {},
   "outputs": [
    {
     "name": "stdout",
     "output_type": "stream",
     "text": [
      "2\n"
     ]
    }
   ],
   "source": [
    "a = np.array([['m','2'],['n','3']])\n",
    "print(a[0,1])"
   ]
  },
  {
   "cell_type": "code",
   "execution_count": null,
   "metadata": {},
   "outputs": [],
   "source": []
  }
 ],
 "metadata": {
  "kernelspec": {
   "display_name": "GreatLearn1",
   "language": "python",
   "name": "python3"
  },
  "language_info": {
   "codemirror_mode": {
    "name": "ipython",
    "version": 3
   },
   "file_extension": ".py",
   "mimetype": "text/x-python",
   "name": "python",
   "nbconvert_exporter": "python",
   "pygments_lexer": "ipython3",
   "version": "3.9.13"
  },
  "orig_nbformat": 4
 },
 "nbformat": 4,
 "nbformat_minor": 2
}
