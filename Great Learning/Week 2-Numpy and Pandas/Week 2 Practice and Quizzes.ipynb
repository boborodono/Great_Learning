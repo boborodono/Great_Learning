{
 "cells": [
  {
   "attachments": {},
   "cell_type": "markdown",
   "metadata": {},
   "source": [
    "# Numpy"
   ]
  },
  {
   "cell_type": "code",
   "execution_count": 1,
   "metadata": {},
   "outputs": [],
   "source": [
    "import numpy as np"
   ]
  },
  {
   "cell_type": "markdown",
   "metadata": {},
   "source": []
  },
  {
   "cell_type": "code",
   "execution_count": 6,
   "metadata": {},
   "outputs": [
    {
     "name": "stdout",
     "output_type": "stream",
     "text": [
      "<class 'numpy.ndarray'>\n",
      "[100 200 300 400 500]\n"
     ]
    }
   ],
   "source": [
    "python_list = [100, 200, 300, 400, 500]\n",
    "numpy_array = np.array(python_list)\n",
    "print(type(numpy_array))\n",
    "print(numpy_array)"
   ]
  },
  {
   "cell_type": "code",
   "execution_count": 10,
   "metadata": {},
   "outputs": [
    {
     "name": "stdout",
     "output_type": "stream",
     "text": [
      "[[1 1 1]\n",
      " [2 2 2]\n",
      " [3 3 3]]\n"
     ]
    },
    {
     "data": {
      "text/plain": [
       "numpy.ndarray"
      ]
     },
     "execution_count": 10,
     "metadata": {},
     "output_type": "execute_result"
    }
   ],
   "source": [
    "matrix1 = np.array([[1,1,1]\n",
    "                   ,[2,2,2]\n",
    "                   ,[3,3,3]])\n",
    "print(matrix1)\n",
    "type(matrix1)"
   ]
  },
  {
   "cell_type": "code",
   "execution_count": 19,
   "metadata": {},
   "outputs": [
    {
     "name": "stdout",
     "output_type": "stream",
     "text": [
      "[ 0  1  2  3  4  5  6  7  8  9 10]\n"
     ]
    }
   ],
   "source": [
    "array = np.arange(start =0, stop = 11)\n",
    "print(array)"
   ]
  },
  {
   "cell_type": "code",
   "execution_count": 18,
   "metadata": {},
   "outputs": [
    {
     "name": "stdout",
     "output_type": "stream",
     "text": [
      "[ 0  1  2  3  4  5  6  7  8  9 10]\n"
     ]
    }
   ],
   "source": [
    "array = np.arange(0,11)\n",
    "print(array)"
   ]
  },
  {
   "cell_type": "code",
   "execution_count": 16,
   "metadata": {},
   "outputs": [
    {
     "name": "stdout",
     "output_type": "stream",
     "text": [
      "[  0  25  50  75 100 125 150 175]\n"
     ]
    },
    {
     "data": {
      "text/plain": [
       "numpy.ndarray"
      ]
     },
     "execution_count": 16,
     "metadata": {},
     "output_type": "execute_result"
    }
   ],
   "source": [
    "array = np.arange(0,200, 25)\n",
    "print(array)\n",
    "type(array)"
   ]
  },
  {
   "cell_type": "code",
   "execution_count": 24,
   "metadata": {},
   "outputs": [
    {
     "name": "stdout",
     "output_type": "stream",
     "text": [
      "[  0.          11.11111111  22.22222222  33.33333333  44.44444444\n",
      "  55.55555556  66.66666667  77.77777778  88.88888889 100.        ]\n"
     ]
    }
   ],
   "source": [
    "matrix2 = np.linspace(0,100,10)\n",
    "print(matrix2)"
   ]
  },
  {
   "cell_type": "code",
   "execution_count": 25,
   "metadata": {},
   "outputs": [
    {
     "data": {
      "text/plain": [
       "array([[0., 0., 0., 0., 0.],\n",
       "       [0., 0., 0., 0., 0.],\n",
       "       [0., 0., 0., 0., 0.]])"
      ]
     },
     "execution_count": 25,
     "metadata": {},
     "output_type": "execute_result"
    }
   ],
   "source": [
    "matrix3 = np.zeros([3,5])\n",
    "matrix3"
   ]
  },
  {
   "cell_type": "code",
   "execution_count": 26,
   "metadata": {},
   "outputs": [
    {
     "data": {
      "text/plain": [
       "array([[1., 1., 1., 1., 1.],\n",
       "       [1., 1., 1., 1., 1.],\n",
       "       [1., 1., 1., 1., 1.]])"
      ]
     },
     "execution_count": 26,
     "metadata": {},
     "output_type": "execute_result"
    }
   ],
   "source": [
    "matrix4 = np.ones([3,5])\n",
    "matrix4"
   ]
  },
  {
   "cell_type": "code",
   "execution_count": 27,
   "metadata": {},
   "outputs": [
    {
     "data": {
      "text/plain": [
       "array([[1., 0., 0., 0., 0., 0.],\n",
       "       [0., 1., 0., 0., 0., 0.],\n",
       "       [0., 0., 1., 0., 0., 0.],\n",
       "       [0., 0., 0., 1., 0., 0.],\n",
       "       [0., 0., 0., 0., 1., 0.],\n",
       "       [0., 0., 0., 0., 0., 1.]])"
      ]
     },
     "execution_count": 27,
     "metadata": {},
     "output_type": "execute_result"
    }
   ],
   "source": [
    "matrix5 = np.eye(6) # identity matrix\n",
    "matrix5"
   ]
  },
  {
   "cell_type": "code",
   "execution_count": 28,
   "metadata": {},
   "outputs": [
    {
     "data": {
      "text/plain": [
       "array([ 0,  1,  2,  3,  4,  5,  6,  7,  8,  9, 10, 11, 12, 13, 14, 15, 16,\n",
       "       17, 18, 19])"
      ]
     },
     "execution_count": 28,
     "metadata": {},
     "output_type": "execute_result"
    }
   ],
   "source": [
    "array = np.arange(0,20)\n",
    "array"
   ]
  },
  {
   "cell_type": "code",
   "execution_count": 29,
   "metadata": {},
   "outputs": [
    {
     "data": {
      "text/plain": [
       "array([[ 0,  1,  2,  3,  4],\n",
       "       [ 5,  6,  7,  8,  9],\n",
       "       [10, 11, 12, 13, 14],\n",
       "       [15, 16, 17, 18, 19]])"
      ]
     },
     "execution_count": 29,
     "metadata": {},
     "output_type": "execute_result"
    }
   ],
   "source": [
    "array_reshaped = array.reshape((4,5))\n",
    "array_reshaped"
   ]
  },
  {
   "cell_type": "code",
   "execution_count": 30,
   "metadata": {},
   "outputs": [
    {
     "data": {
      "text/plain": [
       "[1, 2, 3, 4, 5, 6]"
      ]
     },
     "execution_count": 30,
     "metadata": {},
     "output_type": "execute_result"
    }
   ],
   "source": [
    "list1 = [1,2,3,]\n",
    "list2 = [4,5,6]\n",
    "list1 + list2"
   ]
  },
  {
   "cell_type": "code",
   "execution_count": 32,
   "metadata": {},
   "outputs": [
    {
     "data": {
      "text/plain": [
       "array([5, 7, 9])"
      ]
     },
     "execution_count": 32,
     "metadata": {},
     "output_type": "execute_result"
    }
   ],
   "source": [
    "array1 = np.array(list1)\n",
    "array2 = np.array(list2)\n",
    "array1 + array2"
   ]
  },
  {
   "attachments": {},
   "cell_type": "markdown",
   "metadata": {},
   "source": [
    "# Pandas"
   ]
  },
  {
   "cell_type": "code",
   "execution_count": 34,
   "metadata": {},
   "outputs": [],
   "source": [
    "import pandas as pd"
   ]
  },
  {
   "cell_type": "code",
   "execution_count": 35,
   "metadata": {},
   "outputs": [],
   "source": [
    "day = ['day1', 'day2', 'day3', 'day4']\n",
    "temperature = [31, 28, 30, 32] # temperature in degrees Celsius\n",
    "temp_data = pd.Series(temperature, index=day)"
   ]
  },
  {
   "cell_type": "code",
   "execution_count": 36,
   "metadata": {},
   "outputs": [
    {
     "data": {
      "text/plain": [
       "day1    31\n",
       "day2    28\n",
       "dtype: int64"
      ]
     },
     "execution_count": 36,
     "metadata": {},
     "output_type": "execute_result"
    }
   ],
   "source": [
    "temp_data[:2]"
   ]
  },
  {
   "cell_type": "code",
   "execution_count": 37,
   "metadata": {},
   "outputs": [
    {
     "data": {
      "text/plain": [
       "30"
      ]
     },
     "execution_count": 37,
     "metadata": {},
     "output_type": "execute_result"
    }
   ],
   "source": [
    "temp_data['day3']"
   ]
  },
  {
   "cell_type": "code",
   "execution_count": 41,
   "metadata": {},
   "outputs": [
    {
     "data": {
      "text/plain": [
       "day3    30\n",
       "day4    32\n",
       "dtype: int64"
      ]
     },
     "execution_count": 41,
     "metadata": {},
     "output_type": "execute_result"
    }
   ],
   "source": [
    "temp_data[2:]"
   ]
  },
  {
   "cell_type": "code",
   "execution_count": 44,
   "metadata": {},
   "outputs": [
    {
     "data": {
      "text/html": [
       "<div>\n",
       "<style scoped>\n",
       "    .dataframe tbody tr th:only-of-type {\n",
       "        vertical-align: middle;\n",
       "    }\n",
       "\n",
       "    .dataframe tbody tr th {\n",
       "        vertical-align: top;\n",
       "    }\n",
       "\n",
       "    .dataframe thead th {\n",
       "        text-align: right;\n",
       "    }\n",
       "</style>\n",
       "<table border=\"1\" class=\"dataframe\">\n",
       "  <thead>\n",
       "    <tr style=\"text-align: right;\">\n",
       "      <th></th>\n",
       "      <th>day</th>\n",
       "      <th>calories</th>\n",
       "      <th>duration_min</th>\n",
       "    </tr>\n",
       "  </thead>\n",
       "  <tbody>\n",
       "    <tr>\n",
       "      <th>0</th>\n",
       "      <td>day1</td>\n",
       "      <td>450</td>\n",
       "      <td>30</td>\n",
       "    </tr>\n",
       "    <tr>\n",
       "      <th>1</th>\n",
       "      <td>day2</td>\n",
       "      <td>300</td>\n",
       "      <td>25</td>\n",
       "    </tr>\n",
       "    <tr>\n",
       "      <th>2</th>\n",
       "      <td>day3</td>\n",
       "      <td>345</td>\n",
       "      <td>29</td>\n",
       "    </tr>\n",
       "    <tr>\n",
       "      <th>3</th>\n",
       "      <td>day4</td>\n",
       "      <td>520</td>\n",
       "      <td>39</td>\n",
       "    </tr>\n",
       "    <tr>\n",
       "      <th>4</th>\n",
       "      <td>day5</td>\n",
       "      <td>600</td>\n",
       "      <td>48</td>\n",
       "    </tr>\n",
       "  </tbody>\n",
       "</table>\n",
       "</div>"
      ],
      "text/plain": [
       "    day  calories  duration_min\n",
       "0  day1       450            30\n",
       "1  day2       300            25\n",
       "2  day3       345            29\n",
       "3  day4       520            39\n",
       "4  day5       600            48"
      ]
     },
     "execution_count": 44,
     "metadata": {},
     "output_type": "execute_result"
    }
   ],
   "source": [
    "calorie_data = pd.DataFrame({'day': ['day1', 'day2', 'day3', 'day4', 'day5']\n",
    "                                     ,'calories': [450, 300, 345, 520, 600]\n",
    "                                     ,'duration_min': [30, 25, 29, 39, 48]\n",
    "                                     })\n",
    "calorie_data"
   ]
  },
  {
   "cell_type": "code",
   "execution_count": 46,
   "metadata": {},
   "outputs": [
    {
     "data": {
      "text/html": [
       "<div>\n",
       "<style scoped>\n",
       "    .dataframe tbody tr th:only-of-type {\n",
       "        vertical-align: middle;\n",
       "    }\n",
       "\n",
       "    .dataframe tbody tr th {\n",
       "        vertical-align: top;\n",
       "    }\n",
       "\n",
       "    .dataframe thead th {\n",
       "        text-align: right;\n",
       "    }\n",
       "</style>\n",
       "<table border=\"1\" class=\"dataframe\">\n",
       "  <thead>\n",
       "    <tr style=\"text-align: right;\">\n",
       "      <th></th>\n",
       "      <th>day</th>\n",
       "      <th>calories</th>\n",
       "      <th>duration_min</th>\n",
       "    </tr>\n",
       "  </thead>\n",
       "  <tbody>\n",
       "    <tr>\n",
       "      <th>0</th>\n",
       "      <td>day1</td>\n",
       "      <td>450</td>\n",
       "      <td>30</td>\n",
       "    </tr>\n",
       "    <tr>\n",
       "      <th>1</th>\n",
       "      <td>day2</td>\n",
       "      <td>300</td>\n",
       "      <td>25</td>\n",
       "    </tr>\n",
       "  </tbody>\n",
       "</table>\n",
       "</div>"
      ],
      "text/plain": [
       "    day  calories  duration_min\n",
       "0  day1       450            30\n",
       "1  day2       300            25"
      ]
     },
     "execution_count": 46,
     "metadata": {},
     "output_type": "execute_result"
    }
   ],
   "source": [
    "calorie_data[:2]"
   ]
  },
  {
   "cell_type": "code",
   "execution_count": 47,
   "metadata": {},
   "outputs": [
    {
     "data": {
      "text/plain": [
       "0    450\n",
       "1    300\n",
       "2    345\n",
       "3    520\n",
       "4    600\n",
       "Name: calories, dtype: int64"
      ]
     },
     "execution_count": 47,
     "metadata": {},
     "output_type": "execute_result"
    }
   ],
   "source": [
    "calorie_data['calories']"
   ]
  },
  {
   "cell_type": "code",
   "execution_count": 48,
   "metadata": {},
   "outputs": [
    {
     "data": {
      "text/html": [
       "<div>\n",
       "<style scoped>\n",
       "    .dataframe tbody tr th:only-of-type {\n",
       "        vertical-align: middle;\n",
       "    }\n",
       "\n",
       "    .dataframe tbody tr th {\n",
       "        vertical-align: top;\n",
       "    }\n",
       "\n",
       "    .dataframe thead th {\n",
       "        text-align: right;\n",
       "    }\n",
       "</style>\n",
       "<table border=\"1\" class=\"dataframe\">\n",
       "  <thead>\n",
       "    <tr style=\"text-align: right;\">\n",
       "      <th></th>\n",
       "      <th>day</th>\n",
       "      <th>calories</th>\n",
       "      <th>duration_min</th>\n",
       "    </tr>\n",
       "  </thead>\n",
       "  <tbody>\n",
       "    <tr>\n",
       "      <th>0</th>\n",
       "      <td>day1</td>\n",
       "      <td>450</td>\n",
       "      <td>30</td>\n",
       "    </tr>\n",
       "    <tr>\n",
       "      <th>2</th>\n",
       "      <td>day3</td>\n",
       "      <td>345</td>\n",
       "      <td>29</td>\n",
       "    </tr>\n",
       "    <tr>\n",
       "      <th>4</th>\n",
       "      <td>day5</td>\n",
       "      <td>600</td>\n",
       "      <td>48</td>\n",
       "    </tr>\n",
       "  </tbody>\n",
       "</table>\n",
       "</div>"
      ],
      "text/plain": [
       "    day  calories  duration_min\n",
       "0  day1       450            30\n",
       "2  day3       345            29\n",
       "4  day5       600            48"
      ]
     },
     "execution_count": 48,
     "metadata": {},
     "output_type": "execute_result"
    }
   ],
   "source": [
    "calorie_data[::2]"
   ]
  },
  {
   "attachments": {},
   "cell_type": "markdown",
   "metadata": {},
   "source": [
    "## Pandas (.loc)"
   ]
  },
  {
   "cell_type": "code",
   "execution_count": 49,
   "metadata": {},
   "outputs": [
    {
     "data": {
      "text/plain": [
       "day             day2\n",
       "calories         300\n",
       "duration_min      25\n",
       "Name: 1, dtype: object"
      ]
     },
     "execution_count": 49,
     "metadata": {},
     "output_type": "execute_result"
    }
   ],
   "source": [
    "calorie_data.loc[1]"
   ]
  },
  {
   "cell_type": "code",
   "execution_count": 51,
   "metadata": {},
   "outputs": [
    {
     "data": {
      "text/html": [
       "<div>\n",
       "<style scoped>\n",
       "    .dataframe tbody tr th:only-of-type {\n",
       "        vertical-align: middle;\n",
       "    }\n",
       "\n",
       "    .dataframe tbody tr th {\n",
       "        vertical-align: top;\n",
       "    }\n",
       "\n",
       "    .dataframe thead th {\n",
       "        text-align: right;\n",
       "    }\n",
       "</style>\n",
       "<table border=\"1\" class=\"dataframe\">\n",
       "  <thead>\n",
       "    <tr style=\"text-align: right;\">\n",
       "      <th></th>\n",
       "      <th>calories</th>\n",
       "    </tr>\n",
       "  </thead>\n",
       "  <tbody>\n",
       "    <tr>\n",
       "      <th>1</th>\n",
       "      <td>300</td>\n",
       "    </tr>\n",
       "  </tbody>\n",
       "</table>\n",
       "</div>"
      ],
      "text/plain": [
       "   calories\n",
       "1       300"
      ]
     },
     "execution_count": 51,
     "metadata": {},
     "output_type": "execute_result"
    }
   ],
   "source": [
    "calorie_data.loc[[1],['calories']]"
   ]
  },
  {
   "cell_type": "code",
   "execution_count": 53,
   "metadata": {},
   "outputs": [
    {
     "name": "stdout",
     "output_type": "stream",
     "text": [
      "2022-01-29\n"
     ]
    }
   ],
   "source": [
    "import datetime\n",
    "date = datetime.date(2022, 1, 29)\n",
    "print(date)"
   ]
  },
  {
   "attachments": {},
   "cell_type": "markdown",
   "metadata": {},
   "source": [
    "## Week 2: Practice Quiz Pandas"
   ]
  },
  {
   "cell_type": "code",
   "execution_count": 54,
   "metadata": {},
   "outputs": [],
   "source": [
    "path = 'C:/Users/BoboDS/Desktop/Great_Learning/Great Learning/Week 2-Numpy and Pandas/books.csv'\n",
    "books_df = pd.read_csv(path)"
   ]
  },
  {
   "cell_type": "code",
   "execution_count": 55,
   "metadata": {},
   "outputs": [
    {
     "data": {
      "text/html": [
       "<div>\n",
       "<style scoped>\n",
       "    .dataframe tbody tr th:only-of-type {\n",
       "        vertical-align: middle;\n",
       "    }\n",
       "\n",
       "    .dataframe tbody tr th {\n",
       "        vertical-align: top;\n",
       "    }\n",
       "\n",
       "    .dataframe thead th {\n",
       "        text-align: right;\n",
       "    }\n",
       "</style>\n",
       "<table border=\"1\" class=\"dataframe\">\n",
       "  <thead>\n",
       "    <tr style=\"text-align: right;\">\n",
       "      <th></th>\n",
       "      <th>title</th>\n",
       "      <th>author</th>\n",
       "      <th>average_rating</th>\n",
       "      <th>isbn13</th>\n",
       "      <th>language_code</th>\n",
       "      <th>num_pages</th>\n",
       "      <th>ratings_count</th>\n",
       "      <th>text_reviews_count</th>\n",
       "      <th>publisher</th>\n",
       "      <th>year</th>\n",
       "    </tr>\n",
       "  </thead>\n",
       "  <tbody>\n",
       "    <tr>\n",
       "      <th>0</th>\n",
       "      <td>The Hunchback of Notre-Dame</td>\n",
       "      <td>Victor Hugo</td>\n",
       "      <td>4.00</td>\n",
       "      <td>9780345472427</td>\n",
       "      <td>en-US</td>\n",
       "      <td>534.0</td>\n",
       "      <td>140</td>\n",
       "      <td>22</td>\n",
       "      <td>Modern Library</td>\n",
       "      <td>2004</td>\n",
       "    </tr>\n",
       "    <tr>\n",
       "      <th>1</th>\n",
       "      <td>La Cucina Di Lidia: Recipes and Memories from ...</td>\n",
       "      <td>Lidia Matticchio Bastianich</td>\n",
       "      <td>4.14</td>\n",
       "      <td>9780767914222</td>\n",
       "      <td>en-GB</td>\n",
       "      <td>288.0</td>\n",
       "      <td>48</td>\n",
       "      <td>3</td>\n",
       "      <td>Clarkson Potter</td>\n",
       "      <td>2003</td>\n",
       "    </tr>\n",
       "    <tr>\n",
       "      <th>2</th>\n",
       "      <td>Breach of Promise</td>\n",
       "      <td>James Scott Bell</td>\n",
       "      <td>4.00</td>\n",
       "      <td>9780310243878</td>\n",
       "      <td>eng</td>\n",
       "      <td>345.0</td>\n",
       "      <td>368</td>\n",
       "      <td>36</td>\n",
       "      <td>Zondervan</td>\n",
       "      <td>2004</td>\n",
       "    </tr>\n",
       "    <tr>\n",
       "      <th>3</th>\n",
       "      <td>Brief Interviews with Hideous Men</td>\n",
       "      <td>David Foster Wallace</td>\n",
       "      <td>3.86</td>\n",
       "      <td>9780349111889</td>\n",
       "      <td>eng</td>\n",
       "      <td>273.0</td>\n",
       "      <td>18335</td>\n",
       "      <td>1155</td>\n",
       "      <td>Abacus</td>\n",
       "      <td>2000</td>\n",
       "    </tr>\n",
       "    <tr>\n",
       "      <th>4</th>\n",
       "      <td>The Killing Dance (Anita Blake  Vampire Hunter...</td>\n",
       "      <td>Laurell K. Hamilton</td>\n",
       "      <td>4.13</td>\n",
       "      <td>9780425209066</td>\n",
       "      <td>en-US</td>\n",
       "      <td>368.0</td>\n",
       "      <td>59524</td>\n",
       "      <td>946</td>\n",
       "      <td>Berkley Hardcover</td>\n",
       "      <td>2006</td>\n",
       "    </tr>\n",
       "  </tbody>\n",
       "</table>\n",
       "</div>"
      ],
      "text/plain": [
       "                                               title  \\\n",
       "0                        The Hunchback of Notre-Dame   \n",
       "1  La Cucina Di Lidia: Recipes and Memories from ...   \n",
       "2                                  Breach of Promise   \n",
       "3                  Brief Interviews with Hideous Men   \n",
       "4  The Killing Dance (Anita Blake  Vampire Hunter...   \n",
       "\n",
       "                        author  average_rating         isbn13 language_code  \\\n",
       "0                  Victor Hugo            4.00  9780345472427         en-US   \n",
       "1  Lidia Matticchio Bastianich            4.14  9780767914222         en-GB   \n",
       "2             James Scott Bell            4.00  9780310243878           eng   \n",
       "3         David Foster Wallace            3.86  9780349111889           eng   \n",
       "4          Laurell K. Hamilton            4.13  9780425209066         en-US   \n",
       "\n",
       "   num_pages  ratings_count  text_reviews_count          publisher  year  \n",
       "0      534.0            140                  22     Modern Library  2004  \n",
       "1      288.0             48                   3    Clarkson Potter  2003  \n",
       "2      345.0            368                  36          Zondervan  2004  \n",
       "3      273.0          18335                1155             Abacus  2000  \n",
       "4      368.0          59524                 946  Berkley Hardcover  2006  "
      ]
     },
     "execution_count": 55,
     "metadata": {},
     "output_type": "execute_result"
    }
   ],
   "source": [
    "books_df.head()"
   ]
  },
  {
   "cell_type": "code",
   "execution_count": 57,
   "metadata": {},
   "outputs": [
    {
     "data": {
      "text/plain": [
       "(5000, 10)"
      ]
     },
     "execution_count": 57,
     "metadata": {},
     "output_type": "execute_result"
    }
   ],
   "source": [
    "books_df.shape"
   ]
  },
  {
   "cell_type": "code",
   "execution_count": 58,
   "metadata": {},
   "outputs": [
    {
     "data": {
      "text/html": [
       "<div>\n",
       "<style scoped>\n",
       "    .dataframe tbody tr th:only-of-type {\n",
       "        vertical-align: middle;\n",
       "    }\n",
       "\n",
       "    .dataframe tbody tr th {\n",
       "        vertical-align: top;\n",
       "    }\n",
       "\n",
       "    .dataframe thead th {\n",
       "        text-align: right;\n",
       "    }\n",
       "</style>\n",
       "<table border=\"1\" class=\"dataframe\">\n",
       "  <thead>\n",
       "    <tr style=\"text-align: right;\">\n",
       "      <th></th>\n",
       "      <th>average_rating</th>\n",
       "      <th>isbn13</th>\n",
       "      <th>num_pages</th>\n",
       "      <th>ratings_count</th>\n",
       "      <th>text_reviews_count</th>\n",
       "      <th>year</th>\n",
       "    </tr>\n",
       "  </thead>\n",
       "  <tbody>\n",
       "    <tr>\n",
       "      <th>count</th>\n",
       "      <td>5000.000000</td>\n",
       "      <td>5.000000e+03</td>\n",
       "      <td>4967.000000</td>\n",
       "      <td>5.000000e+03</td>\n",
       "      <td>5000.000000</td>\n",
       "      <td>5000.000000</td>\n",
       "    </tr>\n",
       "    <tr>\n",
       "      <th>mean</th>\n",
       "      <td>3.931932</td>\n",
       "      <td>9.752758e+12</td>\n",
       "      <td>341.094021</td>\n",
       "      <td>2.017549e+04</td>\n",
       "      <td>592.688600</td>\n",
       "      <td>2000.131800</td>\n",
       "    </tr>\n",
       "    <tr>\n",
       "      <th>std</th>\n",
       "      <td>0.348741</td>\n",
       "      <td>5.129254e+11</td>\n",
       "      <td>230.986115</td>\n",
       "      <td>1.175026e+05</td>\n",
       "      <td>2539.539004</td>\n",
       "      <td>8.069043</td>\n",
       "    </tr>\n",
       "    <tr>\n",
       "      <th>min</th>\n",
       "      <td>0.000000</td>\n",
       "      <td>8.987060e+09</td>\n",
       "      <td>1.000000</td>\n",
       "      <td>0.000000e+00</td>\n",
       "      <td>0.000000</td>\n",
       "      <td>1913.000000</td>\n",
       "    </tr>\n",
       "    <tr>\n",
       "      <th>25%</th>\n",
       "      <td>3.770000</td>\n",
       "      <td>9.780345e+12</td>\n",
       "      <td>200.000000</td>\n",
       "      <td>1.050000e+02</td>\n",
       "      <td>9.000000</td>\n",
       "      <td>1998.000000</td>\n",
       "    </tr>\n",
       "    <tr>\n",
       "      <th>50%</th>\n",
       "      <td>3.960000</td>\n",
       "      <td>9.780571e+12</td>\n",
       "      <td>304.000000</td>\n",
       "      <td>7.915000e+02</td>\n",
       "      <td>49.000000</td>\n",
       "      <td>2003.000000</td>\n",
       "    </tr>\n",
       "    <tr>\n",
       "      <th>75%</th>\n",
       "      <td>4.140000</td>\n",
       "      <td>9.780871e+12</td>\n",
       "      <td>416.500000</td>\n",
       "      <td>5.348750e+03</td>\n",
       "      <td>249.000000</td>\n",
       "      <td>2005.000000</td>\n",
       "    </tr>\n",
       "    <tr>\n",
       "      <th>max</th>\n",
       "      <td>5.000000</td>\n",
       "      <td>9.789879e+12</td>\n",
       "      <td>3342.000000</td>\n",
       "      <td>2.457092e+06</td>\n",
       "      <td>55843.000000</td>\n",
       "      <td>2019.000000</td>\n",
       "    </tr>\n",
       "  </tbody>\n",
       "</table>\n",
       "</div>"
      ],
      "text/plain": [
       "       average_rating        isbn13    num_pages  ratings_count  \\\n",
       "count     5000.000000  5.000000e+03  4967.000000   5.000000e+03   \n",
       "mean         3.931932  9.752758e+12   341.094021   2.017549e+04   \n",
       "std          0.348741  5.129254e+11   230.986115   1.175026e+05   \n",
       "min          0.000000  8.987060e+09     1.000000   0.000000e+00   \n",
       "25%          3.770000  9.780345e+12   200.000000   1.050000e+02   \n",
       "50%          3.960000  9.780571e+12   304.000000   7.915000e+02   \n",
       "75%          4.140000  9.780871e+12   416.500000   5.348750e+03   \n",
       "max          5.000000  9.789879e+12  3342.000000   2.457092e+06   \n",
       "\n",
       "       text_reviews_count         year  \n",
       "count         5000.000000  5000.000000  \n",
       "mean           592.688600  2000.131800  \n",
       "std           2539.539004     8.069043  \n",
       "min              0.000000  1913.000000  \n",
       "25%              9.000000  1998.000000  \n",
       "50%             49.000000  2003.000000  \n",
       "75%            249.000000  2005.000000  \n",
       "max          55843.000000  2019.000000  "
      ]
     },
     "execution_count": 58,
     "metadata": {},
     "output_type": "execute_result"
    }
   ],
   "source": [
    "books_df.describe()"
   ]
  },
  {
   "cell_type": "code",
   "execution_count": 59,
   "metadata": {},
   "outputs": [
    {
     "name": "stdout",
     "output_type": "stream",
     "text": [
      "<class 'pandas.core.frame.DataFrame'>\n",
      "RangeIndex: 5000 entries, 0 to 4999\n",
      "Data columns (total 10 columns):\n",
      " #   Column              Non-Null Count  Dtype  \n",
      "---  ------              --------------  -----  \n",
      " 0   title               5000 non-null   object \n",
      " 1   author              5000 non-null   object \n",
      " 2   average_rating      5000 non-null   float64\n",
      " 3   isbn13              5000 non-null   int64  \n",
      " 4   language_code       4923 non-null   object \n",
      " 5   num_pages           4967 non-null   float64\n",
      " 6   ratings_count       5000 non-null   int64  \n",
      " 7   text_reviews_count  5000 non-null   int64  \n",
      " 8   publisher           5000 non-null   object \n",
      " 9   year                5000 non-null   int64  \n",
      "dtypes: float64(2), int64(4), object(4)\n",
      "memory usage: 390.8+ KB\n"
     ]
    }
   ],
   "source": [
    "books_df.info()"
   ]
  },
  {
   "cell_type": "code",
   "execution_count": 63,
   "metadata": {},
   "outputs": [
    {
     "data": {
      "text/plain": [
       "(2115, 10)"
      ]
     },
     "execution_count": 63,
     "metadata": {},
     "output_type": "execute_result"
    }
   ],
   "source": [
    "book_rating_greater_than_4 = books_df.loc[books_df['average_rating']>4]\n",
    "book_rating_greater_than_4.shape"
   ]
  },
  {
   "cell_type": "code",
   "execution_count": 68,
   "metadata": {},
   "outputs": [
    {
     "data": {
      "text/html": [
       "<div>\n",
       "<style scoped>\n",
       "    .dataframe tbody tr th:only-of-type {\n",
       "        vertical-align: middle;\n",
       "    }\n",
       "\n",
       "    .dataframe tbody tr th {\n",
       "        vertical-align: top;\n",
       "    }\n",
       "\n",
       "    .dataframe thead th {\n",
       "        text-align: right;\n",
       "    }\n",
       "</style>\n",
       "<table border=\"1\" class=\"dataframe\">\n",
       "  <thead>\n",
       "    <tr style=\"text-align: right;\">\n",
       "      <th></th>\n",
       "      <th>title</th>\n",
       "      <th>author</th>\n",
       "      <th>average_rating</th>\n",
       "      <th>isbn13</th>\n",
       "      <th>language_code</th>\n",
       "      <th>num_pages</th>\n",
       "      <th>ratings_count</th>\n",
       "      <th>text_reviews_count</th>\n",
       "      <th>publisher</th>\n",
       "      <th>year</th>\n",
       "    </tr>\n",
       "  </thead>\n",
       "  <tbody>\n",
       "    <tr>\n",
       "      <th>63</th>\n",
       "      <td>鋼之鍊金術師 9</td>\n",
       "      <td>Hiromu Arakawa</td>\n",
       "      <td>4.57</td>\n",
       "      <td>9789861156521</td>\n",
       "      <td>NaN</td>\n",
       "      <td>184.0</td>\n",
       "      <td>4</td>\n",
       "      <td>0</td>\n",
       "      <td>東立</td>\n",
       "      <td>2004</td>\n",
       "    </tr>\n",
       "    <tr>\n",
       "      <th>178</th>\n",
       "      <td>鋼之鍊金術師 6</td>\n",
       "      <td>Hiromu Arakawa</td>\n",
       "      <td>4.58</td>\n",
       "      <td>9789861146140</td>\n",
       "      <td>NaN</td>\n",
       "      <td>191.0</td>\n",
       "      <td>5</td>\n",
       "      <td>0</td>\n",
       "      <td>東立</td>\n",
       "      <td>2004</td>\n",
       "    </tr>\n",
       "    <tr>\n",
       "      <th>224</th>\n",
       "      <td>Stargirl LitPlans on CD</td>\n",
       "      <td>Mary B. Collins</td>\n",
       "      <td>4.86</td>\n",
       "      <td>9781583372920</td>\n",
       "      <td>eng</td>\n",
       "      <td>210.0</td>\n",
       "      <td>5</td>\n",
       "      <td>0</td>\n",
       "      <td>Teacher's Pet Publications</td>\n",
       "      <td>2005</td>\n",
       "    </tr>\n",
       "    <tr>\n",
       "      <th>454</th>\n",
       "      <td>Literature Circle Guide: Bridge to Terabithia:...</td>\n",
       "      <td>Tara MacCarthy</td>\n",
       "      <td>5.00</td>\n",
       "      <td>9780439271714</td>\n",
       "      <td>eng</td>\n",
       "      <td>32.0</td>\n",
       "      <td>4</td>\n",
       "      <td>1</td>\n",
       "      <td>Teaching Resources</td>\n",
       "      <td>2002</td>\n",
       "    </tr>\n",
       "    <tr>\n",
       "      <th>584</th>\n",
       "      <td>Falling Angels (Luc Actar #1)</td>\n",
       "      <td>Melissa M. Garcia</td>\n",
       "      <td>4.67</td>\n",
       "      <td>9780595377107</td>\n",
       "      <td>eng</td>\n",
       "      <td>216.0</td>\n",
       "      <td>1</td>\n",
       "      <td>0</td>\n",
       "      <td>iUniverse</td>\n",
       "      <td>2006</td>\n",
       "    </tr>\n",
       "    <tr>\n",
       "      <th>681</th>\n",
       "      <td>Fanning the Flame: Bible  Cross  and Mission</td>\n",
       "      <td>Chris    Green</td>\n",
       "      <td>5.00</td>\n",
       "      <td>9780310249870</td>\n",
       "      <td>eng</td>\n",
       "      <td>336.0</td>\n",
       "      <td>1</td>\n",
       "      <td>1</td>\n",
       "      <td>Zondervan</td>\n",
       "      <td>2003</td>\n",
       "    </tr>\n",
       "    <tr>\n",
       "      <th>696</th>\n",
       "      <td>Tyrannosaurus Wrecks (Stanley  #1)</td>\n",
       "      <td>Laura Driscoll</td>\n",
       "      <td>5.00</td>\n",
       "      <td>9780786845033</td>\n",
       "      <td>eng</td>\n",
       "      <td>24.0</td>\n",
       "      <td>2</td>\n",
       "      <td>1</td>\n",
       "      <td>Disney Press</td>\n",
       "      <td>2003</td>\n",
       "    </tr>\n",
       "    <tr>\n",
       "      <th>741</th>\n",
       "      <td>The John Deere Two-Cylinder Tractor Encycloped...</td>\n",
       "      <td>Don Macmillan</td>\n",
       "      <td>4.75</td>\n",
       "      <td>9780760329634</td>\n",
       "      <td>eng</td>\n",
       "      <td>256.0</td>\n",
       "      <td>4</td>\n",
       "      <td>0</td>\n",
       "      <td>Voyageur Press</td>\n",
       "      <td>2007</td>\n",
       "    </tr>\n",
       "    <tr>\n",
       "      <th>757</th>\n",
       "      <td>The American Campaign: U.S. Presidential Campa...</td>\n",
       "      <td>James E. Campbell</td>\n",
       "      <td>5.00</td>\n",
       "      <td>9780890969403</td>\n",
       "      <td>eng</td>\n",
       "      <td>314.0</td>\n",
       "      <td>0</td>\n",
       "      <td>0</td>\n",
       "      <td>Texas A&amp;M University Press</td>\n",
       "      <td>2000</td>\n",
       "    </tr>\n",
       "    <tr>\n",
       "      <th>1837</th>\n",
       "      <td>The Goon Show  Volume 4: My Knees Have Fallen ...</td>\n",
       "      <td>NOT A BOOK</td>\n",
       "      <td>5.00</td>\n",
       "      <td>9780563388692</td>\n",
       "      <td>eng</td>\n",
       "      <td>2.0</td>\n",
       "      <td>3</td>\n",
       "      <td>0</td>\n",
       "      <td>BBC Physical Audio</td>\n",
       "      <td>1996</td>\n",
       "    </tr>\n",
       "    <tr>\n",
       "      <th>1856</th>\n",
       "      <td>鋼之鍊金術師 10</td>\n",
       "      <td>Hiromu Arakawa</td>\n",
       "      <td>4.60</td>\n",
       "      <td>9789861156538</td>\n",
       "      <td>NaN</td>\n",
       "      <td>188.0</td>\n",
       "      <td>3</td>\n",
       "      <td>0</td>\n",
       "      <td>東立</td>\n",
       "      <td>2005</td>\n",
       "    </tr>\n",
       "    <tr>\n",
       "      <th>1960</th>\n",
       "      <td>Wissenschaft der Logik: Die Lehre Vom Begriff ...</td>\n",
       "      <td>Georg Wilhelm Friedrich Hegel</td>\n",
       "      <td>4.78</td>\n",
       "      <td>9783787307678</td>\n",
       "      <td>ger</td>\n",
       "      <td>337.0</td>\n",
       "      <td>0</td>\n",
       "      <td>0</td>\n",
       "      <td>F. Meiner</td>\n",
       "      <td>1994</td>\n",
       "    </tr>\n",
       "    <tr>\n",
       "      <th>2244</th>\n",
       "      <td>Getting a Grip on the Basics: Building a Firm ...</td>\n",
       "      <td>Beth A. Jones</td>\n",
       "      <td>4.67</td>\n",
       "      <td>9781577948261</td>\n",
       "      <td>eng</td>\n",
       "      <td>124.0</td>\n",
       "      <td>9</td>\n",
       "      <td>0</td>\n",
       "      <td>Harrison House</td>\n",
       "      <td>2006</td>\n",
       "    </tr>\n",
       "    <tr>\n",
       "      <th>2496</th>\n",
       "      <td>Come Away My Beloved</td>\n",
       "      <td>Frances J. Roberts</td>\n",
       "      <td>4.58</td>\n",
       "      <td>9781593109158</td>\n",
       "      <td>eng</td>\n",
       "      <td>192.0</td>\n",
       "      <td>8</td>\n",
       "      <td>0</td>\n",
       "      <td>Barbour Books</td>\n",
       "      <td>2005</td>\n",
       "    </tr>\n",
       "    <tr>\n",
       "      <th>3178</th>\n",
       "      <td>Organizational Architecture: Designs for Chang...</td>\n",
       "      <td>David A. Nadler</td>\n",
       "      <td>4.62</td>\n",
       "      <td>9781555424435</td>\n",
       "      <td>eng</td>\n",
       "      <td>304.0</td>\n",
       "      <td>2</td>\n",
       "      <td>0</td>\n",
       "      <td>Jossey-Bass</td>\n",
       "      <td>1992</td>\n",
       "    </tr>\n",
       "    <tr>\n",
       "      <th>3438</th>\n",
       "      <td>Bill Gates: Computer Legend (Famous Lives)</td>\n",
       "      <td>Sara Barton-Wood</td>\n",
       "      <td>5.00</td>\n",
       "      <td>9780739844328</td>\n",
       "      <td>eng</td>\n",
       "      <td>48.0</td>\n",
       "      <td>0</td>\n",
       "      <td>0</td>\n",
       "      <td>Raintree</td>\n",
       "      <td>2001</td>\n",
       "    </tr>\n",
       "    <tr>\n",
       "      <th>3706</th>\n",
       "      <td>A Wife After God's Own Heart Growth and Study ...</td>\n",
       "      <td>Elizabeth George</td>\n",
       "      <td>4.69</td>\n",
       "      <td>9780736911689</td>\n",
       "      <td>eng</td>\n",
       "      <td>160.0</td>\n",
       "      <td>9</td>\n",
       "      <td>1</td>\n",
       "      <td>Harvest House Publishers</td>\n",
       "      <td>2004</td>\n",
       "    </tr>\n",
       "    <tr>\n",
       "      <th>3833</th>\n",
       "      <td>His Princess Devotional: A Royal Encounter Wit...</td>\n",
       "      <td>Sheri Rose Shepherd</td>\n",
       "      <td>5.00</td>\n",
       "      <td>9781590529621</td>\n",
       "      <td>eng</td>\n",
       "      <td>240.0</td>\n",
       "      <td>2</td>\n",
       "      <td>0</td>\n",
       "      <td>Multnomah</td>\n",
       "      <td>2007</td>\n",
       "    </tr>\n",
       "    <tr>\n",
       "      <th>3909</th>\n",
       "      <td>Little Big Book for God's Children</td>\n",
       "      <td>Alice Wong</td>\n",
       "      <td>4.88</td>\n",
       "      <td>9780941807555</td>\n",
       "      <td>en-US</td>\n",
       "      <td>352.0</td>\n",
       "      <td>8</td>\n",
       "      <td>0</td>\n",
       "      <td>Welcome Books</td>\n",
       "      <td>2001</td>\n",
       "    </tr>\n",
       "    <tr>\n",
       "      <th>3927</th>\n",
       "      <td>Colossians and Philemon: A Critical and Exeget...</td>\n",
       "      <td>R. McL. Wilson</td>\n",
       "      <td>5.00</td>\n",
       "      <td>9780567044716</td>\n",
       "      <td>eng</td>\n",
       "      <td>512.0</td>\n",
       "      <td>1</td>\n",
       "      <td>0</td>\n",
       "      <td>T&amp;T Clark Int'l</td>\n",
       "      <td>2005</td>\n",
       "    </tr>\n",
       "    <tr>\n",
       "      <th>4108</th>\n",
       "      <td>Willem de Kooning: Late Paintings</td>\n",
       "      <td>Julie Sylvester</td>\n",
       "      <td>5.00</td>\n",
       "      <td>9783829602266</td>\n",
       "      <td>eng</td>\n",
       "      <td>83.0</td>\n",
       "      <td>1</td>\n",
       "      <td>0</td>\n",
       "      <td>Schirmer Mosel</td>\n",
       "      <td>2006</td>\n",
       "    </tr>\n",
       "    <tr>\n",
       "      <th>4415</th>\n",
       "      <td>Corvette</td>\n",
       "      <td>Jerry Burton</td>\n",
       "      <td>4.83</td>\n",
       "      <td>9780883631218</td>\n",
       "      <td>eng</td>\n",
       "      <td>320.0</td>\n",
       "      <td>6</td>\n",
       "      <td>1</td>\n",
       "      <td>Universe Publishing(NY)</td>\n",
       "      <td>2006</td>\n",
       "    </tr>\n",
       "    <tr>\n",
       "      <th>4455</th>\n",
       "      <td>The Complete Theory Fun Factory: Music Theory ...</td>\n",
       "      <td>Ian        Martin</td>\n",
       "      <td>5.00</td>\n",
       "      <td>9780851621814</td>\n",
       "      <td>eng</td>\n",
       "      <td>96.0</td>\n",
       "      <td>1</td>\n",
       "      <td>0</td>\n",
       "      <td>Boosey &amp; Hawkes Inc</td>\n",
       "      <td>2004</td>\n",
       "    </tr>\n",
       "    <tr>\n",
       "      <th>4917</th>\n",
       "      <td>Taxation of Mineral Rents</td>\n",
       "      <td>Ross Garnaut</td>\n",
       "      <td>5.00</td>\n",
       "      <td>9780198284543</td>\n",
       "      <td>eng</td>\n",
       "      <td>350.0</td>\n",
       "      <td>1</td>\n",
       "      <td>0</td>\n",
       "      <td>Oxford University Press  USA</td>\n",
       "      <td>1983</td>\n",
       "    </tr>\n",
       "    <tr>\n",
       "      <th>4933</th>\n",
       "      <td>Oliver Wendell Holmes in Paris: Medicine  Theo...</td>\n",
       "      <td>William C. Dowling</td>\n",
       "      <td>5.00</td>\n",
       "      <td>9781584655800</td>\n",
       "      <td>eng</td>\n",
       "      <td>179.0</td>\n",
       "      <td>1</td>\n",
       "      <td>1</td>\n",
       "      <td>University Press of New England</td>\n",
       "      <td>2007</td>\n",
       "    </tr>\n",
       "  </tbody>\n",
       "</table>\n",
       "</div>"
      ],
      "text/plain": [
       "                                                  title  \\\n",
       "63                                             鋼之鍊金術師 9   \n",
       "178                                            鋼之鍊金術師 6   \n",
       "224                             Stargirl LitPlans on CD   \n",
       "454   Literature Circle Guide: Bridge to Terabithia:...   \n",
       "584                       Falling Angels (Luc Actar #1)   \n",
       "681        Fanning the Flame: Bible  Cross  and Mission   \n",
       "696                  Tyrannosaurus Wrecks (Stanley  #1)   \n",
       "741   The John Deere Two-Cylinder Tractor Encycloped...   \n",
       "757   The American Campaign: U.S. Presidential Campa...   \n",
       "1837  The Goon Show  Volume 4: My Knees Have Fallen ...   \n",
       "1856                                          鋼之鍊金術師 10   \n",
       "1960  Wissenschaft der Logik: Die Lehre Vom Begriff ...   \n",
       "2244  Getting a Grip on the Basics: Building a Firm ...   \n",
       "2496                               Come Away My Beloved   \n",
       "3178  Organizational Architecture: Designs for Chang...   \n",
       "3438         Bill Gates: Computer Legend (Famous Lives)   \n",
       "3706  A Wife After God's Own Heart Growth and Study ...   \n",
       "3833  His Princess Devotional: A Royal Encounter Wit...   \n",
       "3909                 Little Big Book for God's Children   \n",
       "3927  Colossians and Philemon: A Critical and Exeget...   \n",
       "4108                  Willem de Kooning: Late Paintings   \n",
       "4415                                           Corvette   \n",
       "4455  The Complete Theory Fun Factory: Music Theory ...   \n",
       "4917                          Taxation of Mineral Rents   \n",
       "4933  Oliver Wendell Holmes in Paris: Medicine  Theo...   \n",
       "\n",
       "                             author  average_rating         isbn13  \\\n",
       "63                   Hiromu Arakawa            4.57  9789861156521   \n",
       "178                  Hiromu Arakawa            4.58  9789861146140   \n",
       "224                 Mary B. Collins            4.86  9781583372920   \n",
       "454                  Tara MacCarthy            5.00  9780439271714   \n",
       "584               Melissa M. Garcia            4.67  9780595377107   \n",
       "681                  Chris    Green            5.00  9780310249870   \n",
       "696                  Laura Driscoll            5.00  9780786845033   \n",
       "741                   Don Macmillan            4.75  9780760329634   \n",
       "757               James E. Campbell            5.00  9780890969403   \n",
       "1837                     NOT A BOOK            5.00  9780563388692   \n",
       "1856                 Hiromu Arakawa            4.60  9789861156538   \n",
       "1960  Georg Wilhelm Friedrich Hegel            4.78  9783787307678   \n",
       "2244                  Beth A. Jones            4.67  9781577948261   \n",
       "2496             Frances J. Roberts            4.58  9781593109158   \n",
       "3178                David A. Nadler            4.62  9781555424435   \n",
       "3438               Sara Barton-Wood            5.00  9780739844328   \n",
       "3706               Elizabeth George            4.69  9780736911689   \n",
       "3833            Sheri Rose Shepherd            5.00  9781590529621   \n",
       "3909                     Alice Wong            4.88  9780941807555   \n",
       "3927                 R. McL. Wilson            5.00  9780567044716   \n",
       "4108                Julie Sylvester            5.00  9783829602266   \n",
       "4415                   Jerry Burton            4.83  9780883631218   \n",
       "4455              Ian        Martin            5.00  9780851621814   \n",
       "4917                   Ross Garnaut            5.00  9780198284543   \n",
       "4933             William C. Dowling            5.00  9781584655800   \n",
       "\n",
       "     language_code  num_pages  ratings_count  text_reviews_count  \\\n",
       "63             NaN      184.0              4                   0   \n",
       "178            NaN      191.0              5                   0   \n",
       "224            eng      210.0              5                   0   \n",
       "454            eng       32.0              4                   1   \n",
       "584            eng      216.0              1                   0   \n",
       "681            eng      336.0              1                   1   \n",
       "696            eng       24.0              2                   1   \n",
       "741            eng      256.0              4                   0   \n",
       "757            eng      314.0              0                   0   \n",
       "1837           eng        2.0              3                   0   \n",
       "1856           NaN      188.0              3                   0   \n",
       "1960           ger      337.0              0                   0   \n",
       "2244           eng      124.0              9                   0   \n",
       "2496           eng      192.0              8                   0   \n",
       "3178           eng      304.0              2                   0   \n",
       "3438           eng       48.0              0                   0   \n",
       "3706           eng      160.0              9                   1   \n",
       "3833           eng      240.0              2                   0   \n",
       "3909         en-US      352.0              8                   0   \n",
       "3927           eng      512.0              1                   0   \n",
       "4108           eng       83.0              1                   0   \n",
       "4415           eng      320.0              6                   1   \n",
       "4455           eng       96.0              1                   0   \n",
       "4917           eng      350.0              1                   0   \n",
       "4933           eng      179.0              1                   1   \n",
       "\n",
       "                            publisher  year  \n",
       "63                                 東立  2004  \n",
       "178                                東立  2004  \n",
       "224        Teacher's Pet Publications  2005  \n",
       "454                Teaching Resources  2002  \n",
       "584                         iUniverse  2006  \n",
       "681                         Zondervan  2003  \n",
       "696                      Disney Press  2003  \n",
       "741                    Voyageur Press  2007  \n",
       "757        Texas A&M University Press  2000  \n",
       "1837               BBC Physical Audio  1996  \n",
       "1856                               東立  2005  \n",
       "1960                        F. Meiner  1994  \n",
       "2244                   Harrison House  2006  \n",
       "2496                    Barbour Books  2005  \n",
       "3178                      Jossey-Bass  1992  \n",
       "3438                         Raintree  2001  \n",
       "3706         Harvest House Publishers  2004  \n",
       "3833                        Multnomah  2007  \n",
       "3909                    Welcome Books  2001  \n",
       "3927                  T&T Clark Int'l  2005  \n",
       "4108                   Schirmer Mosel  2006  \n",
       "4415          Universe Publishing(NY)  2006  \n",
       "4455              Boosey & Hawkes Inc  2004  \n",
       "4917     Oxford University Press  USA  1983  \n",
       "4933  University Press of New England  2007  "
      ]
     },
     "execution_count": 68,
     "metadata": {},
     "output_type": "execute_result"
    }
   ],
   "source": [
    "books_df[(books_df['average_rating']>4.5) & (books_df['ratings_count']<10)]"
   ]
  },
  {
   "cell_type": "code",
   "execution_count": 76,
   "metadata": {},
   "outputs": [
    {
     "name": "stderr",
     "output_type": "stream",
     "text": [
      "C:\\Users\\BoboDS\\AppData\\Local\\Temp\\ipykernel_12744\\3851432196.py:1: FutureWarning: The default value of numeric_only in DataFrameGroupBy.mean is deprecated. In a future version, numeric_only will default to False. Either specify numeric_only or select only columns which should be valid for the function.\n",
      "  books_df.groupby(['language_code']).mean()\n"
     ]
    },
    {
     "data": {
      "text/html": [
       "<div>\n",
       "<style scoped>\n",
       "    .dataframe tbody tr th:only-of-type {\n",
       "        vertical-align: middle;\n",
       "    }\n",
       "\n",
       "    .dataframe tbody tr th {\n",
       "        vertical-align: top;\n",
       "    }\n",
       "\n",
       "    .dataframe thead th {\n",
       "        text-align: right;\n",
       "    }\n",
       "</style>\n",
       "<table border=\"1\" class=\"dataframe\">\n",
       "  <thead>\n",
       "    <tr style=\"text-align: right;\">\n",
       "      <th></th>\n",
       "      <th>average_rating</th>\n",
       "      <th>isbn13</th>\n",
       "      <th>num_pages</th>\n",
       "      <th>ratings_count</th>\n",
       "      <th>text_reviews_count</th>\n",
       "      <th>year</th>\n",
       "    </tr>\n",
       "    <tr>\n",
       "      <th>language_code</th>\n",
       "      <th></th>\n",
       "      <th></th>\n",
       "      <th></th>\n",
       "      <th></th>\n",
       "      <th></th>\n",
       "      <th></th>\n",
       "    </tr>\n",
       "  </thead>\n",
       "  <tbody>\n",
       "    <tr>\n",
       "      <th>en-GB</th>\n",
       "      <td>3.922523</td>\n",
       "      <td>9.696604e+12</td>\n",
       "      <td>341.339623</td>\n",
       "      <td>3341.766355</td>\n",
       "      <td>143.869159</td>\n",
       "      <td>2000.850467</td>\n",
       "    </tr>\n",
       "    <tr>\n",
       "      <th>en-US</th>\n",
       "      <td>3.914800</td>\n",
       "      <td>9.736889e+12</td>\n",
       "      <td>336.731366</td>\n",
       "      <td>4277.309231</td>\n",
       "      <td>178.353846</td>\n",
       "      <td>2000.824615</td>\n",
       "    </tr>\n",
       "    <tr>\n",
       "      <th>eng</th>\n",
       "      <td>3.931143</td>\n",
       "      <td>9.754850e+12</td>\n",
       "      <td>341.497604</td>\n",
       "      <td>24326.628321</td>\n",
       "      <td>705.539348</td>\n",
       "      <td>1999.994236</td>\n",
       "    </tr>\n",
       "    <tr>\n",
       "      <th>ger</th>\n",
       "      <td>3.979773</td>\n",
       "      <td>9.783368e+12</td>\n",
       "      <td>358.590909</td>\n",
       "      <td>88.477273</td>\n",
       "      <td>4.863636</td>\n",
       "      <td>1998.454545</td>\n",
       "    </tr>\n",
       "    <tr>\n",
       "      <th>grc</th>\n",
       "      <td>2.366667</td>\n",
       "      <td>9.781553e+12</td>\n",
       "      <td>360.666667</td>\n",
       "      <td>2.333333</td>\n",
       "      <td>0.333333</td>\n",
       "      <td>1987.333333</td>\n",
       "    </tr>\n",
       "    <tr>\n",
       "      <th>jpn</th>\n",
       "      <td>4.252381</td>\n",
       "      <td>9.784141e+12</td>\n",
       "      <td>191.857143</td>\n",
       "      <td>74.095238</td>\n",
       "      <td>4.428571</td>\n",
       "      <td>2001.000000</td>\n",
       "    </tr>\n",
       "    <tr>\n",
       "      <th>lat</th>\n",
       "      <td>4.170000</td>\n",
       "      <td>9.780865e+12</td>\n",
       "      <td>75.000000</td>\n",
       "      <td>63.000000</td>\n",
       "      <td>9.000000</td>\n",
       "      <td>2005.000000</td>\n",
       "    </tr>\n",
       "    <tr>\n",
       "      <th>mul</th>\n",
       "      <td>4.116000</td>\n",
       "      <td>9.780973e+12</td>\n",
       "      <td>447.000000</td>\n",
       "      <td>572.900000</td>\n",
       "      <td>31.000000</td>\n",
       "      <td>1982.400000</td>\n",
       "    </tr>\n",
       "    <tr>\n",
       "      <th>spa</th>\n",
       "      <td>3.927938</td>\n",
       "      <td>9.785959e+12</td>\n",
       "      <td>345.875000</td>\n",
       "      <td>3465.927835</td>\n",
       "      <td>95.463918</td>\n",
       "      <td>2003.185567</td>\n",
       "    </tr>\n",
       "  </tbody>\n",
       "</table>\n",
       "</div>"
      ],
      "text/plain": [
       "               average_rating        isbn13   num_pages  ratings_count  \\\n",
       "language_code                                                            \n",
       "en-GB                3.922523  9.696604e+12  341.339623    3341.766355   \n",
       "en-US                3.914800  9.736889e+12  336.731366    4277.309231   \n",
       "eng                  3.931143  9.754850e+12  341.497604   24326.628321   \n",
       "ger                  3.979773  9.783368e+12  358.590909      88.477273   \n",
       "grc                  2.366667  9.781553e+12  360.666667       2.333333   \n",
       "jpn                  4.252381  9.784141e+12  191.857143      74.095238   \n",
       "lat                  4.170000  9.780865e+12   75.000000      63.000000   \n",
       "mul                  4.116000  9.780973e+12  447.000000     572.900000   \n",
       "spa                  3.927938  9.785959e+12  345.875000    3465.927835   \n",
       "\n",
       "               text_reviews_count         year  \n",
       "language_code                                   \n",
       "en-GB                  143.869159  2000.850467  \n",
       "en-US                  178.353846  2000.824615  \n",
       "eng                    705.539348  1999.994236  \n",
       "ger                      4.863636  1998.454545  \n",
       "grc                      0.333333  1987.333333  \n",
       "jpn                      4.428571  2001.000000  \n",
       "lat                      9.000000  2005.000000  \n",
       "mul                     31.000000  1982.400000  \n",
       "spa                     95.463918  2003.185567  "
      ]
     },
     "execution_count": 76,
     "metadata": {},
     "output_type": "execute_result"
    }
   ],
   "source": [
    "books_df.groupby(['language_code']).mean()"
   ]
  },
  {
   "cell_type": "code",
   "execution_count": 77,
   "metadata": {},
   "outputs": [
    {
     "data": {
      "text/html": [
       "<div>\n",
       "<style scoped>\n",
       "    .dataframe tbody tr th:only-of-type {\n",
       "        vertical-align: middle;\n",
       "    }\n",
       "\n",
       "    .dataframe tbody tr th {\n",
       "        vertical-align: top;\n",
       "    }\n",
       "\n",
       "    .dataframe thead th {\n",
       "        text-align: right;\n",
       "    }\n",
       "</style>\n",
       "<table border=\"1\" class=\"dataframe\">\n",
       "  <thead>\n",
       "    <tr style=\"text-align: right;\">\n",
       "      <th></th>\n",
       "      <th>title</th>\n",
       "      <th>author</th>\n",
       "      <th>average_rating</th>\n",
       "      <th>isbn13</th>\n",
       "    </tr>\n",
       "  </thead>\n",
       "  <tbody>\n",
       "    <tr>\n",
       "      <th>0</th>\n",
       "      <td>The Hunchback of Notre-Dame</td>\n",
       "      <td>Victor Hugo</td>\n",
       "      <td>4.00</td>\n",
       "      <td>9780345472427</td>\n",
       "    </tr>\n",
       "    <tr>\n",
       "      <th>1</th>\n",
       "      <td>La Cucina Di Lidia: Recipes and Memories from ...</td>\n",
       "      <td>Lidia Matticchio Bastianich</td>\n",
       "      <td>4.14</td>\n",
       "      <td>9780767914222</td>\n",
       "    </tr>\n",
       "    <tr>\n",
       "      <th>2</th>\n",
       "      <td>Breach of Promise</td>\n",
       "      <td>James Scott Bell</td>\n",
       "      <td>4.00</td>\n",
       "      <td>9780310243878</td>\n",
       "    </tr>\n",
       "    <tr>\n",
       "      <th>3</th>\n",
       "      <td>Brief Interviews with Hideous Men</td>\n",
       "      <td>David Foster Wallace</td>\n",
       "      <td>3.86</td>\n",
       "      <td>9780349111889</td>\n",
       "    </tr>\n",
       "    <tr>\n",
       "      <th>4</th>\n",
       "      <td>The Killing Dance (Anita Blake  Vampire Hunter...</td>\n",
       "      <td>Laurell K. Hamilton</td>\n",
       "      <td>4.13</td>\n",
       "      <td>9780425209066</td>\n",
       "    </tr>\n",
       "  </tbody>\n",
       "</table>\n",
       "</div>"
      ],
      "text/plain": [
       "                                               title  \\\n",
       "0                        The Hunchback of Notre-Dame   \n",
       "1  La Cucina Di Lidia: Recipes and Memories from ...   \n",
       "2                                  Breach of Promise   \n",
       "3                  Brief Interviews with Hideous Men   \n",
       "4  The Killing Dance (Anita Blake  Vampire Hunter...   \n",
       "\n",
       "                        author  average_rating         isbn13  \n",
       "0                  Victor Hugo            4.00  9780345472427  \n",
       "1  Lidia Matticchio Bastianich            4.14  9780767914222  \n",
       "2             James Scott Bell            4.00  9780310243878  \n",
       "3         David Foster Wallace            3.86  9780349111889  \n",
       "4          Laurell K. Hamilton            4.13  9780425209066  "
      ]
     },
     "execution_count": 77,
     "metadata": {},
     "output_type": "execute_result"
    }
   ],
   "source": [
    "books_df.iloc[0:5,0:4]"
   ]
  },
  {
   "cell_type": "code",
   "execution_count": 80,
   "metadata": {},
   "outputs": [
    {
     "data": {
      "text/html": [
       "<div>\n",
       "<style scoped>\n",
       "    .dataframe tbody tr th:only-of-type {\n",
       "        vertical-align: middle;\n",
       "    }\n",
       "\n",
       "    .dataframe tbody tr th {\n",
       "        vertical-align: top;\n",
       "    }\n",
       "\n",
       "    .dataframe thead th {\n",
       "        text-align: right;\n",
       "    }\n",
       "</style>\n",
       "<table border=\"1\" class=\"dataframe\">\n",
       "  <thead>\n",
       "    <tr style=\"text-align: right;\">\n",
       "      <th></th>\n",
       "      <th>language_code</th>\n",
       "      <th>num_pages</th>\n",
       "      <th>ratings_count</th>\n",
       "    </tr>\n",
       "  </thead>\n",
       "  <tbody>\n",
       "    <tr>\n",
       "      <th>1</th>\n",
       "      <td>en-GB</td>\n",
       "      <td>288.0</td>\n",
       "      <td>48</td>\n",
       "    </tr>\n",
       "    <tr>\n",
       "      <th>4</th>\n",
       "      <td>en-US</td>\n",
       "      <td>368.0</td>\n",
       "      <td>59524</td>\n",
       "    </tr>\n",
       "  </tbody>\n",
       "</table>\n",
       "</div>"
      ],
      "text/plain": [
       "  language_code  num_pages  ratings_count\n",
       "1         en-GB      288.0             48\n",
       "4         en-US      368.0          59524"
      ]
     },
     "execution_count": 80,
     "metadata": {},
     "output_type": "execute_result"
    }
   ],
   "source": [
    "books_df.loc[[1,4],['language_code','num_pages','ratings_count']]"
   ]
  },
  {
   "cell_type": "code",
   "execution_count": 81,
   "metadata": {},
   "outputs": [
    {
     "data": {
      "text/plain": [
       "341.0940205355345"
      ]
     },
     "execution_count": 81,
     "metadata": {},
     "output_type": "execute_result"
    }
   ],
   "source": [
    "books_df['num_pages'].mean()"
   ]
  },
  {
   "cell_type": "code",
   "execution_count": 82,
   "metadata": {},
   "outputs": [
    {
     "data": {
      "text/plain": [
       "0    288.0\n",
       "Name: num_pages, dtype: float64"
      ]
     },
     "execution_count": 82,
     "metadata": {},
     "output_type": "execute_result"
    }
   ],
   "source": [
    "books_df['num_pages'].mode()"
   ]
  },
  {
   "cell_type": "code",
   "execution_count": 83,
   "metadata": {},
   "outputs": [
    {
     "data": {
      "text/plain": [
       "304.0"
      ]
     },
     "execution_count": 83,
     "metadata": {},
     "output_type": "execute_result"
    }
   ],
   "source": [
    "books_df['num_pages'].median()"
   ]
  },
  {
   "cell_type": "code",
   "execution_count": 84,
   "metadata": {},
   "outputs": [
    {
     "data": {
      "text/plain": [
       "3342.0"
      ]
     },
     "execution_count": 84,
     "metadata": {},
     "output_type": "execute_result"
    }
   ],
   "source": [
    "books_df['num_pages'].max()"
   ]
  },
  {
   "cell_type": "code",
   "execution_count": 106,
   "metadata": {},
   "outputs": [
    {
     "name": "stdout",
     "output_type": "stream",
     "text": [
      "<pandas.core.groupby.generic.DataFrameGroupBy object at 0x000001B2E5CDC9D0>\n"
     ]
    }
   ],
   "source": [
    "books_by_year = books_df.groupby(['year'])\n",
    "print(books_by_year)"
   ]
  },
  {
   "cell_type": "code",
   "execution_count": 121,
   "metadata": {},
   "outputs": [
    {
     "data": {
      "text/plain": [
       "2006    720\n",
       "2005    531\n",
       "2004    493\n",
       "2003    423\n",
       "2002    338\n",
       "       ... \n",
       "1961      1\n",
       "1952      1\n",
       "1931      1\n",
       "1966      1\n",
       "1921      1\n",
       "Name: year, Length: 74, dtype: int64"
      ]
     },
     "execution_count": 121,
     "metadata": {},
     "output_type": "execute_result"
    }
   ],
   "source": [
    "books_df.iloc[:,9].value_counts()"
   ]
  },
  {
   "cell_type": "code",
   "execution_count": 128,
   "metadata": {},
   "outputs": [
    {
     "data": {
      "text/plain": [
       "(15, 10)"
      ]
     },
     "execution_count": 128,
     "metadata": {},
     "output_type": "execute_result"
    }
   ],
   "source": [
    "books_df.loc[books_df['year']==2010].shape"
   ]
  },
  {
   "cell_type": "code",
   "execution_count": 159,
   "metadata": {},
   "outputs": [
    {
     "data": {
      "text/html": [
       "<div>\n",
       "<style scoped>\n",
       "    .dataframe tbody tr th:only-of-type {\n",
       "        vertical-align: middle;\n",
       "    }\n",
       "\n",
       "    .dataframe tbody tr th {\n",
       "        vertical-align: top;\n",
       "    }\n",
       "\n",
       "    .dataframe thead th {\n",
       "        text-align: right;\n",
       "    }\n",
       "</style>\n",
       "<table border=\"1\" class=\"dataframe\">\n",
       "  <thead>\n",
       "    <tr style=\"text-align: right;\">\n",
       "      <th></th>\n",
       "      <th>title</th>\n",
       "      <th>author</th>\n",
       "      <th>average_rating</th>\n",
       "      <th>isbn13</th>\n",
       "      <th>language_code</th>\n",
       "      <th>num_pages</th>\n",
       "      <th>ratings_count</th>\n",
       "      <th>text_reviews_count</th>\n",
       "      <th>publisher</th>\n",
       "      <th>year</th>\n",
       "    </tr>\n",
       "  </thead>\n",
       "  <tbody>\n",
       "    <tr>\n",
       "      <th>71</th>\n",
       "      <td>By the Sword (Valdemar)</td>\n",
       "      <td>Mercedes Lackey</td>\n",
       "      <td>4.25</td>\n",
       "      <td>9780886774639</td>\n",
       "      <td>eng</td>\n",
       "      <td>492.0</td>\n",
       "      <td>18531</td>\n",
       "      <td>249</td>\n",
       "      <td>DAW</td>\n",
       "      <td>1991</td>\n",
       "    </tr>\n",
       "    <tr>\n",
       "      <th>871</th>\n",
       "      <td>Storm Rising (Valdemar: Mage Storms  #2)</td>\n",
       "      <td>Mercedes Lackey</td>\n",
       "      <td>4.02</td>\n",
       "      <td>9780886777128</td>\n",
       "      <td>en-US</td>\n",
       "      <td>412.0</td>\n",
       "      <td>10781</td>\n",
       "      <td>86</td>\n",
       "      <td>DAW</td>\n",
       "      <td>1996</td>\n",
       "    </tr>\n",
       "    <tr>\n",
       "      <th>1523</th>\n",
       "      <td>Phoenix and Ashes (Elemental Masters  #3)</td>\n",
       "      <td>Mercedes Lackey</td>\n",
       "      <td>4.01</td>\n",
       "      <td>9780756402723</td>\n",
       "      <td>eng</td>\n",
       "      <td>480.0</td>\n",
       "      <td>6980</td>\n",
       "      <td>229</td>\n",
       "      <td>DAW</td>\n",
       "      <td>2005</td>\n",
       "    </tr>\n",
       "    <tr>\n",
       "      <th>1583</th>\n",
       "      <td>To Battle the Gods (Jalav  Amazon Warrior  #5)</td>\n",
       "      <td>Sharon Green</td>\n",
       "      <td>4.07</td>\n",
       "      <td>9780886771287</td>\n",
       "      <td>eng</td>\n",
       "      <td>446.0</td>\n",
       "      <td>87</td>\n",
       "      <td>1</td>\n",
       "      <td>DAW</td>\n",
       "      <td>1986</td>\n",
       "    </tr>\n",
       "    <tr>\n",
       "      <th>3726</th>\n",
       "      <td>Oathblood (Valdemar: Vows and Honor  #3)</td>\n",
       "      <td>Mercedes Lackey</td>\n",
       "      <td>4.06</td>\n",
       "      <td>9780886777739</td>\n",
       "      <td>en-GB</td>\n",
       "      <td>394.0</td>\n",
       "      <td>9786</td>\n",
       "      <td>103</td>\n",
       "      <td>DAW</td>\n",
       "      <td>1998</td>\n",
       "    </tr>\n",
       "    <tr>\n",
       "      <th>4367</th>\n",
       "      <td>Joust (Dragon Jousters  #1)</td>\n",
       "      <td>Mercedes Lackey</td>\n",
       "      <td>4.02</td>\n",
       "      <td>9780756401535</td>\n",
       "      <td>eng</td>\n",
       "      <td>448.0</td>\n",
       "      <td>10113</td>\n",
       "      <td>263</td>\n",
       "      <td>DAW</td>\n",
       "      <td>2004</td>\n",
       "    </tr>\n",
       "  </tbody>\n",
       "</table>\n",
       "</div>"
      ],
      "text/plain": [
       "                                               title           author  \\\n",
       "71                           By the Sword (Valdemar)  Mercedes Lackey   \n",
       "871         Storm Rising (Valdemar: Mage Storms  #2)  Mercedes Lackey   \n",
       "1523       Phoenix and Ashes (Elemental Masters  #3)  Mercedes Lackey   \n",
       "1583  To Battle the Gods (Jalav  Amazon Warrior  #5)     Sharon Green   \n",
       "3726        Oathblood (Valdemar: Vows and Honor  #3)  Mercedes Lackey   \n",
       "4367                     Joust (Dragon Jousters  #1)  Mercedes Lackey   \n",
       "\n",
       "      average_rating         isbn13 language_code  num_pages  ratings_count  \\\n",
       "71              4.25  9780886774639           eng      492.0          18531   \n",
       "871             4.02  9780886777128         en-US      412.0          10781   \n",
       "1523            4.01  9780756402723           eng      480.0           6980   \n",
       "1583            4.07  9780886771287           eng      446.0             87   \n",
       "3726            4.06  9780886777739         en-GB      394.0           9786   \n",
       "4367            4.02  9780756401535           eng      448.0          10113   \n",
       "\n",
       "      text_reviews_count publisher  year  \n",
       "71                   249       DAW  1991  \n",
       "871                   86       DAW  1996  \n",
       "1523                 229       DAW  2005  \n",
       "1583                   1       DAW  1986  \n",
       "3726                 103       DAW  1998  \n",
       "4367                 263       DAW  2004  "
      ]
     },
     "execution_count": 159,
     "metadata": {},
     "output_type": "execute_result"
    }
   ],
   "source": [
    "books_df[(books_df['publisher'] == 'DAW') & (books_df['average_rating'] > 4)]"
   ]
  },
  {
   "cell_type": "code",
   "execution_count": 160,
   "metadata": {},
   "outputs": [
    {
     "data": {
      "text/html": [
       "<div>\n",
       "<style scoped>\n",
       "    .dataframe tbody tr th:only-of-type {\n",
       "        vertical-align: middle;\n",
       "    }\n",
       "\n",
       "    .dataframe tbody tr th {\n",
       "        vertical-align: top;\n",
       "    }\n",
       "\n",
       "    .dataframe thead th {\n",
       "        text-align: right;\n",
       "    }\n",
       "</style>\n",
       "<table border=\"1\" class=\"dataframe\">\n",
       "  <thead>\n",
       "    <tr style=\"text-align: right;\">\n",
       "      <th></th>\n",
       "      <th>title</th>\n",
       "      <th>author</th>\n",
       "      <th>average_rating</th>\n",
       "      <th>isbn13</th>\n",
       "      <th>language_code</th>\n",
       "      <th>num_pages</th>\n",
       "      <th>ratings_count</th>\n",
       "      <th>text_reviews_count</th>\n",
       "      <th>publisher</th>\n",
       "      <th>year</th>\n",
       "    </tr>\n",
       "  </thead>\n",
       "  <tbody>\n",
       "    <tr>\n",
       "      <th>2045</th>\n",
       "      <td>Billy Budd  Sailor and Other Uncompleted Writi...</td>\n",
       "      <td>Herman Melville</td>\n",
       "      <td>3.11</td>\n",
       "      <td>9780810111141</td>\n",
       "      <td>eng</td>\n",
       "      <td>1016.0</td>\n",
       "      <td>0</td>\n",
       "      <td>0</td>\n",
       "      <td>Northwestern Univ Press</td>\n",
       "      <td>2017</td>\n",
       "    </tr>\n",
       "    <tr>\n",
       "      <th>2775</th>\n",
       "      <td>Rick Steves' Europe Through the Back Door</td>\n",
       "      <td>Rick Steves</td>\n",
       "      <td>4.24</td>\n",
       "      <td>9781566918084</td>\n",
       "      <td>eng</td>\n",
       "      <td>808.0</td>\n",
       "      <td>3569</td>\n",
       "      <td>70</td>\n",
       "      <td>Avalon Travel</td>\n",
       "      <td>2017</td>\n",
       "    </tr>\n",
       "    <tr>\n",
       "      <th>3075</th>\n",
       "      <td>The Iliad</td>\n",
       "      <td>Homer</td>\n",
       "      <td>3.86</td>\n",
       "      <td>9781904633389</td>\n",
       "      <td>eng</td>\n",
       "      <td>542.0</td>\n",
       "      <td>64</td>\n",
       "      <td>8</td>\n",
       "      <td>Collector's Library</td>\n",
       "      <td>2011</td>\n",
       "    </tr>\n",
       "    <tr>\n",
       "      <th>3157</th>\n",
       "      <td>George Washington's Sacred Fire</td>\n",
       "      <td>Peter A. Lillback</td>\n",
       "      <td>4.18</td>\n",
       "      <td>9780978605261</td>\n",
       "      <td>eng</td>\n",
       "      <td>1200.0</td>\n",
       "      <td>694</td>\n",
       "      <td>63</td>\n",
       "      <td>Providence Forum Press</td>\n",
       "      <td>2011</td>\n",
       "    </tr>\n",
       "    <tr>\n",
       "      <th>3546</th>\n",
       "      <td>The Will to Power</td>\n",
       "      <td>Friedrich Nietzsche</td>\n",
       "      <td>4.05</td>\n",
       "      <td>9780394704371</td>\n",
       "      <td>eng</td>\n",
       "      <td>575.0</td>\n",
       "      <td>7931</td>\n",
       "      <td>132</td>\n",
       "      <td>Vintage Books</td>\n",
       "      <td>2011</td>\n",
       "    </tr>\n",
       "  </tbody>\n",
       "</table>\n",
       "</div>"
      ],
      "text/plain": [
       "                                                  title               author  \\\n",
       "2045  Billy Budd  Sailor and Other Uncompleted Writi...      Herman Melville   \n",
       "2775          Rick Steves' Europe Through the Back Door          Rick Steves   \n",
       "3075                                          The Iliad                Homer   \n",
       "3157                    George Washington's Sacred Fire    Peter A. Lillback   \n",
       "3546                                  The Will to Power  Friedrich Nietzsche   \n",
       "\n",
       "      average_rating         isbn13 language_code  num_pages  ratings_count  \\\n",
       "2045            3.11  9780810111141           eng     1016.0              0   \n",
       "2775            4.24  9781566918084           eng      808.0           3569   \n",
       "3075            3.86  9781904633389           eng      542.0             64   \n",
       "3157            4.18  9780978605261           eng     1200.0            694   \n",
       "3546            4.05  9780394704371           eng      575.0           7931   \n",
       "\n",
       "      text_reviews_count                publisher  year  \n",
       "2045                   0  Northwestern Univ Press  2017  \n",
       "2775                  70            Avalon Travel  2017  \n",
       "3075                   8      Collector's Library  2011  \n",
       "3157                  63   Providence Forum Press  2011  \n",
       "3546                 132            Vintage Books  2011  "
      ]
     },
     "execution_count": 160,
     "metadata": {},
     "output_type": "execute_result"
    }
   ],
   "source": [
    "books_df[(books_df['num_pages'] > 500) & (books_df['year'] > 2010)]"
   ]
  },
  {
   "cell_type": "code",
   "execution_count": 161,
   "metadata": {},
   "outputs": [
    {
     "data": {
      "text/plain": [
       "title                 21\n",
       "author                21\n",
       "average_rating        21\n",
       "isbn13                21\n",
       "language_code         21\n",
       "num_pages             19\n",
       "ratings_count         21\n",
       "text_reviews_count    21\n",
       "publisher             21\n",
       "year                  21\n",
       "dtype: int64"
      ]
     },
     "execution_count": 161,
     "metadata": {},
     "output_type": "execute_result"
    }
   ],
   "source": [
    "books_df[(books_df['author'] == 'Agatha Christie')].count()"
   ]
  },
  {
   "cell_type": "code",
   "execution_count": 162,
   "metadata": {},
   "outputs": [
    {
     "data": {
      "text/html": [
       "<div>\n",
       "<style scoped>\n",
       "    .dataframe tbody tr th:only-of-type {\n",
       "        vertical-align: middle;\n",
       "    }\n",
       "\n",
       "    .dataframe tbody tr th {\n",
       "        vertical-align: top;\n",
       "    }\n",
       "\n",
       "    .dataframe thead th {\n",
       "        text-align: right;\n",
       "    }\n",
       "</style>\n",
       "<table border=\"1\" class=\"dataframe\">\n",
       "  <thead>\n",
       "    <tr style=\"text-align: right;\">\n",
       "      <th></th>\n",
       "      <th>title</th>\n",
       "      <th>author</th>\n",
       "      <th>average_rating</th>\n",
       "      <th>isbn13</th>\n",
       "      <th>language_code</th>\n",
       "      <th>num_pages</th>\n",
       "      <th>ratings_count</th>\n",
       "      <th>text_reviews_count</th>\n",
       "      <th>publisher</th>\n",
       "      <th>year</th>\n",
       "    </tr>\n",
       "  </thead>\n",
       "  <tbody>\n",
       "    <tr>\n",
       "      <th>21</th>\n",
       "      <td>Los funerales de la Mamá Grande</td>\n",
       "      <td>Gabriel García Márquez</td>\n",
       "      <td>3.78</td>\n",
       "      <td>9780307350329</td>\n",
       "      <td>spa</td>\n",
       "      <td>160.0</td>\n",
       "      <td>4694</td>\n",
       "      <td>133</td>\n",
       "      <td>Plaza y Janes</td>\n",
       "      <td>2006</td>\n",
       "    </tr>\n",
       "    <tr>\n",
       "      <th>53</th>\n",
       "      <td>La Emperatriz tras el velo (Trilogía Taj Mahal...</td>\n",
       "      <td>Indu Sundaresan</td>\n",
       "      <td>4.04</td>\n",
       "      <td>9788425337604</td>\n",
       "      <td>spa</td>\n",
       "      <td>382.0</td>\n",
       "      <td>2</td>\n",
       "      <td>1</td>\n",
       "      <td>Grijalbo Mondadori Sa</td>\n",
       "      <td>2003</td>\n",
       "    </tr>\n",
       "    <tr>\n",
       "      <th>69</th>\n",
       "      <td>La casa de los espíritus</td>\n",
       "      <td>Isabel Allende</td>\n",
       "      <td>4.23</td>\n",
       "      <td>9780060951306</td>\n",
       "      <td>spa</td>\n",
       "      <td>454.0</td>\n",
       "      <td>608</td>\n",
       "      <td>38</td>\n",
       "      <td>HarperCollins Espanol</td>\n",
       "      <td>2001</td>\n",
       "    </tr>\n",
       "    <tr>\n",
       "      <th>93</th>\n",
       "      <td>Ya Sé Que Te Quiero</td>\n",
       "      <td>Billy Crystal</td>\n",
       "      <td>4.19</td>\n",
       "      <td>9780060845988</td>\n",
       "      <td>spa</td>\n",
       "      <td>40.0</td>\n",
       "      <td>0</td>\n",
       "      <td>0</td>\n",
       "      <td>Rayo</td>\n",
       "      <td>2006</td>\n",
       "    </tr>\n",
       "    <tr>\n",
       "      <th>107</th>\n",
       "      <td>Secretos De Familia</td>\n",
       "      <td>Julia Glass</td>\n",
       "      <td>3.57</td>\n",
       "      <td>9788496525030</td>\n",
       "      <td>spa</td>\n",
       "      <td>528.0</td>\n",
       "      <td>0</td>\n",
       "      <td>1</td>\n",
       "      <td>Puzzle-Roca</td>\n",
       "      <td>2006</td>\n",
       "    </tr>\n",
       "    <tr>\n",
       "      <th>...</th>\n",
       "      <td>...</td>\n",
       "      <td>...</td>\n",
       "      <td>...</td>\n",
       "      <td>...</td>\n",
       "      <td>...</td>\n",
       "      <td>...</td>\n",
       "      <td>...</td>\n",
       "      <td>...</td>\n",
       "      <td>...</td>\n",
       "      <td>...</td>\n",
       "    </tr>\n",
       "    <tr>\n",
       "      <th>4804</th>\n",
       "      <td>Muerte Blanca</td>\n",
       "      <td>Clive Cussler</td>\n",
       "      <td>3.91</td>\n",
       "      <td>9780307343260</td>\n",
       "      <td>spa</td>\n",
       "      <td>421.0</td>\n",
       "      <td>2</td>\n",
       "      <td>0</td>\n",
       "      <td>Debolsillo</td>\n",
       "      <td>2005</td>\n",
       "    </tr>\n",
       "    <tr>\n",
       "      <th>4832</th>\n",
       "      <td>Entrevista con el vampiro (Crónicas vampíricas...</td>\n",
       "      <td>Anne Rice</td>\n",
       "      <td>3.99</td>\n",
       "      <td>9788466616201</td>\n",
       "      <td>spa</td>\n",
       "      <td>463.0</td>\n",
       "      <td>1307</td>\n",
       "      <td>93</td>\n",
       "      <td>Ediciones B</td>\n",
       "      <td>2005</td>\n",
       "    </tr>\n",
       "    <tr>\n",
       "      <th>4890</th>\n",
       "      <td>Isabel: Princesa De Castilla  España  1466</td>\n",
       "      <td>Carolyn Meyer</td>\n",
       "      <td>3.71</td>\n",
       "      <td>9788478886746</td>\n",
       "      <td>spa</td>\n",
       "      <td>184.0</td>\n",
       "      <td>8</td>\n",
       "      <td>0</td>\n",
       "      <td>Salamandra</td>\n",
       "      <td>2001</td>\n",
       "    </tr>\n",
       "    <tr>\n",
       "      <th>4907</th>\n",
       "      <td>Ve  perro ¡Ve!</td>\n",
       "      <td>P.D. Eastman</td>\n",
       "      <td>4.09</td>\n",
       "      <td>9780375823619</td>\n",
       "      <td>spa</td>\n",
       "      <td>24.0</td>\n",
       "      <td>33</td>\n",
       "      <td>2</td>\n",
       "      <td>Random House Para Ninos</td>\n",
       "      <td>2003</td>\n",
       "    </tr>\n",
       "    <tr>\n",
       "      <th>4951</th>\n",
       "      <td>El librero de Kabul</td>\n",
       "      <td>Åsne Seierstad</td>\n",
       "      <td>3.76</td>\n",
       "      <td>9789706519245</td>\n",
       "      <td>spa</td>\n",
       "      <td>285.0</td>\n",
       "      <td>112</td>\n",
       "      <td>18</td>\n",
       "      <td>Grupo Océano</td>\n",
       "      <td>2004</td>\n",
       "    </tr>\n",
       "  </tbody>\n",
       "</table>\n",
       "<p>84 rows × 10 columns</p>\n",
       "</div>"
      ],
      "text/plain": [
       "                                                  title  \\\n",
       "21                      Los funerales de la Mamá Grande   \n",
       "53    La Emperatriz tras el velo (Trilogía Taj Mahal...   \n",
       "69                             La casa de los espíritus   \n",
       "93                                  Ya Sé Que Te Quiero   \n",
       "107                                 Secretos De Familia   \n",
       "...                                                 ...   \n",
       "4804                                      Muerte Blanca   \n",
       "4832  Entrevista con el vampiro (Crónicas vampíricas...   \n",
       "4890         Isabel: Princesa De Castilla  España  1466   \n",
       "4907                                     Ve  perro ¡Ve!   \n",
       "4951                                El librero de Kabul   \n",
       "\n",
       "                      author  average_rating         isbn13 language_code  \\\n",
       "21    Gabriel García Márquez            3.78  9780307350329           spa   \n",
       "53           Indu Sundaresan            4.04  9788425337604           spa   \n",
       "69            Isabel Allende            4.23  9780060951306           spa   \n",
       "93             Billy Crystal            4.19  9780060845988           spa   \n",
       "107              Julia Glass            3.57  9788496525030           spa   \n",
       "...                      ...             ...            ...           ...   \n",
       "4804           Clive Cussler            3.91  9780307343260           spa   \n",
       "4832               Anne Rice            3.99  9788466616201           spa   \n",
       "4890           Carolyn Meyer            3.71  9788478886746           spa   \n",
       "4907            P.D. Eastman            4.09  9780375823619           spa   \n",
       "4951          Åsne Seierstad            3.76  9789706519245           spa   \n",
       "\n",
       "      num_pages  ratings_count  text_reviews_count                publisher  \\\n",
       "21        160.0           4694                 133            Plaza y Janes   \n",
       "53        382.0              2                   1    Grijalbo Mondadori Sa   \n",
       "69        454.0            608                  38    HarperCollins Espanol   \n",
       "93         40.0              0                   0                     Rayo   \n",
       "107       528.0              0                   1              Puzzle-Roca   \n",
       "...         ...            ...                 ...                      ...   \n",
       "4804      421.0              2                   0               Debolsillo   \n",
       "4832      463.0           1307                  93              Ediciones B   \n",
       "4890      184.0              8                   0               Salamandra   \n",
       "4907       24.0             33                   2  Random House Para Ninos   \n",
       "4951      285.0            112                  18             Grupo Océano   \n",
       "\n",
       "      year  \n",
       "21    2006  \n",
       "53    2003  \n",
       "69    2001  \n",
       "93    2006  \n",
       "107   2006  \n",
       "...    ...  \n",
       "4804  2005  \n",
       "4832  2005  \n",
       "4890  2001  \n",
       "4907  2003  \n",
       "4951  2004  \n",
       "\n",
       "[84 rows x 10 columns]"
      ]
     },
     "execution_count": 162,
     "metadata": {},
     "output_type": "execute_result"
    }
   ],
   "source": [
    "books_df[(books_df['language_code'] == 'spa') & (books_df['year'] > 2000)]"
   ]
  },
  {
   "attachments": {},
   "cell_type": "markdown",
   "metadata": {},
   "source": [
    "## Week 2: Graded Quiz"
   ]
  },
  {
   "cell_type": "code",
   "execution_count": 165,
   "metadata": {},
   "outputs": [
    {
     "data": {
      "text/plain": [
       "array([[35, 74],\n",
       "       [37, 37],\n",
       "       [39, 93]])"
      ]
     },
     "execution_count": 165,
     "metadata": {},
     "output_type": "execute_result"
    }
   ],
   "source": [
    "demo_matrix = np.array(([13,35,74,48], [23,37,37,38], [73,39,93,39]))\n",
    "demo_matrix\n",
    "\n",
    "demo_matrix[0:3, 1:3]"
   ]
  },
  {
   "cell_type": "code",
   "execution_count": 178,
   "metadata": {},
   "outputs": [],
   "source": [
    "demo_array = np.array([0, 1, 2, 3, 4, 5, 6, 7, 8, 9])"
   ]
  },
  {
   "cell_type": "code",
   "execution_count": 179,
   "metadata": {},
   "outputs": [
    {
     "data": {
      "text/plain": [
       "array([5, 5, 5, 5, 5, 5, 5, 7, 8, 9])"
      ]
     },
     "execution_count": 179,
     "metadata": {},
     "output_type": "execute_result"
    }
   ],
   "source": [
    "demo_array[0:7] = 5\n",
    "demo_array"
   ]
  },
  {
   "cell_type": "code",
   "execution_count": 182,
   "metadata": {},
   "outputs": [
    {
     "data": {
      "text/plain": [
       "array([ True,  True,  True, False, False, False, False, False, False,\n",
       "       False])"
      ]
     },
     "execution_count": 182,
     "metadata": {},
     "output_type": "execute_result"
    }
   ],
   "source": [
    "demo_array = np.arange(0,10)\n",
    "demo_array\n",
    "demo_array<3"
   ]
  },
  {
   "cell_type": "code",
   "execution_count": 183,
   "metadata": {},
   "outputs": [
    {
     "data": {
      "text/plain": [
       "5"
      ]
     },
     "execution_count": 183,
     "metadata": {},
     "output_type": "execute_result"
    }
   ],
   "source": [
    "flowers = pd.Series([2, 3, 5, 4], index = ['lily', 'rose', 'daisy', 'lotus'])\n",
    "flowers['daisy']"
   ]
  },
  {
   "cell_type": "code",
   "execution_count": 236,
   "metadata": {},
   "outputs": [
    {
     "data": {
      "text/html": [
       "<div>\n",
       "<style scoped>\n",
       "    .dataframe tbody tr th:only-of-type {\n",
       "        vertical-align: middle;\n",
       "    }\n",
       "\n",
       "    .dataframe tbody tr th {\n",
       "        vertical-align: top;\n",
       "    }\n",
       "\n",
       "    .dataframe thead th {\n",
       "        text-align: right;\n",
       "    }\n",
       "</style>\n",
       "<table border=\"1\" class=\"dataframe\">\n",
       "  <thead>\n",
       "    <tr style=\"text-align: right;\">\n",
       "      <th></th>\n",
       "      <th>customer</th>\n",
       "      <th>category</th>\n",
       "      <th>important</th>\n",
       "      <th>sales</th>\n",
       "    </tr>\n",
       "  </thead>\n",
       "  <tbody>\n",
       "    <tr>\n",
       "      <th>0</th>\n",
       "      <td>101</td>\n",
       "      <td>cat2</td>\n",
       "      <td>yes</td>\n",
       "      <td>123</td>\n",
       "    </tr>\n",
       "    <tr>\n",
       "      <th>1</th>\n",
       "      <td>102</td>\n",
       "      <td>cat2</td>\n",
       "      <td>no</td>\n",
       "      <td>52</td>\n",
       "    </tr>\n",
       "    <tr>\n",
       "      <th>2</th>\n",
       "      <td>103</td>\n",
       "      <td>cat1</td>\n",
       "      <td>yes</td>\n",
       "      <td>214</td>\n",
       "    </tr>\n",
       "    <tr>\n",
       "      <th>3</th>\n",
       "      <td>104</td>\n",
       "      <td>cat3</td>\n",
       "      <td>yes</td>\n",
       "      <td>663</td>\n",
       "    </tr>\n",
       "    <tr>\n",
       "      <th>4</th>\n",
       "      <td>101</td>\n",
       "      <td>cat2</td>\n",
       "      <td>yes</td>\n",
       "      <td>204</td>\n",
       "    </tr>\n",
       "    <tr>\n",
       "      <th>5</th>\n",
       "      <td>103</td>\n",
       "      <td>cat1</td>\n",
       "      <td>yes</td>\n",
       "      <td>453</td>\n",
       "    </tr>\n",
       "  </tbody>\n",
       "</table>\n",
       "</div>"
      ],
      "text/plain": [
       "   customer category important  sales\n",
       "0       101     cat2       yes    123\n",
       "1       102     cat2        no     52\n",
       "2       103     cat1       yes    214\n",
       "3       104     cat3       yes    663\n",
       "4       101     cat2       yes    204\n",
       "5       103     cat1       yes    453"
      ]
     },
     "execution_count": 236,
     "metadata": {},
     "output_type": "execute_result"
    }
   ],
   "source": [
    "data_customer = pd.DataFrame({'customer': [101, 102, 103, 104 ,101, 103]\n",
    "                              ,'category': ['cat2', 'cat2', 'cat1', 'cat3', 'cat2', 'cat1']\n",
    "                              ,'important': ['yes', 'no', 'yes', 'yes', 'yes', 'yes']\n",
    "                              ,'sales': [123, 52, 214, 663, 204, 453]})\n",
    "data_customer"
   ]
  },
  {
   "cell_type": "code",
   "execution_count": 192,
   "metadata": {},
   "outputs": [
    {
     "data": {
      "text/plain": [
       "cat2    2\n",
       "cat1    1\n",
       "cat3    1\n",
       "Name: category, dtype: int64"
      ]
     },
     "execution_count": 192,
     "metadata": {},
     "output_type": "execute_result"
    }
   ],
   "source": [
    "# data_customer(['category'])['customer'].value_counts()\n",
    "data_customer['category'].value_counts()"
   ]
  },
  {
   "cell_type": "code",
   "execution_count": 194,
   "metadata": {},
   "outputs": [
    {
     "ename": "TypeError",
     "evalue": "'DataFrame' object is not callable",
     "output_type": "error",
     "traceback": [
      "\u001b[1;31m---------------------------------------------------------------------------\u001b[0m",
      "\u001b[1;31mTypeError\u001b[0m                                 Traceback (most recent call last)",
      "Cell \u001b[1;32mIn[194], line 1\u001b[0m\n\u001b[1;32m----> 1\u001b[0m data_customer([\u001b[39m'\u001b[39;49m\u001b[39mcategory\u001b[39;49m\u001b[39m'\u001b[39;49m])[\u001b[39m'\u001b[39m\u001b[39mcustomer\u001b[39m\u001b[39m'\u001b[39m]\u001b[39m.\u001b[39mvalue_counts()\n",
      "\u001b[1;31mTypeError\u001b[0m: 'DataFrame' object is not callable"
     ]
    }
   ],
   "source": [
    "data_customer(['category'])['customer'].value_counts()"
   ]
  },
  {
   "cell_type": "markdown",
   "metadata": {},
   "source": []
  },
  {
   "cell_type": "code",
   "execution_count": 198,
   "metadata": {},
   "outputs": [
    {
     "data": {
      "text/html": [
       "<div>\n",
       "<style scoped>\n",
       "    .dataframe tbody tr th:only-of-type {\n",
       "        vertical-align: middle;\n",
       "    }\n",
       "\n",
       "    .dataframe tbody tr th {\n",
       "        vertical-align: top;\n",
       "    }\n",
       "\n",
       "    .dataframe thead th {\n",
       "        text-align: right;\n",
       "    }\n",
       "</style>\n",
       "<table border=\"1\" class=\"dataframe\">\n",
       "  <thead>\n",
       "    <tr style=\"text-align: right;\">\n",
       "      <th></th>\n",
       "      <th>customer</th>\n",
       "      <th>category</th>\n",
       "      <th>important</th>\n",
       "      <th>sales</th>\n",
       "    </tr>\n",
       "  </thead>\n",
       "  <tbody>\n",
       "    <tr>\n",
       "      <th>3</th>\n",
       "      <td>104</td>\n",
       "      <td>cat3</td>\n",
       "      <td>yes</td>\n",
       "      <td>663</td>\n",
       "    </tr>\n",
       "    <tr>\n",
       "      <th>2</th>\n",
       "      <td>103</td>\n",
       "      <td>cat1</td>\n",
       "      <td>yes</td>\n",
       "      <td>214</td>\n",
       "    </tr>\n",
       "    <tr>\n",
       "      <th>0</th>\n",
       "      <td>101</td>\n",
       "      <td>cat2</td>\n",
       "      <td>yes</td>\n",
       "      <td>123</td>\n",
       "    </tr>\n",
       "    <tr>\n",
       "      <th>1</th>\n",
       "      <td>102</td>\n",
       "      <td>cat2</td>\n",
       "      <td>no</td>\n",
       "      <td>52</td>\n",
       "    </tr>\n",
       "  </tbody>\n",
       "</table>\n",
       "</div>"
      ],
      "text/plain": [
       "   customer category important  sales\n",
       "3       104     cat3       yes    663\n",
       "2       103     cat1       yes    214\n",
       "0       101     cat2       yes    123\n",
       "1       102     cat2        no     52"
      ]
     },
     "execution_count": 198,
     "metadata": {},
     "output_type": "execute_result"
    }
   ],
   "source": [
    "data_customer.sort_values(by = 'sales', ascending = False)"
   ]
  },
  {
   "cell_type": "code",
   "execution_count": 205,
   "metadata": {},
   "outputs": [
    {
     "ename": "SyntaxError",
     "evalue": "invalid syntax (2777647647.py, line 1)",
     "output_type": "error",
     "traceback": [
      "\u001b[1;36m  Cell \u001b[1;32mIn[205], line 1\u001b[1;36m\u001b[0m\n\u001b[1;33m    data_customer.iloc[[1:3],[0,4]]\u001b[0m\n\u001b[1;37m                         ^\u001b[0m\n\u001b[1;31mSyntaxError\u001b[0m\u001b[1;31m:\u001b[0m invalid syntax\n"
     ]
    }
   ],
   "source": [
    "data_customer.iloc[[1:3],[0,4]]"
   ]
  },
  {
   "cell_type": "code",
   "execution_count": 221,
   "metadata": {},
   "outputs": [
    {
     "data": {
      "text/html": [
       "<div>\n",
       "<style scoped>\n",
       "    .dataframe tbody tr th:only-of-type {\n",
       "        vertical-align: middle;\n",
       "    }\n",
       "\n",
       "    .dataframe tbody tr th {\n",
       "        vertical-align: top;\n",
       "    }\n",
       "\n",
       "    .dataframe thead th {\n",
       "        text-align: right;\n",
       "    }\n",
       "</style>\n",
       "<table border=\"1\" class=\"dataframe\">\n",
       "  <thead>\n",
       "    <tr style=\"text-align: right;\">\n",
       "      <th></th>\n",
       "      <th>customer</th>\n",
       "      <th>sales</th>\n",
       "    </tr>\n",
       "  </thead>\n",
       "  <tbody>\n",
       "    <tr>\n",
       "      <th>1</th>\n",
       "      <td>102</td>\n",
       "      <td>52</td>\n",
       "    </tr>\n",
       "    <tr>\n",
       "      <th>2</th>\n",
       "      <td>103</td>\n",
       "      <td>214</td>\n",
       "    </tr>\n",
       "    <tr>\n",
       "      <th>3</th>\n",
       "      <td>104</td>\n",
       "      <td>663</td>\n",
       "    </tr>\n",
       "  </tbody>\n",
       "</table>\n",
       "</div>"
      ],
      "text/plain": [
       "   customer  sales\n",
       "1       102     52\n",
       "2       103    214\n",
       "3       104    663"
      ]
     },
     "execution_count": 221,
     "metadata": {},
     "output_type": "execute_result"
    }
   ],
   "source": [
    "\n",
    "# store_data.loc[[1,4],['location','type']]"
   ]
  },
  {
   "cell_type": "code",
   "execution_count": 219,
   "metadata": {},
   "outputs": [
    {
     "ename": "KeyError",
     "evalue": "\"None of [Int64Index([0, 3], dtype='int64')] are in the [columns]\"",
     "output_type": "error",
     "traceback": [
      "\u001b[1;31m---------------------------------------------------------------------------\u001b[0m",
      "\u001b[1;31mKeyError\u001b[0m                                  Traceback (most recent call last)",
      "Cell \u001b[1;32mIn[219], line 1\u001b[0m\n\u001b[1;32m----> 1\u001b[0m data_customer\u001b[39m.\u001b[39;49mloc[[\u001b[39m1\u001b[39;49m,\u001b[39m2\u001b[39;49m],[\u001b[39m0\u001b[39;49m,\u001b[39m3\u001b[39;49m]]\n",
      "File \u001b[1;32mc:\\Users\\BoboDS\\.conda\\envs\\GreatLearn1\\lib\\site-packages\\pandas\\core\\indexing.py:1067\u001b[0m, in \u001b[0;36m_LocationIndexer.__getitem__\u001b[1;34m(self, key)\u001b[0m\n\u001b[0;32m   1065\u001b[0m     \u001b[39mif\u001b[39;00m \u001b[39mself\u001b[39m\u001b[39m.\u001b[39m_is_scalar_access(key):\n\u001b[0;32m   1066\u001b[0m         \u001b[39mreturn\u001b[39;00m \u001b[39mself\u001b[39m\u001b[39m.\u001b[39mobj\u001b[39m.\u001b[39m_get_value(\u001b[39m*\u001b[39mkey, takeable\u001b[39m=\u001b[39m\u001b[39mself\u001b[39m\u001b[39m.\u001b[39m_takeable)\n\u001b[1;32m-> 1067\u001b[0m     \u001b[39mreturn\u001b[39;00m \u001b[39mself\u001b[39;49m\u001b[39m.\u001b[39;49m_getitem_tuple(key)\n\u001b[0;32m   1068\u001b[0m \u001b[39melse\u001b[39;00m:\n\u001b[0;32m   1069\u001b[0m     \u001b[39m# we by definition only have the 0th axis\u001b[39;00m\n\u001b[0;32m   1070\u001b[0m     axis \u001b[39m=\u001b[39m \u001b[39mself\u001b[39m\u001b[39m.\u001b[39maxis \u001b[39mor\u001b[39;00m \u001b[39m0\u001b[39m\n",
      "File \u001b[1;32mc:\\Users\\BoboDS\\.conda\\envs\\GreatLearn1\\lib\\site-packages\\pandas\\core\\indexing.py:1254\u001b[0m, in \u001b[0;36m_LocIndexer._getitem_tuple\u001b[1;34m(self, tup)\u001b[0m\n\u001b[0;32m   1252\u001b[0m \u001b[39m# ugly hack for GH #836\u001b[39;00m\n\u001b[0;32m   1253\u001b[0m \u001b[39mif\u001b[39;00m \u001b[39mself\u001b[39m\u001b[39m.\u001b[39m_multi_take_opportunity(tup):\n\u001b[1;32m-> 1254\u001b[0m     \u001b[39mreturn\u001b[39;00m \u001b[39mself\u001b[39;49m\u001b[39m.\u001b[39;49m_multi_take(tup)\n\u001b[0;32m   1256\u001b[0m \u001b[39mreturn\u001b[39;00m \u001b[39mself\u001b[39m\u001b[39m.\u001b[39m_getitem_tuple_same_dim(tup)\n",
      "File \u001b[1;32mc:\\Users\\BoboDS\\.conda\\envs\\GreatLearn1\\lib\\site-packages\\pandas\\core\\indexing.py:1205\u001b[0m, in \u001b[0;36m_LocIndexer._multi_take\u001b[1;34m(self, tup)\u001b[0m\n\u001b[0;32m   1189\u001b[0m \u001b[39m\"\"\"\u001b[39;00m\n\u001b[0;32m   1190\u001b[0m \u001b[39mCreate the indexers for the passed tuple of keys, and\u001b[39;00m\n\u001b[0;32m   1191\u001b[0m \u001b[39mexecutes the take operation. This allows the take operation to be\u001b[39;00m\n\u001b[1;32m   (...)\u001b[0m\n\u001b[0;32m   1202\u001b[0m \u001b[39mvalues: same type as the object being indexed\u001b[39;00m\n\u001b[0;32m   1203\u001b[0m \u001b[39m\"\"\"\u001b[39;00m\n\u001b[0;32m   1204\u001b[0m \u001b[39m# GH 836\u001b[39;00m\n\u001b[1;32m-> 1205\u001b[0m d \u001b[39m=\u001b[39m {\n\u001b[0;32m   1206\u001b[0m     axis: \u001b[39mself\u001b[39m\u001b[39m.\u001b[39m_get_listlike_indexer(key, axis)\n\u001b[0;32m   1207\u001b[0m     \u001b[39mfor\u001b[39;00m (key, axis) \u001b[39min\u001b[39;00m \u001b[39mzip\u001b[39m(tup, \u001b[39mself\u001b[39m\u001b[39m.\u001b[39mobj\u001b[39m.\u001b[39m_AXIS_ORDERS)\n\u001b[0;32m   1208\u001b[0m }\n\u001b[0;32m   1209\u001b[0m \u001b[39mreturn\u001b[39;00m \u001b[39mself\u001b[39m\u001b[39m.\u001b[39mobj\u001b[39m.\u001b[39m_reindex_with_indexers(d, copy\u001b[39m=\u001b[39m\u001b[39mTrue\u001b[39;00m, allow_dups\u001b[39m=\u001b[39m\u001b[39mTrue\u001b[39;00m)\n",
      "File \u001b[1;32mc:\\Users\\BoboDS\\.conda\\envs\\GreatLearn1\\lib\\site-packages\\pandas\\core\\indexing.py:1206\u001b[0m, in \u001b[0;36m<dictcomp>\u001b[1;34m(.0)\u001b[0m\n\u001b[0;32m   1189\u001b[0m \u001b[39m\"\"\"\u001b[39;00m\n\u001b[0;32m   1190\u001b[0m \u001b[39mCreate the indexers for the passed tuple of keys, and\u001b[39;00m\n\u001b[0;32m   1191\u001b[0m \u001b[39mexecutes the take operation. This allows the take operation to be\u001b[39;00m\n\u001b[1;32m   (...)\u001b[0m\n\u001b[0;32m   1202\u001b[0m \u001b[39mvalues: same type as the object being indexed\u001b[39;00m\n\u001b[0;32m   1203\u001b[0m \u001b[39m\"\"\"\u001b[39;00m\n\u001b[0;32m   1204\u001b[0m \u001b[39m# GH 836\u001b[39;00m\n\u001b[0;32m   1205\u001b[0m d \u001b[39m=\u001b[39m {\n\u001b[1;32m-> 1206\u001b[0m     axis: \u001b[39mself\u001b[39;49m\u001b[39m.\u001b[39;49m_get_listlike_indexer(key, axis)\n\u001b[0;32m   1207\u001b[0m     \u001b[39mfor\u001b[39;00m (key, axis) \u001b[39min\u001b[39;00m \u001b[39mzip\u001b[39m(tup, \u001b[39mself\u001b[39m\u001b[39m.\u001b[39mobj\u001b[39m.\u001b[39m_AXIS_ORDERS)\n\u001b[0;32m   1208\u001b[0m }\n\u001b[0;32m   1209\u001b[0m \u001b[39mreturn\u001b[39;00m \u001b[39mself\u001b[39m\u001b[39m.\u001b[39mobj\u001b[39m.\u001b[39m_reindex_with_indexers(d, copy\u001b[39m=\u001b[39m\u001b[39mTrue\u001b[39;00m, allow_dups\u001b[39m=\u001b[39m\u001b[39mTrue\u001b[39;00m)\n",
      "File \u001b[1;32mc:\\Users\\BoboDS\\.conda\\envs\\GreatLearn1\\lib\\site-packages\\pandas\\core\\indexing.py:1432\u001b[0m, in \u001b[0;36m_LocIndexer._get_listlike_indexer\u001b[1;34m(self, key, axis)\u001b[0m\n\u001b[0;32m   1429\u001b[0m ax \u001b[39m=\u001b[39m \u001b[39mself\u001b[39m\u001b[39m.\u001b[39mobj\u001b[39m.\u001b[39m_get_axis(axis)\n\u001b[0;32m   1430\u001b[0m axis_name \u001b[39m=\u001b[39m \u001b[39mself\u001b[39m\u001b[39m.\u001b[39mobj\u001b[39m.\u001b[39m_get_axis_name(axis)\n\u001b[1;32m-> 1432\u001b[0m keyarr, indexer \u001b[39m=\u001b[39m ax\u001b[39m.\u001b[39;49m_get_indexer_strict(key, axis_name)\n\u001b[0;32m   1434\u001b[0m \u001b[39mreturn\u001b[39;00m keyarr, indexer\n",
      "File \u001b[1;32mc:\\Users\\BoboDS\\.conda\\envs\\GreatLearn1\\lib\\site-packages\\pandas\\core\\indexes\\base.py:6070\u001b[0m, in \u001b[0;36mIndex._get_indexer_strict\u001b[1;34m(self, key, axis_name)\u001b[0m\n\u001b[0;32m   6067\u001b[0m \u001b[39melse\u001b[39;00m:\n\u001b[0;32m   6068\u001b[0m     keyarr, indexer, new_indexer \u001b[39m=\u001b[39m \u001b[39mself\u001b[39m\u001b[39m.\u001b[39m_reindex_non_unique(keyarr)\n\u001b[1;32m-> 6070\u001b[0m \u001b[39mself\u001b[39;49m\u001b[39m.\u001b[39;49m_raise_if_missing(keyarr, indexer, axis_name)\n\u001b[0;32m   6072\u001b[0m keyarr \u001b[39m=\u001b[39m \u001b[39mself\u001b[39m\u001b[39m.\u001b[39mtake(indexer)\n\u001b[0;32m   6073\u001b[0m \u001b[39mif\u001b[39;00m \u001b[39misinstance\u001b[39m(key, Index):\n\u001b[0;32m   6074\u001b[0m     \u001b[39m# GH 42790 - Preserve name from an Index\u001b[39;00m\n",
      "File \u001b[1;32mc:\\Users\\BoboDS\\.conda\\envs\\GreatLearn1\\lib\\site-packages\\pandas\\core\\indexes\\base.py:6130\u001b[0m, in \u001b[0;36mIndex._raise_if_missing\u001b[1;34m(self, key, indexer, axis_name)\u001b[0m\n\u001b[0;32m   6128\u001b[0m     \u001b[39mif\u001b[39;00m use_interval_msg:\n\u001b[0;32m   6129\u001b[0m         key \u001b[39m=\u001b[39m \u001b[39mlist\u001b[39m(key)\n\u001b[1;32m-> 6130\u001b[0m     \u001b[39mraise\u001b[39;00m \u001b[39mKeyError\u001b[39;00m(\u001b[39mf\u001b[39m\u001b[39m\"\u001b[39m\u001b[39mNone of [\u001b[39m\u001b[39m{\u001b[39;00mkey\u001b[39m}\u001b[39;00m\u001b[39m] are in the [\u001b[39m\u001b[39m{\u001b[39;00maxis_name\u001b[39m}\u001b[39;00m\u001b[39m]\u001b[39m\u001b[39m\"\u001b[39m)\n\u001b[0;32m   6132\u001b[0m not_found \u001b[39m=\u001b[39m \u001b[39mlist\u001b[39m(ensure_index(key)[missing_mask\u001b[39m.\u001b[39mnonzero()[\u001b[39m0\u001b[39m]]\u001b[39m.\u001b[39munique())\n\u001b[0;32m   6133\u001b[0m \u001b[39mraise\u001b[39;00m \u001b[39mKeyError\u001b[39;00m(\u001b[39mf\u001b[39m\u001b[39m\"\u001b[39m\u001b[39m{\u001b[39;00mnot_found\u001b[39m}\u001b[39;00m\u001b[39m not in index\u001b[39m\u001b[39m\"\u001b[39m)\n",
      "\u001b[1;31mKeyError\u001b[0m: \"None of [Int64Index([0, 3], dtype='int64')] are in the [columns]\""
     ]
    }
   ],
   "source": [
    "data_customer.loc[[1,2],[0,3]]# This doesn't work because loc only uses labels"
   ]
  },
  {
   "cell_type": "code",
   "execution_count": 216,
   "metadata": {},
   "outputs": [
    {
     "ename": "SyntaxError",
     "evalue": "invalid syntax (316477982.py, line 1)",
     "output_type": "error",
     "traceback": [
      "\u001b[1;36m  Cell \u001b[1;32mIn[216], line 1\u001b[1;36m\u001b[0m\n\u001b[1;33m    data_customer.loc[[1:3], ['customer', 'sales']]\u001b[0m\n\u001b[1;37m                        ^\u001b[0m\n\u001b[1;31mSyntaxError\u001b[0m\u001b[1;31m:\u001b[0m invalid syntax\n"
     ]
    }
   ],
   "source": [
    "data_customer.loc[[1:3], ['customer', 'sales']]"
   ]
  },
  {
   "cell_type": "code",
   "execution_count": 218,
   "metadata": {},
   "outputs": [
    {
     "data": {
      "text/html": [
       "<div>\n",
       "<style scoped>\n",
       "    .dataframe tbody tr th:only-of-type {\n",
       "        vertical-align: middle;\n",
       "    }\n",
       "\n",
       "    .dataframe tbody tr th {\n",
       "        vertical-align: top;\n",
       "    }\n",
       "\n",
       "    .dataframe thead th {\n",
       "        text-align: right;\n",
       "    }\n",
       "</style>\n",
       "<table border=\"1\" class=\"dataframe\">\n",
       "  <thead>\n",
       "    <tr style=\"text-align: right;\">\n",
       "      <th></th>\n",
       "      <th>customer</th>\n",
       "      <th>sales</th>\n",
       "    </tr>\n",
       "  </thead>\n",
       "  <tbody>\n",
       "    <tr>\n",
       "      <th>1</th>\n",
       "      <td>102</td>\n",
       "      <td>52</td>\n",
       "    </tr>\n",
       "    <tr>\n",
       "      <th>2</th>\n",
       "      <td>103</td>\n",
       "      <td>214</td>\n",
       "    </tr>\n",
       "    <tr>\n",
       "      <th>3</th>\n",
       "      <td>104</td>\n",
       "      <td>663</td>\n",
       "    </tr>\n",
       "  </tbody>\n",
       "</table>\n",
       "</div>"
      ],
      "text/plain": [
       "   customer  sales\n",
       "1       102     52\n",
       "2       103    214\n",
       "3       104    663"
      ]
     },
     "execution_count": 218,
     "metadata": {},
     "output_type": "execute_result"
    }
   ],
   "source": [
    "data_customer.loc[1:3, ['customer', 'sales']]"
   ]
  },
  {
   "cell_type": "code",
   "execution_count": 235,
   "metadata": {},
   "outputs": [
    {
     "data": {
      "text/html": [
       "<div>\n",
       "<style scoped>\n",
       "    .dataframe tbody tr th:only-of-type {\n",
       "        vertical-align: middle;\n",
       "    }\n",
       "\n",
       "    .dataframe tbody tr th {\n",
       "        vertical-align: top;\n",
       "    }\n",
       "\n",
       "    .dataframe thead th {\n",
       "        text-align: right;\n",
       "    }\n",
       "</style>\n",
       "<table border=\"1\" class=\"dataframe\">\n",
       "  <thead>\n",
       "    <tr style=\"text-align: right;\">\n",
       "      <th></th>\n",
       "      <th>customer</th>\n",
       "      <th>sales</th>\n",
       "    </tr>\n",
       "  </thead>\n",
       "  <tbody>\n",
       "    <tr>\n",
       "      <th>1</th>\n",
       "      <td>102</td>\n",
       "      <td>52</td>\n",
       "    </tr>\n",
       "    <tr>\n",
       "      <th>2</th>\n",
       "      <td>103</td>\n",
       "      <td>214</td>\n",
       "    </tr>\n",
       "  </tbody>\n",
       "</table>\n",
       "</div>"
      ],
      "text/plain": [
       "   customer  sales\n",
       "1       102     52\n",
       "2       103    214"
      ]
     },
     "execution_count": 235,
     "metadata": {},
     "output_type": "execute_result"
    }
   ],
   "source": [
    "data_customer.loc[[1,2], ['customer', 'sales']]\n",
    "# data_customer.loc[[1,3],['customer', 'sales']]"
   ]
  },
  {
   "cell_type": "code",
   "execution_count": 239,
   "metadata": {},
   "outputs": [
    {
     "data": {
      "text/plain": [
       "customer\n",
       "101    163.5\n",
       "102     52.0\n",
       "103    333.5\n",
       "104    663.0\n",
       "Name: sales, dtype: float64"
      ]
     },
     "execution_count": 239,
     "metadata": {},
     "output_type": "execute_result"
    }
   ],
   "source": [
    "data_customer.groupby(['customer'])['sales'].mean()"
   ]
  },
  {
   "cell_type": "code",
   "execution_count": null,
   "metadata": {},
   "outputs": [],
   "source": []
  }
 ],
 "metadata": {
  "kernelspec": {
   "display_name": "GreatLearn1",
   "language": "python",
   "name": "python3"
  },
  "language_info": {
   "codemirror_mode": {
    "name": "ipython",
    "version": 3
   },
   "file_extension": ".py",
   "mimetype": "text/x-python",
   "name": "python",
   "nbconvert_exporter": "python",
   "pygments_lexer": "ipython3",
   "version": "3.9.13"
  },
  "orig_nbformat": 4
 },
 "nbformat": 4,
 "nbformat_minor": 2
}
